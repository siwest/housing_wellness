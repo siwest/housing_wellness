{
 "cells": [
  {
   "cell_type": "markdown",
   "metadata": {
    "nbpresent": {
     "id": "069b7770-73d5-4b35-84c4-83a19aa1c2cc"
    }
   },
   "source": [
    "# Exploring Zillow Data"
   ]
  },
  {
   "cell_type": "code",
   "execution_count": 1,
   "metadata": {
    "collapsed": true,
    "nbpresent": {
     "id": "67289067-29e7-4903-96d3-4601cff9bec7"
    }
   },
   "outputs": [],
   "source": [
    "import matplotlib\n",
    "import numpy as np\n",
    "import pandas as pd\n",
    "%matplotlib inline"
   ]
  },
  {
   "cell_type": "code",
   "execution_count": 2,
   "metadata": {
    "nbpresent": {
     "id": "c8dd35ff-0dce-4f26-af5a-0343a2351d1e"
    }
   },
   "outputs": [
    {
     "data": {
      "text/html": [
       "<div>\n",
       "<style>\n",
       "    .dataframe thead tr:only-child th {\n",
       "        text-align: right;\n",
       "    }\n",
       "\n",
       "    .dataframe thead th {\n",
       "        text-align: left;\n",
       "    }\n",
       "\n",
       "    .dataframe tbody tr th {\n",
       "        vertical-align: top;\n",
       "    }\n",
       "</style>\n",
       "<table border=\"1\" class=\"dataframe\">\n",
       "  <thead>\n",
       "    <tr style=\"text-align: right;\">\n",
       "      <th></th>\n",
       "      <th>Date</th>\n",
       "      <th>RegionID</th>\n",
       "      <th>RegionName</th>\n",
       "      <th>State</th>\n",
       "      <th>Metro</th>\n",
       "      <th>County</th>\n",
       "      <th>City</th>\n",
       "      <th>SizeRank</th>\n",
       "      <th>Zhvi</th>\n",
       "      <th>MoM</th>\n",
       "      <th>QoQ</th>\n",
       "      <th>YoY</th>\n",
       "      <th>5Year</th>\n",
       "      <th>10Year</th>\n",
       "      <th>PeakMonth</th>\n",
       "      <th>PeakQuarter</th>\n",
       "      <th>PeakZHVI</th>\n",
       "      <th>PctFallFromPeak</th>\n",
       "      <th>LastTimeAtCurrZHVI</th>\n",
       "      <th>County and state</th>\n",
       "    </tr>\n",
       "  </thead>\n",
       "  <tbody>\n",
       "    <tr>\n",
       "      <th>0</th>\n",
       "      <td>2017-05-31</td>\n",
       "      <td>61639</td>\n",
       "      <td>10025</td>\n",
       "      <td>NY</td>\n",
       "      <td>New York</td>\n",
       "      <td>New York</td>\n",
       "      <td>New York</td>\n",
       "      <td>0</td>\n",
       "      <td>1178700</td>\n",
       "      <td>0.030602</td>\n",
       "      <td>0.051097</td>\n",
       "      <td>0.108739</td>\n",
       "      <td>0.0888014</td>\n",
       "      <td>0.049093</td>\n",
       "      <td>2017-05</td>\n",
       "      <td>2017-Q2</td>\n",
       "      <td>1178700</td>\n",
       "      <td>0.000000</td>\n",
       "      <td>2017-05</td>\n",
       "      <td>New York, NY</td>\n",
       "    </tr>\n",
       "    <tr>\n",
       "      <th>1</th>\n",
       "      <td>2017-05-31</td>\n",
       "      <td>84654</td>\n",
       "      <td>60657</td>\n",
       "      <td>IL</td>\n",
       "      <td>Chicago</td>\n",
       "      <td>Cook</td>\n",
       "      <td>Chicago</td>\n",
       "      <td>1</td>\n",
       "      <td>327700</td>\n",
       "      <td>0.005523</td>\n",
       "      <td>0.017070</td>\n",
       "      <td>0.0311517</td>\n",
       "      <td>0.0455279</td>\n",
       "      <td>0.00216158</td>\n",
       "      <td>2017-05</td>\n",
       "      <td>2017-Q2</td>\n",
       "      <td>327700</td>\n",
       "      <td>0.000000</td>\n",
       "      <td>2017-05</td>\n",
       "      <td>Cook, IL</td>\n",
       "    </tr>\n",
       "    <tr>\n",
       "      <th>2</th>\n",
       "      <td>2017-05-31</td>\n",
       "      <td>84616</td>\n",
       "      <td>60614</td>\n",
       "      <td>IL</td>\n",
       "      <td>Chicago</td>\n",
       "      <td>Cook</td>\n",
       "      <td>Chicago</td>\n",
       "      <td>2</td>\n",
       "      <td>401900</td>\n",
       "      <td>-0.008633</td>\n",
       "      <td>-0.040124</td>\n",
       "      <td>-0.00519802</td>\n",
       "      <td>0.0450681</td>\n",
       "      <td>0.002856</td>\n",
       "      <td>2017-02</td>\n",
       "      <td>2017-Q1</td>\n",
       "      <td>418700</td>\n",
       "      <td>-0.040124</td>\n",
       "      <td>2016-09</td>\n",
       "      <td>Cook, IL</td>\n",
       "    </tr>\n",
       "    <tr>\n",
       "      <th>3</th>\n",
       "      <td>2017-05-31</td>\n",
       "      <td>93144</td>\n",
       "      <td>79936</td>\n",
       "      <td>TX</td>\n",
       "      <td>El Paso</td>\n",
       "      <td>El Paso</td>\n",
       "      <td>El Paso</td>\n",
       "      <td>3</td>\n",
       "      <td>114800</td>\n",
       "      <td>0.000872</td>\n",
       "      <td>-0.001739</td>\n",
       "      <td>0.025</td>\n",
       "      <td>0.00228033</td>\n",
       "      <td>-0.0115944</td>\n",
       "      <td>2007-12</td>\n",
       "      <td>2007-Q4</td>\n",
       "      <td>131100</td>\n",
       "      <td>-0.124333</td>\n",
       "      <td>2006-09</td>\n",
       "      <td>El Paso, TX</td>\n",
       "    </tr>\n",
       "    <tr>\n",
       "      <th>4</th>\n",
       "      <td>2017-05-31</td>\n",
       "      <td>84640</td>\n",
       "      <td>60640</td>\n",
       "      <td>IL</td>\n",
       "      <td>Chicago</td>\n",
       "      <td>Cook</td>\n",
       "      <td>Chicago</td>\n",
       "      <td>4</td>\n",
       "      <td>205700</td>\n",
       "      <td>-0.004356</td>\n",
       "      <td>0.002437</td>\n",
       "      <td>0.0505618</td>\n",
       "      <td>0.0484064</td>\n",
       "      <td>-0.014355</td>\n",
       "      <td>2007-02</td>\n",
       "      <td>2007-Q1</td>\n",
       "      <td>237800</td>\n",
       "      <td>-0.134987</td>\n",
       "      <td>2003-06</td>\n",
       "      <td>Cook, IL</td>\n",
       "    </tr>\n",
       "  </tbody>\n",
       "</table>\n",
       "</div>"
      ],
      "text/plain": [
       "         Date  RegionID  RegionName State     Metro    County      City  \\\n",
       "0  2017-05-31     61639       10025    NY  New York  New York  New York   \n",
       "1  2017-05-31     84654       60657    IL   Chicago      Cook   Chicago   \n",
       "2  2017-05-31     84616       60614    IL   Chicago      Cook   Chicago   \n",
       "3  2017-05-31     93144       79936    TX   El Paso   El Paso   El Paso   \n",
       "4  2017-05-31     84640       60640    IL   Chicago      Cook   Chicago   \n",
       "\n",
       "   SizeRank     Zhvi       MoM       QoQ         YoY       5Year      10Year  \\\n",
       "0         0  1178700  0.030602  0.051097    0.108739   0.0888014    0.049093   \n",
       "1         1   327700  0.005523  0.017070   0.0311517   0.0455279  0.00216158   \n",
       "2         2   401900 -0.008633 -0.040124 -0.00519802   0.0450681    0.002856   \n",
       "3         3   114800  0.000872 -0.001739       0.025  0.00228033  -0.0115944   \n",
       "4         4   205700 -0.004356  0.002437   0.0505618   0.0484064   -0.014355   \n",
       "\n",
       "  PeakMonth PeakQuarter  PeakZHVI  PctFallFromPeak LastTimeAtCurrZHVI  \\\n",
       "0   2017-05     2017-Q2   1178700         0.000000            2017-05   \n",
       "1   2017-05     2017-Q2    327700         0.000000            2017-05   \n",
       "2   2017-02     2017-Q1    418700        -0.040124            2016-09   \n",
       "3   2007-12     2007-Q4    131100        -0.124333            2006-09   \n",
       "4   2007-02     2007-Q1    237800        -0.134987            2003-06   \n",
       "\n",
       "  County and state  \n",
       "0     New York, NY  \n",
       "1         Cook, IL  \n",
       "2         Cook, IL  \n",
       "3      El Paso, TX  \n",
       "4         Cook, IL  "
      ]
     },
     "execution_count": 2,
     "metadata": {},
     "output_type": "execute_result"
    }
   ],
   "source": [
    "zillow_data = pd.read_csv('http://files.zillowstatic.com/research/public/Zip/Zip_Zhvi_Summary_AllHomes.csv')\n",
    "zillow_data.fillna(\"\", inplace=True)\n",
    "zillow_data[\"County and state\"] = zillow_data[\"County\"] + \", \" + zillow_data[\"State\"]\n",
    "zillow_data.head()"
   ]
  },
  {
   "cell_type": "code",
   "execution_count": 3,
   "metadata": {},
   "outputs": [],
   "source": [
    "census_data = pd.read_excel('https://www.census.gov/did/www/saipe/downloads/estmod15/est15ALL.xls')\n",
    "census_data.columns = census_data.iloc[2] # Renames columns - found in 3rd row of source file\n",
    "census_data.drop(census_data.index[:3], inplace=True)\n",
    "census_data[\"County and state\"] = census_data[\"Name\"] + \", \" + census_data[\"Postal Code\"]"
   ]
  },
  {
   "cell_type": "markdown",
   "metadata": {},
   "source": [
    "### Worst places to live (as determined using mean income)"
   ]
  },
  {
   "cell_type": "code",
   "execution_count": 4,
   "metadata": {
    "scrolled": true
   },
   "outputs": [
    {
     "data": {
      "text/html": [
       "<div>\n",
       "<style>\n",
       "    .dataframe thead tr:only-child th {\n",
       "        text-align: right;\n",
       "    }\n",
       "\n",
       "    .dataframe thead th {\n",
       "        text-align: left;\n",
       "    }\n",
       "\n",
       "    .dataframe tbody tr th {\n",
       "        vertical-align: top;\n",
       "    }\n",
       "</style>\n",
       "<table border=\"1\" class=\"dataframe\">\n",
       "  <thead>\n",
       "    <tr style=\"text-align: right;\">\n",
       "      <th></th>\n",
       "      <th></th>\n",
       "      <th>housing_index</th>\n",
       "    </tr>\n",
       "    <tr>\n",
       "      <th>County</th>\n",
       "      <th>State</th>\n",
       "      <th></th>\n",
       "    </tr>\n",
       "  </thead>\n",
       "  <tbody>\n",
       "    <tr>\n",
       "      <th>New York</th>\n",
       "      <th>NY</th>\n",
       "      <td>22.423869</td>\n",
       "    </tr>\n",
       "    <tr>\n",
       "      <th>District of Columbia</th>\n",
       "      <th>DC</th>\n",
       "      <td>8.171927</td>\n",
       "    </tr>\n",
       "    <tr>\n",
       "      <th>Carson City</th>\n",
       "      <th>NV</th>\n",
       "      <td>6.070403</td>\n",
       "    </tr>\n",
       "    <tr>\n",
       "      <th>Hawaii</th>\n",
       "      <th>HI</th>\n",
       "      <td>4.869083</td>\n",
       "    </tr>\n",
       "    <tr>\n",
       "      <th>Utah</th>\n",
       "      <th>UT</th>\n",
       "      <td>4.472837</td>\n",
       "    </tr>\n",
       "    <tr>\n",
       "      <th>Oklahoma</th>\n",
       "      <th>OK</th>\n",
       "      <td>3.051211</td>\n",
       "    </tr>\n",
       "  </tbody>\n",
       "</table>\n",
       "</div>"
      ],
      "text/plain": [
       "                            housing_index\n",
       "County               State               \n",
       "New York             NY         22.423869\n",
       "District of Columbia DC          8.171927\n",
       "Carson City          NV          6.070403\n",
       "Hawaii               HI          4.869083\n",
       "Utah                 UT          4.472837\n",
       "Oklahoma             OK          3.051211"
      ]
     },
     "execution_count": 4,
     "metadata": {},
     "output_type": "execute_result"
    }
   ],
   "source": [
    "result = pd.merge(zillow_data, census_data, left_on=['County', 'State'], right_on=['Name', 'Postal Code'])\n",
    "result.set_index(['County', 'State'])\n",
    "median_income = result['Median Household Income'].astype(float)\n",
    "zhvi = result['Zhvi'].astype(float)\n",
    "result['housing_index'] = zhvi / median_income\n",
    "\n",
    "subset = result[['County', 'State', 'housing_index']].copy()\n",
    "subset = subset.groupby(['County', 'State']).mean().sort_values(['housing_index'], ascending=False)\n",
    "subset"
   ]
  },
  {
   "cell_type": "markdown",
   "metadata": {},
   "source": [
    "*** Not sure whether to use max or mean value of housing index found per county. Doesn't seem to make much difference. ***"
   ]
  },
  {
   "cell_type": "code",
   "execution_count": 5,
   "metadata": {},
   "outputs": [
    {
     "data": {
      "text/html": [
       "<div>\n",
       "<style>\n",
       "    .dataframe thead tr:only-child th {\n",
       "        text-align: right;\n",
       "    }\n",
       "\n",
       "    .dataframe thead th {\n",
       "        text-align: left;\n",
       "    }\n",
       "\n",
       "    .dataframe tbody tr th {\n",
       "        vertical-align: top;\n",
       "    }\n",
       "</style>\n",
       "<table border=\"1\" class=\"dataframe\">\n",
       "  <thead>\n",
       "    <tr style=\"text-align: right;\">\n",
       "      <th></th>\n",
       "      <th></th>\n",
       "      <th>housing_index</th>\n",
       "    </tr>\n",
       "    <tr>\n",
       "      <th>County</th>\n",
       "      <th>State</th>\n",
       "      <th></th>\n",
       "    </tr>\n",
       "  </thead>\n",
       "  <tbody>\n",
       "    <tr>\n",
       "      <th>New York</th>\n",
       "      <th>NY</th>\n",
       "      <td>22.423869</td>\n",
       "    </tr>\n",
       "    <tr>\n",
       "      <th>District of Columbia</th>\n",
       "      <th>DC</th>\n",
       "      <td>8.171927</td>\n",
       "    </tr>\n",
       "    <tr>\n",
       "      <th>Carson City</th>\n",
       "      <th>NV</th>\n",
       "      <td>6.070403</td>\n",
       "    </tr>\n",
       "    <tr>\n",
       "      <th>Hawaii</th>\n",
       "      <th>HI</th>\n",
       "      <td>4.869083</td>\n",
       "    </tr>\n",
       "    <tr>\n",
       "      <th>Utah</th>\n",
       "      <th>UT</th>\n",
       "      <td>4.472837</td>\n",
       "    </tr>\n",
       "    <tr>\n",
       "      <th>Oklahoma</th>\n",
       "      <th>OK</th>\n",
       "      <td>3.051211</td>\n",
       "    </tr>\n",
       "  </tbody>\n",
       "</table>\n",
       "</div>"
      ],
      "text/plain": [
       "                            housing_index\n",
       "County               State               \n",
       "New York             NY         22.423869\n",
       "District of Columbia DC          8.171927\n",
       "Carson City          NV          6.070403\n",
       "Hawaii               HI          4.869083\n",
       "Utah                 UT          4.472837\n",
       "Oklahoma             OK          3.051211"
      ]
     },
     "execution_count": 5,
     "metadata": {},
     "output_type": "execute_result"
    }
   ],
   "source": [
    "subset.groupby(['County', 'State']).max().sort_values(['housing_index'], ascending=False)"
   ]
  },
  {
   "cell_type": "code",
   "execution_count": 6,
   "metadata": {},
   "outputs": [
    {
     "data": {
      "text/plain": [
       "<matplotlib.axes._subplots.AxesSubplot at 0x1105a87f0>"
      ]
     },
     "execution_count": 6,
     "metadata": {},
     "output_type": "execute_result"
    },
    {
     "data": {
      "image/png": "[encoded data removed]",
      "text/plain": [
       "<matplotlib.figure.Figure at 0x10a0c18d0>"
      ]
     },
     "metadata": {},
     "output_type": "display_data"
    }
   ],
   "source": [
    "subset.plot(kind='bar', y='housing_index', rot=45, title=\"Most Expensive Counties to Live and Work\")"
   ]
  }
 ],
 "metadata": {
  "anaconda-cloud": {},
  "kernelspec": {
   "display_name": "Python with Pixiedust (Spark 2.1)",
   "language": "python",
   "name": "pythonwithpixiedustspark21"
  },
  "language_info": {
   "codemirror_mode": {
    "name": "ipython",
    "version": 3
   },
   "file_extension": ".py",
   "mimetype": "text/x-python",
   "name": "python",
   "nbconvert_exporter": "python",
   "pygments_lexer": "ipython3",
   "version": "3.5.2"
  }
 },
 "nbformat": 4,
 "nbformat_minor": 1
}
