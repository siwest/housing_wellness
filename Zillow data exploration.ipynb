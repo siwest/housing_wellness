{
 "cells": [
  {
   "cell_type": "markdown",
   "metadata": {
    "nbpresent": {
     "id": "069b7770-73d5-4b35-84c4-83a19aa1c2cc"
    }
   },
   "source": [
    "# Exploring Zillow Data"
   ]
  },
  {
   "cell_type": "code",
   "execution_count": 15,
   "metadata": {
    "collapsed": false,
    "nbpresent": {
     "id": "67289067-29e7-4903-96d3-4601cff9bec7"
    }
   },
   "outputs": [
    {
     "name": "stdout",
     "output_type": "stream",
     "text": [
      "Requirement already up-to-date: pixiedust in /Users/sarah/anaconda3/lib/python3.5/site-packages\n",
      "Requirement already up-to-date: geojson in /Users/sarah/anaconda3/lib/python3.5/site-packages (from pixiedust)\n",
      "Collecting lxml (from pixiedust)\n",
      "  Downloading lxml-3.8.0-cp35-cp35m-macosx_10_6_intel.macosx_10_9_intel.macosx_10_9_x86_64.macosx_10_10_intel.macosx_10_10_x86_64.whl (7.8MB)\n",
      "\u001b[K    100% |████████████████████████████████| 7.8MB 84kB/s \n",
      "\u001b[?25hRequirement already up-to-date: mpld3 in /Users/sarah/anaconda3/lib/python3.5/site-packages (from pixiedust)\n",
      "Installing collected packages: lxml\n",
      "  Found existing installation: lxml 3.6.4\n",
      "\u001b[31m    DEPRECATION: Uninstalling a distutils installed project (lxml) has been deprecated and will be removed in a future version. This is due to the fact that uninstalling a distutils project will only partially uninstall the project.\u001b[0m\n",
      "    Uninstalling lxml-3.6.4:\n",
      "      Successfully uninstalled lxml-3.6.4\n",
      "Successfully installed lxml-3.8.0\n",
      "Requirement already up-to-date: bokeh in /Users/sarah/anaconda3/lib/python3.5/site-packages\n",
      "Requirement already up-to-date: six>=1.5.2 in /Users/sarah/anaconda3/lib/python3.5/site-packages (from bokeh)\n",
      "Requirement already up-to-date: numpy>=1.7.1 in /Users/sarah/anaconda3/lib/python3.5/site-packages (from bokeh)\n",
      "Requirement already up-to-date: tornado>=4.3 in /Users/sarah/anaconda3/lib/python3.5/site-packages (from bokeh)\n",
      "Requirement already up-to-date: requests>=1.2.3 in /Users/sarah/anaconda3/lib/python3.5/site-packages (from bokeh)\n",
      "Requirement already up-to-date: PyYAML>=3.10 in /Users/sarah/anaconda3/lib/python3.5/site-packages (from bokeh)\n",
      "Requirement already up-to-date: Jinja2>=2.7 in /Users/sarah/anaconda3/lib/python3.5/site-packages (from bokeh)\n",
      "Requirement already up-to-date: python-dateutil>=2.1 in /Users/sarah/anaconda3/lib/python3.5/site-packages (from bokeh)\n",
      "Requirement already up-to-date: bkcharts>=0.2 in /Users/sarah/anaconda3/lib/python3.5/site-packages (from bokeh)\n",
      "Requirement already up-to-date: chardet<3.1.0,>=3.0.2 in /Users/sarah/anaconda3/lib/python3.5/site-packages (from requests>=1.2.3->bokeh)\n",
      "Requirement already up-to-date: certifi>=2017.4.17 in /Users/sarah/anaconda3/lib/python3.5/site-packages (from requests>=1.2.3->bokeh)\n",
      "Requirement already up-to-date: urllib3<1.22,>=1.21.1 in /Users/sarah/anaconda3/lib/python3.5/site-packages (from requests>=1.2.3->bokeh)\n",
      "Requirement already up-to-date: idna<2.6,>=2.5 in /Users/sarah/anaconda3/lib/python3.5/site-packages (from requests>=1.2.3->bokeh)\n",
      "Requirement already up-to-date: MarkupSafe>=0.23 in /Users/sarah/anaconda3/lib/python3.5/site-packages (from Jinja2>=2.7->bokeh)\n"
     ]
    }
   ],
   "source": [
    "!pip install --upgrade pixiedust\n",
    "!pip install --upgrade bokeh"
   ]
  },
  {
   "cell_type": "code",
   "execution_count": 12,
   "metadata": {
    "collapsed": false,
    "nbpresent": {
     "id": "c8dd35ff-0dce-4f26-af5a-0343a2351d1e"
    }
   },
   "outputs": [
    {
     "name": "stdout",
     "output_type": "stream",
     "text": [
      "Downloading 'http://files.zillowstatic.com/research/public/Zip/Zip_Zhvi_Summary_AllHomes.csv' from http://files.zillowstatic.com/research/public/Zip/Zip_Zhvi_Summary_AllHomes.csv\n"
     ]
    },
    {
     "data": {
      "text/html": [
       "\n",
       "                <div>\n",
       "                    <span id=\"pm_label9c3fdd4c\">Starting download...</span>\n",
       "                    <progress id=\"pm_progress9c3fdd4c\" max=\"100\" value=\"0\" style=\"width:200px\"></progress>\n",
       "                </div>"
      ],
      "text/plain": [
       "<IPython.core.display.HTML object>"
      ]
     },
     "metadata": {},
     "output_type": "display_data"
    },
    {
     "data": {
      "application/javascript": [
       "\n",
       "                    $(\"#pm_label9c3fdd4c\").text(\"Downloaded 8192 of 2924631 bytes\");\n",
       "                    $(\"#pm_progress9c3fdd4c\").attr(\"value\", 0.28);\n",
       "                "
      ],
      "text/plain": [
       "<IPython.core.display.Javascript object>"
      ]
     },
     "metadata": {},
     "output_type": "display_data"
    },
    {
     "data": {
      "application/javascript": [
       "\n",
       "                    $(\"#pm_label9c3fdd4c\").text(\"Downloaded 16384 of 2924631 bytes\");\n",
       "                    $(\"#pm_progress9c3fdd4c\").attr(\"value\", 0.56);\n",
       "                "
      ],
      "text/plain": [
       "<IPython.core.display.Javascript object>"
      ]
     },
     "metadata": {},
     "output_type": "display_data"
    },
    {
     "data": {
      "application/javascript": [
       "\n",
       "                    $(\"#pm_label9c3fdd4c\").text(\"Downloaded 24576 of 2924631 bytes\");\n",
       "                    $(\"#pm_progress9c3fdd4c\").attr(\"value\", 0.84);\n",
       "                "
      ],
      "text/plain": [
       "<IPython.core.display.Javascript object>"
      ]
     },
     "metadata": {},
     "output_type": "display_data"
    },
    {
     "data": {
      "application/javascript": [
       "\n",
       "                    $(\"#pm_label9c3fdd4c\").text(\"Downloaded 32768 of 2924631 bytes\");\n",
       "                    $(\"#pm_progress9c3fdd4c\").attr(\"value\", 1.12);\n",
       "                "
      ],
      "text/plain": [
       "<IPython.core.display.Javascript object>"
      ]
     },
     "metadata": {},
     "output_type": "display_data"
    },
    {
     "data": {
      "application/javascript": [
       "\n",
       "                    $(\"#pm_label9c3fdd4c\").text(\"Downloaded 40960 of 2924631 bytes\");\n",
       "                    $(\"#pm_progress9c3fdd4c\").attr(\"value\", 1.4);\n",
       "                "
      ],
      "text/plain": [
       "<IPython.core.display.Javascript object>"
      ]
     },
     "metadata": {},
     "output_type": "display_data"
    },
    {
     "data": {
      "application/javascript": [
       "\n",
       "                    $(\"#pm_label9c3fdd4c\").text(\"Downloaded 49152 of 2924631 bytes\");\n",
       "                    $(\"#pm_progress9c3fdd4c\").attr(\"value\", 1.68);\n",
       "                "
      ],
      "text/plain": [
       "<IPython.core.display.Javascript object>"
      ]
     },
     "metadata": {},
     "output_type": "display_data"
    },
    {
     "data": {
      "application/javascript": [
       "\n",
       "                    $(\"#pm_label9c3fdd4c\").text(\"Downloaded 57344 of 2924631 bytes\");\n",
       "                    $(\"#pm_progress9c3fdd4c\").attr(\"value\", 1.96);\n",
       "                "
      ],
      "text/plain": [
       "<IPython.core.display.Javascript object>"
      ]
     },
     "metadata": {},
     "output_type": "display_data"
    },
    {
     "data": {
      "application/javascript": [
       "\n",
       "                    $(\"#pm_label9c3fdd4c\").text(\"Downloaded 65536 of 2924631 bytes\");\n",
       "                    $(\"#pm_progress9c3fdd4c\").attr(\"value\", 2.24);\n",
       "                "
      ],
      "text/plain": [
       "<IPython.core.display.Javascript object>"
      ]
     },
     "metadata": {},
     "output_type": "display_data"
    },
    {
     "data": {
      "application/javascript": [
       "\n",
       "                    $(\"#pm_label9c3fdd4c\").text(\"Downloaded 73728 of 2924631 bytes\");\n",
       "                    $(\"#pm_progress9c3fdd4c\").attr(\"value\", 2.52);\n",
       "                "
      ],
      "text/plain": [
       "<IPython.core.display.Javascript object>"
      ]
     },
     "metadata": {},
     "output_type": "display_data"
    },
    {
     "data": {
      "application/javascript": [
       "\n",
       "                    $(\"#pm_label9c3fdd4c\").text(\"Downloaded 81920 of 2924631 bytes\");\n",
       "                    $(\"#pm_progress9c3fdd4c\").attr(\"value\", 2.8);\n",
       "                "
      ],
      "text/plain": [
       "<IPython.core.display.Javascript object>"
      ]
     },
     "metadata": {},
     "output_type": "display_data"
    },
    {
     "data": {
      "application/javascript": [
       "\n",
       "                    $(\"#pm_label9c3fdd4c\").text(\"Downloaded 90112 of 2924631 bytes\");\n",
       "                    $(\"#pm_progress9c3fdd4c\").attr(\"value\", 3.08);\n",
       "                "
      ],
      "text/plain": [
       "<IPython.core.display.Javascript object>"
      ]
     },
     "metadata": {},
     "output_type": "display_data"
    },
    {
     "data": {
      "application/javascript": [
       "\n",
       "                    $(\"#pm_label9c3fdd4c\").text(\"Downloaded 98304 of 2924631 bytes\");\n",
       "                    $(\"#pm_progress9c3fdd4c\").attr(\"value\", 3.36);\n",
       "                "
      ],
      "text/plain": [
       "<IPython.core.display.Javascript object>"
      ]
     },
     "metadata": {},
     "output_type": "display_data"
    },
    {
     "data": {
      "application/javascript": [
       "\n",
       "                    $(\"#pm_label9c3fdd4c\").text(\"Downloaded 106496 of 2924631 bytes\");\n",
       "                    $(\"#pm_progress9c3fdd4c\").attr(\"value\", 3.64);\n",
       "                "
      ],
      "text/plain": [
       "<IPython.core.display.Javascript object>"
      ]
     },
     "metadata": {},
     "output_type": "display_data"
    },
    {
     "data": {
      "application/javascript": [
       "\n",
       "                    $(\"#pm_label9c3fdd4c\").text(\"Downloaded 114688 of 2924631 bytes\");\n",
       "                    $(\"#pm_progress9c3fdd4c\").attr(\"value\", 3.92);\n",
       "                "
      ],
      "text/plain": [
       "<IPython.core.display.Javascript object>"
      ]
     },
     "metadata": {},
     "output_type": "display_data"
    },
    {
     "data": {
      "application/javascript": [
       "\n",
       "                    $(\"#pm_label9c3fdd4c\").text(\"Downloaded 122880 of 2924631 bytes\");\n",
       "                    $(\"#pm_progress9c3fdd4c\").attr(\"value\", 4.2);\n",
       "                "
      ],
      "text/plain": [
       "<IPython.core.display.Javascript object>"
      ]
     },
     "metadata": {},
     "output_type": "display_data"
    },
    {
     "data": {
      "application/javascript": [
       "\n",
       "                    $(\"#pm_label9c3fdd4c\").text(\"Downloaded 131072 of 2924631 bytes\");\n",
       "                    $(\"#pm_progress9c3fdd4c\").attr(\"value\", 4.48);\n",
       "                "
      ],
      "text/plain": [
       "<IPython.core.display.Javascript object>"
      ]
     },
     "metadata": {},
     "output_type": "display_data"
    },
    {
     "data": {
      "application/javascript": [
       "\n",
       "                    $(\"#pm_label9c3fdd4c\").text(\"Downloaded 139264 of 2924631 bytes\");\n",
       "                    $(\"#pm_progress9c3fdd4c\").attr(\"value\", 4.76);\n",
       "                "
      ],
      "text/plain": [
       "<IPython.core.display.Javascript object>"
      ]
     },
     "metadata": {},
     "output_type": "display_data"
    },
    {
     "data": {
      "application/javascript": [
       "\n",
       "                    $(\"#pm_label9c3fdd4c\").text(\"Downloaded 147456 of 2924631 bytes\");\n",
       "                    $(\"#pm_progress9c3fdd4c\").attr(\"value\", 5.04);\n",
       "                "
      ],
      "text/plain": [
       "<IPython.core.display.Javascript object>"
      ]
     },
     "metadata": {},
     "output_type": "display_data"
    },
    {
     "data": {
      "application/javascript": [
       "\n",
       "                    $(\"#pm_label9c3fdd4c\").text(\"Downloaded 155648 of 2924631 bytes\");\n",
       "                    $(\"#pm_progress9c3fdd4c\").attr(\"value\", 5.32);\n",
       "                "
      ],
      "text/plain": [
       "<IPython.core.display.Javascript object>"
      ]
     },
     "metadata": {},
     "output_type": "display_data"
    },
    {
     "data": {
      "application/javascript": [
       "\n",
       "                    $(\"#pm_label9c3fdd4c\").text(\"Downloaded 163840 of 2924631 bytes\");\n",
       "                    $(\"#pm_progress9c3fdd4c\").attr(\"value\", 5.6);\n",
       "                "
      ],
      "text/plain": [
       "<IPython.core.display.Javascript object>"
      ]
     },
     "metadata": {},
     "output_type": "display_data"
    },
    {
     "data": {
      "application/javascript": [
       "\n",
       "                    $(\"#pm_label9c3fdd4c\").text(\"Downloaded 172032 of 2924631 bytes\");\n",
       "                    $(\"#pm_progress9c3fdd4c\").attr(\"value\", 5.88);\n",
       "                "
      ],
      "text/plain": [
       "<IPython.core.display.Javascript object>"
      ]
     },
     "metadata": {},
     "output_type": "display_data"
    },
    {
     "data": {
      "application/javascript": [
       "\n",
       "                    $(\"#pm_label9c3fdd4c\").text(\"Downloaded 180224 of 2924631 bytes\");\n",
       "                    $(\"#pm_progress9c3fdd4c\").attr(\"value\", 6.16);\n",
       "                "
      ],
      "text/plain": [
       "<IPython.core.display.Javascript object>"
      ]
     },
     "metadata": {},
     "output_type": "display_data"
    },
    {
     "data": {
      "application/javascript": [
       "\n",
       "                    $(\"#pm_label9c3fdd4c\").text(\"Downloaded 188416 of 2924631 bytes\");\n",
       "                    $(\"#pm_progress9c3fdd4c\").attr(\"value\", 6.44);\n",
       "                "
      ],
      "text/plain": [
       "<IPython.core.display.Javascript object>"
      ]
     },
     "metadata": {},
     "output_type": "display_data"
    },
    {
     "data": {
      "application/javascript": [
       "\n",
       "                    $(\"#pm_label9c3fdd4c\").text(\"Downloaded 196608 of 2924631 bytes\");\n",
       "                    $(\"#pm_progress9c3fdd4c\").attr(\"value\", 6.72);\n",
       "                "
      ],
      "text/plain": [
       "<IPython.core.display.Javascript object>"
      ]
     },
     "metadata": {},
     "output_type": "display_data"
    },
    {
     "data": {
      "application/javascript": [
       "\n",
       "                    $(\"#pm_label9c3fdd4c\").text(\"Downloaded 204800 of 2924631 bytes\");\n",
       "                    $(\"#pm_progress9c3fdd4c\").attr(\"value\", 7.0);\n",
       "                "
      ],
      "text/plain": [
       "<IPython.core.display.Javascript object>"
      ]
     },
     "metadata": {},
     "output_type": "display_data"
    },
    {
     "data": {
      "application/javascript": [
       "\n",
       "                    $(\"#pm_label9c3fdd4c\").text(\"Downloaded 212992 of 2924631 bytes\");\n",
       "                    $(\"#pm_progress9c3fdd4c\").attr(\"value\", 7.28);\n",
       "                "
      ],
      "text/plain": [
       "<IPython.core.display.Javascript object>"
      ]
     },
     "metadata": {},
     "output_type": "display_data"
    },
    {
     "data": {
      "application/javascript": [
       "\n",
       "                    $(\"#pm_label9c3fdd4c\").text(\"Downloaded 221184 of 2924631 bytes\");\n",
       "                    $(\"#pm_progress9c3fdd4c\").attr(\"value\", 7.56);\n",
       "                "
      ],
      "text/plain": [
       "<IPython.core.display.Javascript object>"
      ]
     },
     "metadata": {},
     "output_type": "display_data"
    },
    {
     "data": {
      "application/javascript": [
       "\n",
       "                    $(\"#pm_label9c3fdd4c\").text(\"Downloaded 229376 of 2924631 bytes\");\n",
       "                    $(\"#pm_progress9c3fdd4c\").attr(\"value\", 7.84);\n",
       "                "
      ],
      "text/plain": [
       "<IPython.core.display.Javascript object>"
      ]
     },
     "metadata": {},
     "output_type": "display_data"
    },
    {
     "data": {
      "application/javascript": [
       "\n",
       "                    $(\"#pm_label9c3fdd4c\").text(\"Downloaded 237568 of 2924631 bytes\");\n",
       "                    $(\"#pm_progress9c3fdd4c\").attr(\"value\", 8.12);\n",
       "                "
      ],
      "text/plain": [
       "<IPython.core.display.Javascript object>"
      ]
     },
     "metadata": {},
     "output_type": "display_data"
    },
    {
     "data": {
      "application/javascript": [
       "\n",
       "                    $(\"#pm_label9c3fdd4c\").text(\"Downloaded 245760 of 2924631 bytes\");\n",
       "                    $(\"#pm_progress9c3fdd4c\").attr(\"value\", 8.4);\n",
       "                "
      ],
      "text/plain": [
       "<IPython.core.display.Javascript object>"
      ]
     },
     "metadata": {},
     "output_type": "display_data"
    },
    {
     "data": {
      "application/javascript": [
       "\n",
       "                    $(\"#pm_label9c3fdd4c\").text(\"Downloaded 253952 of 2924631 bytes\");\n",
       "                    $(\"#pm_progress9c3fdd4c\").attr(\"value\", 8.68);\n",
       "                "
      ],
      "text/plain": [
       "<IPython.core.display.Javascript object>"
      ]
     },
     "metadata": {},
     "output_type": "display_data"
    },
    {
     "data": {
      "application/javascript": [
       "\n",
       "                    $(\"#pm_label9c3fdd4c\").text(\"Downloaded 262144 of 2924631 bytes\");\n",
       "                    $(\"#pm_progress9c3fdd4c\").attr(\"value\", 8.96);\n",
       "                "
      ],
      "text/plain": [
       "<IPython.core.display.Javascript object>"
      ]
     },
     "metadata": {},
     "output_type": "display_data"
    },
    {
     "data": {
      "application/javascript": [
       "\n",
       "                    $(\"#pm_label9c3fdd4c\").text(\"Downloaded 270336 of 2924631 bytes\");\n",
       "                    $(\"#pm_progress9c3fdd4c\").attr(\"value\", 9.24);\n",
       "                "
      ],
      "text/plain": [
       "<IPython.core.display.Javascript object>"
      ]
     },
     "metadata": {},
     "output_type": "display_data"
    },
    {
     "data": {
      "application/javascript": [
       "\n",
       "                    $(\"#pm_label9c3fdd4c\").text(\"Downloaded 278528 of 2924631 bytes\");\n",
       "                    $(\"#pm_progress9c3fdd4c\").attr(\"value\", 9.52);\n",
       "                "
      ],
      "text/plain": [
       "<IPython.core.display.Javascript object>"
      ]
     },
     "metadata": {},
     "output_type": "display_data"
    },
    {
     "data": {
      "application/javascript": [
       "\n",
       "                    $(\"#pm_label9c3fdd4c\").text(\"Downloaded 286720 of 2924631 bytes\");\n",
       "                    $(\"#pm_progress9c3fdd4c\").attr(\"value\", 9.8);\n",
       "                "
      ],
      "text/plain": [
       "<IPython.core.display.Javascript object>"
      ]
     },
     "metadata": {},
     "output_type": "display_data"
    },
    {
     "data": {
      "application/javascript": [
       "\n",
       "                    $(\"#pm_label9c3fdd4c\").text(\"Downloaded 294912 of 2924631 bytes\");\n",
       "                    $(\"#pm_progress9c3fdd4c\").attr(\"value\", 10.08);\n",
       "                "
      ],
      "text/plain": [
       "<IPython.core.display.Javascript object>"
      ]
     },
     "metadata": {},
     "output_type": "display_data"
    },
    {
     "data": {
      "application/javascript": [
       "\n",
       "                    $(\"#pm_label9c3fdd4c\").text(\"Downloaded 303104 of 2924631 bytes\");\n",
       "                    $(\"#pm_progress9c3fdd4c\").attr(\"value\", 10.36);\n",
       "                "
      ],
      "text/plain": [
       "<IPython.core.display.Javascript object>"
      ]
     },
     "metadata": {},
     "output_type": "display_data"
    },
    {
     "data": {
      "application/javascript": [
       "\n",
       "                    $(\"#pm_label9c3fdd4c\").text(\"Downloaded 311296 of 2924631 bytes\");\n",
       "                    $(\"#pm_progress9c3fdd4c\").attr(\"value\", 10.64);\n",
       "                "
      ],
      "text/plain": [
       "<IPython.core.display.Javascript object>"
      ]
     },
     "metadata": {},
     "output_type": "display_data"
    },
    {
     "data": {
      "application/javascript": [
       "\n",
       "                    $(\"#pm_label9c3fdd4c\").text(\"Downloaded 319488 of 2924631 bytes\");\n",
       "                    $(\"#pm_progress9c3fdd4c\").attr(\"value\", 10.92);\n",
       "                "
      ],
      "text/plain": [
       "<IPython.core.display.Javascript object>"
      ]
     },
     "metadata": {},
     "output_type": "display_data"
    },
    {
     "data": {
      "application/javascript": [
       "\n",
       "                    $(\"#pm_label9c3fdd4c\").text(\"Downloaded 327680 of 2924631 bytes\");\n",
       "                    $(\"#pm_progress9c3fdd4c\").attr(\"value\", 11.2);\n",
       "                "
      ],
      "text/plain": [
       "<IPython.core.display.Javascript object>"
      ]
     },
     "metadata": {},
     "output_type": "display_data"
    },
    {
     "data": {
      "application/javascript": [
       "\n",
       "                    $(\"#pm_label9c3fdd4c\").text(\"Downloaded 335872 of 2924631 bytes\");\n",
       "                    $(\"#pm_progress9c3fdd4c\").attr(\"value\", 11.48);\n",
       "                "
      ],
      "text/plain": [
       "<IPython.core.display.Javascript object>"
      ]
     },
     "metadata": {},
     "output_type": "display_data"
    },
    {
     "data": {
      "application/javascript": [
       "\n",
       "                    $(\"#pm_label9c3fdd4c\").text(\"Downloaded 344064 of 2924631 bytes\");\n",
       "                    $(\"#pm_progress9c3fdd4c\").attr(\"value\", 11.76);\n",
       "                "
      ],
      "text/plain": [
       "<IPython.core.display.Javascript object>"
      ]
     },
     "metadata": {},
     "output_type": "display_data"
    },
    {
     "data": {
      "application/javascript": [
       "\n",
       "                    $(\"#pm_label9c3fdd4c\").text(\"Downloaded 352256 of 2924631 bytes\");\n",
       "                    $(\"#pm_progress9c3fdd4c\").attr(\"value\", 12.04);\n",
       "                "
      ],
      "text/plain": [
       "<IPython.core.display.Javascript object>"
      ]
     },
     "metadata": {},
     "output_type": "display_data"
    },
    {
     "data": {
      "application/javascript": [
       "\n",
       "                    $(\"#pm_label9c3fdd4c\").text(\"Downloaded 360448 of 2924631 bytes\");\n",
       "                    $(\"#pm_progress9c3fdd4c\").attr(\"value\", 12.32);\n",
       "                "
      ],
      "text/plain": [
       "<IPython.core.display.Javascript object>"
      ]
     },
     "metadata": {},
     "output_type": "display_data"
    },
    {
     "data": {
      "application/javascript": [
       "\n",
       "                    $(\"#pm_label9c3fdd4c\").text(\"Downloaded 368640 of 2924631 bytes\");\n",
       "                    $(\"#pm_progress9c3fdd4c\").attr(\"value\", 12.6);\n",
       "                "
      ],
      "text/plain": [
       "<IPython.core.display.Javascript object>"
      ]
     },
     "metadata": {},
     "output_type": "display_data"
    },
    {
     "data": {
      "application/javascript": [
       "\n",
       "                    $(\"#pm_label9c3fdd4c\").text(\"Downloaded 376832 of 2924631 bytes\");\n",
       "                    $(\"#pm_progress9c3fdd4c\").attr(\"value\", 12.88);\n",
       "                "
      ],
      "text/plain": [
       "<IPython.core.display.Javascript object>"
      ]
     },
     "metadata": {},
     "output_type": "display_data"
    },
    {
     "data": {
      "application/javascript": [
       "\n",
       "                    $(\"#pm_label9c3fdd4c\").text(\"Downloaded 385024 of 2924631 bytes\");\n",
       "                    $(\"#pm_progress9c3fdd4c\").attr(\"value\", 13.16);\n",
       "                "
      ],
      "text/plain": [
       "<IPython.core.display.Javascript object>"
      ]
     },
     "metadata": {},
     "output_type": "display_data"
    },
    {
     "data": {
      "application/javascript": [
       "\n",
       "                    $(\"#pm_label9c3fdd4c\").text(\"Downloaded 393216 of 2924631 bytes\");\n",
       "                    $(\"#pm_progress9c3fdd4c\").attr(\"value\", 13.44);\n",
       "                "
      ],
      "text/plain": [
       "<IPython.core.display.Javascript object>"
      ]
     },
     "metadata": {},
     "output_type": "display_data"
    },
    {
     "data": {
      "application/javascript": [
       "\n",
       "                    $(\"#pm_label9c3fdd4c\").text(\"Downloaded 401408 of 2924631 bytes\");\n",
       "                    $(\"#pm_progress9c3fdd4c\").attr(\"value\", 13.73);\n",
       "                "
      ],
      "text/plain": [
       "<IPython.core.display.Javascript object>"
      ]
     },
     "metadata": {},
     "output_type": "display_data"
    },
    {
     "data": {
      "application/javascript": [
       "\n",
       "                    $(\"#pm_label9c3fdd4c\").text(\"Downloaded 409600 of 2924631 bytes\");\n",
       "                    $(\"#pm_progress9c3fdd4c\").attr(\"value\", 14.01);\n",
       "                "
      ],
      "text/plain": [
       "<IPython.core.display.Javascript object>"
      ]
     },
     "metadata": {},
     "output_type": "display_data"
    },
    {
     "data": {
      "application/javascript": [
       "\n",
       "                    $(\"#pm_label9c3fdd4c\").text(\"Downloaded 417792 of 2924631 bytes\");\n",
       "                    $(\"#pm_progress9c3fdd4c\").attr(\"value\", 14.29);\n",
       "                "
      ],
      "text/plain": [
       "<IPython.core.display.Javascript object>"
      ]
     },
     "metadata": {},
     "output_type": "display_data"
    },
    {
     "data": {
      "application/javascript": [
       "\n",
       "                    $(\"#pm_label9c3fdd4c\").text(\"Downloaded 425984 of 2924631 bytes\");\n",
       "                    $(\"#pm_progress9c3fdd4c\").attr(\"value\", 14.57);\n",
       "                "
      ],
      "text/plain": [
       "<IPython.core.display.Javascript object>"
      ]
     },
     "metadata": {},
     "output_type": "display_data"
    },
    {
     "data": {
      "application/javascript": [
       "\n",
       "                    $(\"#pm_label9c3fdd4c\").text(\"Downloaded 434176 of 2924631 bytes\");\n",
       "                    $(\"#pm_progress9c3fdd4c\").attr(\"value\", 14.85);\n",
       "                "
      ],
      "text/plain": [
       "<IPython.core.display.Javascript object>"
      ]
     },
     "metadata": {},
     "output_type": "display_data"
    },
    {
     "data": {
      "application/javascript": [
       "\n",
       "                    $(\"#pm_label9c3fdd4c\").text(\"Downloaded 442368 of 2924631 bytes\");\n",
       "                    $(\"#pm_progress9c3fdd4c\").attr(\"value\", 15.13);\n",
       "                "
      ],
      "text/plain": [
       "<IPython.core.display.Javascript object>"
      ]
     },
     "metadata": {},
     "output_type": "display_data"
    },
    {
     "data": {
      "application/javascript": [
       "\n",
       "                    $(\"#pm_label9c3fdd4c\").text(\"Downloaded 450560 of 2924631 bytes\");\n",
       "                    $(\"#pm_progress9c3fdd4c\").attr(\"value\", 15.41);\n",
       "                "
      ],
      "text/plain": [
       "<IPython.core.display.Javascript object>"
      ]
     },
     "metadata": {},
     "output_type": "display_data"
    },
    {
     "data": {
      "application/javascript": [
       "\n",
       "                    $(\"#pm_label9c3fdd4c\").text(\"Downloaded 458752 of 2924631 bytes\");\n",
       "                    $(\"#pm_progress9c3fdd4c\").attr(\"value\", 15.69);\n",
       "                "
      ],
      "text/plain": [
       "<IPython.core.display.Javascript object>"
      ]
     },
     "metadata": {},
     "output_type": "display_data"
    },
    {
     "data": {
      "application/javascript": [
       "\n",
       "                    $(\"#pm_label9c3fdd4c\").text(\"Downloaded 466944 of 2924631 bytes\");\n",
       "                    $(\"#pm_progress9c3fdd4c\").attr(\"value\", 15.97);\n",
       "                "
      ],
      "text/plain": [
       "<IPython.core.display.Javascript object>"
      ]
     },
     "metadata": {},
     "output_type": "display_data"
    },
    {
     "data": {
      "application/javascript": [
       "\n",
       "                    $(\"#pm_label9c3fdd4c\").text(\"Downloaded 475136 of 2924631 bytes\");\n",
       "                    $(\"#pm_progress9c3fdd4c\").attr(\"value\", 16.25);\n",
       "                "
      ],
      "text/plain": [
       "<IPython.core.display.Javascript object>"
      ]
     },
     "metadata": {},
     "output_type": "display_data"
    },
    {
     "data": {
      "application/javascript": [
       "\n",
       "                    $(\"#pm_label9c3fdd4c\").text(\"Downloaded 483328 of 2924631 bytes\");\n",
       "                    $(\"#pm_progress9c3fdd4c\").attr(\"value\", 16.53);\n",
       "                "
      ],
      "text/plain": [
       "<IPython.core.display.Javascript object>"
      ]
     },
     "metadata": {},
     "output_type": "display_data"
    },
    {
     "data": {
      "application/javascript": [
       "\n",
       "                    $(\"#pm_label9c3fdd4c\").text(\"Downloaded 491520 of 2924631 bytes\");\n",
       "                    $(\"#pm_progress9c3fdd4c\").attr(\"value\", 16.81);\n",
       "                "
      ],
      "text/plain": [
       "<IPython.core.display.Javascript object>"
      ]
     },
     "metadata": {},
     "output_type": "display_data"
    },
    {
     "data": {
      "application/javascript": [
       "\n",
       "                    $(\"#pm_label9c3fdd4c\").text(\"Downloaded 499712 of 2924631 bytes\");\n",
       "                    $(\"#pm_progress9c3fdd4c\").attr(\"value\", 17.09);\n",
       "                "
      ],
      "text/plain": [
       "<IPython.core.display.Javascript object>"
      ]
     },
     "metadata": {},
     "output_type": "display_data"
    },
    {
     "data": {
      "application/javascript": [
       "\n",
       "                    $(\"#pm_label9c3fdd4c\").text(\"Downloaded 507904 of 2924631 bytes\");\n",
       "                    $(\"#pm_progress9c3fdd4c\").attr(\"value\", 17.37);\n",
       "                "
      ],
      "text/plain": [
       "<IPython.core.display.Javascript object>"
      ]
     },
     "metadata": {},
     "output_type": "display_data"
    },
    {
     "data": {
      "application/javascript": [
       "\n",
       "                    $(\"#pm_label9c3fdd4c\").text(\"Downloaded 516096 of 2924631 bytes\");\n",
       "                    $(\"#pm_progress9c3fdd4c\").attr(\"value\", 17.65);\n",
       "                "
      ],
      "text/plain": [
       "<IPython.core.display.Javascript object>"
      ]
     },
     "metadata": {},
     "output_type": "display_data"
    },
    {
     "data": {
      "application/javascript": [
       "\n",
       "                    $(\"#pm_label9c3fdd4c\").text(\"Downloaded 524288 of 2924631 bytes\");\n",
       "                    $(\"#pm_progress9c3fdd4c\").attr(\"value\", 17.93);\n",
       "                "
      ],
      "text/plain": [
       "<IPython.core.display.Javascript object>"
      ]
     },
     "metadata": {},
     "output_type": "display_data"
    },
    {
     "data": {
      "application/javascript": [
       "\n",
       "                    $(\"#pm_label9c3fdd4c\").text(\"Downloaded 532480 of 2924631 bytes\");\n",
       "                    $(\"#pm_progress9c3fdd4c\").attr(\"value\", 18.21);\n",
       "                "
      ],
      "text/plain": [
       "<IPython.core.display.Javascript object>"
      ]
     },
     "metadata": {},
     "output_type": "display_data"
    },
    {
     "data": {
      "application/javascript": [
       "\n",
       "                    $(\"#pm_label9c3fdd4c\").text(\"Downloaded 540672 of 2924631 bytes\");\n",
       "                    $(\"#pm_progress9c3fdd4c\").attr(\"value\", 18.49);\n",
       "                "
      ],
      "text/plain": [
       "<IPython.core.display.Javascript object>"
      ]
     },
     "metadata": {},
     "output_type": "display_data"
    },
    {
     "data": {
      "application/javascript": [
       "\n",
       "                    $(\"#pm_label9c3fdd4c\").text(\"Downloaded 548864 of 2924631 bytes\");\n",
       "                    $(\"#pm_progress9c3fdd4c\").attr(\"value\", 18.77);\n",
       "                "
      ],
      "text/plain": [
       "<IPython.core.display.Javascript object>"
      ]
     },
     "metadata": {},
     "output_type": "display_data"
    },
    {
     "data": {
      "application/javascript": [
       "\n",
       "                    $(\"#pm_label9c3fdd4c\").text(\"Downloaded 557056 of 2924631 bytes\");\n",
       "                    $(\"#pm_progress9c3fdd4c\").attr(\"value\", 19.05);\n",
       "                "
      ],
      "text/plain": [
       "<IPython.core.display.Javascript object>"
      ]
     },
     "metadata": {},
     "output_type": "display_data"
    },
    {
     "data": {
      "application/javascript": [
       "\n",
       "                    $(\"#pm_label9c3fdd4c\").text(\"Downloaded 565248 of 2924631 bytes\");\n",
       "                    $(\"#pm_progress9c3fdd4c\").attr(\"value\", 19.33);\n",
       "                "
      ],
      "text/plain": [
       "<IPython.core.display.Javascript object>"
      ]
     },
     "metadata": {},
     "output_type": "display_data"
    },
    {
     "data": {
      "application/javascript": [
       "\n",
       "                    $(\"#pm_label9c3fdd4c\").text(\"Downloaded 573440 of 2924631 bytes\");\n",
       "                    $(\"#pm_progress9c3fdd4c\").attr(\"value\", 19.61);\n",
       "                "
      ],
      "text/plain": [
       "<IPython.core.display.Javascript object>"
      ]
     },
     "metadata": {},
     "output_type": "display_data"
    },
    {
     "data": {
      "application/javascript": [
       "\n",
       "                    $(\"#pm_label9c3fdd4c\").text(\"Downloaded 581632 of 2924631 bytes\");\n",
       "                    $(\"#pm_progress9c3fdd4c\").attr(\"value\", 19.89);\n",
       "                "
      ],
      "text/plain": [
       "<IPython.core.display.Javascript object>"
      ]
     },
     "metadata": {},
     "output_type": "display_data"
    },
    {
     "data": {
      "application/javascript": [
       "\n",
       "                    $(\"#pm_label9c3fdd4c\").text(\"Downloaded 589824 of 2924631 bytes\");\n",
       "                    $(\"#pm_progress9c3fdd4c\").attr(\"value\", 20.17);\n",
       "                "
      ],
      "text/plain": [
       "<IPython.core.display.Javascript object>"
      ]
     },
     "metadata": {},
     "output_type": "display_data"
    },
    {
     "data": {
      "application/javascript": [
       "\n",
       "                    $(\"#pm_label9c3fdd4c\").text(\"Downloaded 598016 of 2924631 bytes\");\n",
       "                    $(\"#pm_progress9c3fdd4c\").attr(\"value\", 20.45);\n",
       "                "
      ],
      "text/plain": [
       "<IPython.core.display.Javascript object>"
      ]
     },
     "metadata": {},
     "output_type": "display_data"
    },
    {
     "data": {
      "application/javascript": [
       "\n",
       "                    $(\"#pm_label9c3fdd4c\").text(\"Downloaded 606208 of 2924631 bytes\");\n",
       "                    $(\"#pm_progress9c3fdd4c\").attr(\"value\", 20.73);\n",
       "                "
      ],
      "text/plain": [
       "<IPython.core.display.Javascript object>"
      ]
     },
     "metadata": {},
     "output_type": "display_data"
    },
    {
     "data": {
      "application/javascript": [
       "\n",
       "                    $(\"#pm_label9c3fdd4c\").text(\"Downloaded 614400 of 2924631 bytes\");\n",
       "                    $(\"#pm_progress9c3fdd4c\").attr(\"value\", 21.01);\n",
       "                "
      ],
      "text/plain": [
       "<IPython.core.display.Javascript object>"
      ]
     },
     "metadata": {},
     "output_type": "display_data"
    },
    {
     "data": {
      "application/javascript": [
       "\n",
       "                    $(\"#pm_label9c3fdd4c\").text(\"Downloaded 622592 of 2924631 bytes\");\n",
       "                    $(\"#pm_progress9c3fdd4c\").attr(\"value\", 21.29);\n",
       "                "
      ],
      "text/plain": [
       "<IPython.core.display.Javascript object>"
      ]
     },
     "metadata": {},
     "output_type": "display_data"
    },
    {
     "data": {
      "application/javascript": [
       "\n",
       "                    $(\"#pm_label9c3fdd4c\").text(\"Downloaded 630784 of 2924631 bytes\");\n",
       "                    $(\"#pm_progress9c3fdd4c\").attr(\"value\", 21.57);\n",
       "                "
      ],
      "text/plain": [
       "<IPython.core.display.Javascript object>"
      ]
     },
     "metadata": {},
     "output_type": "display_data"
    },
    {
     "data": {
      "application/javascript": [
       "\n",
       "                    $(\"#pm_label9c3fdd4c\").text(\"Downloaded 638976 of 2924631 bytes\");\n",
       "                    $(\"#pm_progress9c3fdd4c\").attr(\"value\", 21.85);\n",
       "                "
      ],
      "text/plain": [
       "<IPython.core.display.Javascript object>"
      ]
     },
     "metadata": {},
     "output_type": "display_data"
    },
    {
     "data": {
      "application/javascript": [
       "\n",
       "                    $(\"#pm_label9c3fdd4c\").text(\"Downloaded 647168 of 2924631 bytes\");\n",
       "                    $(\"#pm_progress9c3fdd4c\").attr(\"value\", 22.13);\n",
       "                "
      ],
      "text/plain": [
       "<IPython.core.display.Javascript object>"
      ]
     },
     "metadata": {},
     "output_type": "display_data"
    },
    {
     "data": {
      "application/javascript": [
       "\n",
       "                    $(\"#pm_label9c3fdd4c\").text(\"Downloaded 655360 of 2924631 bytes\");\n",
       "                    $(\"#pm_progress9c3fdd4c\").attr(\"value\", 22.41);\n",
       "                "
      ],
      "text/plain": [
       "<IPython.core.display.Javascript object>"
      ]
     },
     "metadata": {},
     "output_type": "display_data"
    },
    {
     "data": {
      "application/javascript": [
       "\n",
       "                    $(\"#pm_label9c3fdd4c\").text(\"Downloaded 663552 of 2924631 bytes\");\n",
       "                    $(\"#pm_progress9c3fdd4c\").attr(\"value\", 22.69);\n",
       "                "
      ],
      "text/plain": [
       "<IPython.core.display.Javascript object>"
      ]
     },
     "metadata": {},
     "output_type": "display_data"
    },
    {
     "data": {
      "application/javascript": [
       "\n",
       "                    $(\"#pm_label9c3fdd4c\").text(\"Downloaded 671744 of 2924631 bytes\");\n",
       "                    $(\"#pm_progress9c3fdd4c\").attr(\"value\", 22.97);\n",
       "                "
      ],
      "text/plain": [
       "<IPython.core.display.Javascript object>"
      ]
     },
     "metadata": {},
     "output_type": "display_data"
    },
    {
     "data": {
      "application/javascript": [
       "\n",
       "                    $(\"#pm_label9c3fdd4c\").text(\"Downloaded 679936 of 2924631 bytes\");\n",
       "                    $(\"#pm_progress9c3fdd4c\").attr(\"value\", 23.25);\n",
       "                "
      ],
      "text/plain": [
       "<IPython.core.display.Javascript object>"
      ]
     },
     "metadata": {},
     "output_type": "display_data"
    },
    {
     "data": {
      "application/javascript": [
       "\n",
       "                    $(\"#pm_label9c3fdd4c\").text(\"Downloaded 688128 of 2924631 bytes\");\n",
       "                    $(\"#pm_progress9c3fdd4c\").attr(\"value\", 23.53);\n",
       "                "
      ],
      "text/plain": [
       "<IPython.core.display.Javascript object>"
      ]
     },
     "metadata": {},
     "output_type": "display_data"
    },
    {
     "data": {
      "application/javascript": [
       "\n",
       "                    $(\"#pm_label9c3fdd4c\").text(\"Downloaded 696320 of 2924631 bytes\");\n",
       "                    $(\"#pm_progress9c3fdd4c\").attr(\"value\", 23.81);\n",
       "                "
      ],
      "text/plain": [
       "<IPython.core.display.Javascript object>"
      ]
     },
     "metadata": {},
     "output_type": "display_data"
    },
    {
     "data": {
      "application/javascript": [
       "\n",
       "                    $(\"#pm_label9c3fdd4c\").text(\"Downloaded 704512 of 2924631 bytes\");\n",
       "                    $(\"#pm_progress9c3fdd4c\").attr(\"value\", 24.09);\n",
       "                "
      ],
      "text/plain": [
       "<IPython.core.display.Javascript object>"
      ]
     },
     "metadata": {},
     "output_type": "display_data"
    },
    {
     "data": {
      "application/javascript": [
       "\n",
       "                    $(\"#pm_label9c3fdd4c\").text(\"Downloaded 712704 of 2924631 bytes\");\n",
       "                    $(\"#pm_progress9c3fdd4c\").attr(\"value\", 24.37);\n",
       "                "
      ],
      "text/plain": [
       "<IPython.core.display.Javascript object>"
      ]
     },
     "metadata": {},
     "output_type": "display_data"
    },
    {
     "data": {
      "application/javascript": [
       "\n",
       "                    $(\"#pm_label9c3fdd4c\").text(\"Downloaded 720896 of 2924631 bytes\");\n",
       "                    $(\"#pm_progress9c3fdd4c\").attr(\"value\", 24.65);\n",
       "                "
      ],
      "text/plain": [
       "<IPython.core.display.Javascript object>"
      ]
     },
     "metadata": {},
     "output_type": "display_data"
    },
    {
     "data": {
      "application/javascript": [
       "\n",
       "                    $(\"#pm_label9c3fdd4c\").text(\"Downloaded 729088 of 2924631 bytes\");\n",
       "                    $(\"#pm_progress9c3fdd4c\").attr(\"value\", 24.93);\n",
       "                "
      ],
      "text/plain": [
       "<IPython.core.display.Javascript object>"
      ]
     },
     "metadata": {},
     "output_type": "display_data"
    },
    {
     "data": {
      "application/javascript": [
       "\n",
       "                    $(\"#pm_label9c3fdd4c\").text(\"Downloaded 737280 of 2924631 bytes\");\n",
       "                    $(\"#pm_progress9c3fdd4c\").attr(\"value\", 25.21);\n",
       "                "
      ],
      "text/plain": [
       "<IPython.core.display.Javascript object>"
      ]
     },
     "metadata": {},
     "output_type": "display_data"
    },
    {
     "data": {
      "application/javascript": [
       "\n",
       "                    $(\"#pm_label9c3fdd4c\").text(\"Downloaded 745472 of 2924631 bytes\");\n",
       "                    $(\"#pm_progress9c3fdd4c\").attr(\"value\", 25.49);\n",
       "                "
      ],
      "text/plain": [
       "<IPython.core.display.Javascript object>"
      ]
     },
     "metadata": {},
     "output_type": "display_data"
    },
    {
     "data": {
      "application/javascript": [
       "\n",
       "                    $(\"#pm_label9c3fdd4c\").text(\"Downloaded 753664 of 2924631 bytes\");\n",
       "                    $(\"#pm_progress9c3fdd4c\").attr(\"value\", 25.77);\n",
       "                "
      ],
      "text/plain": [
       "<IPython.core.display.Javascript object>"
      ]
     },
     "metadata": {},
     "output_type": "display_data"
    },
    {
     "data": {
      "application/javascript": [
       "\n",
       "                    $(\"#pm_label9c3fdd4c\").text(\"Downloaded 761856 of 2924631 bytes\");\n",
       "                    $(\"#pm_progress9c3fdd4c\").attr(\"value\", 26.05);\n",
       "                "
      ],
      "text/plain": [
       "<IPython.core.display.Javascript object>"
      ]
     },
     "metadata": {},
     "output_type": "display_data"
    },
    {
     "data": {
      "application/javascript": [
       "\n",
       "                    $(\"#pm_label9c3fdd4c\").text(\"Downloaded 770048 of 2924631 bytes\");\n",
       "                    $(\"#pm_progress9c3fdd4c\").attr(\"value\", 26.33);\n",
       "                "
      ],
      "text/plain": [
       "<IPython.core.display.Javascript object>"
      ]
     },
     "metadata": {},
     "output_type": "display_data"
    },
    {
     "data": {
      "application/javascript": [
       "\n",
       "                    $(\"#pm_label9c3fdd4c\").text(\"Downloaded 778240 of 2924631 bytes\");\n",
       "                    $(\"#pm_progress9c3fdd4c\").attr(\"value\", 26.61);\n",
       "                "
      ],
      "text/plain": [
       "<IPython.core.display.Javascript object>"
      ]
     },
     "metadata": {},
     "output_type": "display_data"
    },
    {
     "data": {
      "application/javascript": [
       "\n",
       "                    $(\"#pm_label9c3fdd4c\").text(\"Downloaded 786432 of 2924631 bytes\");\n",
       "                    $(\"#pm_progress9c3fdd4c\").attr(\"value\", 26.89);\n",
       "                "
      ],
      "text/plain": [
       "<IPython.core.display.Javascript object>"
      ]
     },
     "metadata": {},
     "output_type": "display_data"
    },
    {
     "data": {
      "application/javascript": [
       "\n",
       "                    $(\"#pm_label9c3fdd4c\").text(\"Downloaded 794624 of 2924631 bytes\");\n",
       "                    $(\"#pm_progress9c3fdd4c\").attr(\"value\", 27.17);\n",
       "                "
      ],
      "text/plain": [
       "<IPython.core.display.Javascript object>"
      ]
     },
     "metadata": {},
     "output_type": "display_data"
    },
    {
     "data": {
      "application/javascript": [
       "\n",
       "                    $(\"#pm_label9c3fdd4c\").text(\"Downloaded 802816 of 2924631 bytes\");\n",
       "                    $(\"#pm_progress9c3fdd4c\").attr(\"value\", 27.45);\n",
       "                "
      ],
      "text/plain": [
       "<IPython.core.display.Javascript object>"
      ]
     },
     "metadata": {},
     "output_type": "display_data"
    },
    {
     "data": {
      "application/javascript": [
       "\n",
       "                    $(\"#pm_label9c3fdd4c\").text(\"Downloaded 811008 of 2924631 bytes\");\n",
       "                    $(\"#pm_progress9c3fdd4c\").attr(\"value\", 27.73);\n",
       "                "
      ],
      "text/plain": [
       "<IPython.core.display.Javascript object>"
      ]
     },
     "metadata": {},
     "output_type": "display_data"
    },
    {
     "data": {
      "application/javascript": [
       "\n",
       "                    $(\"#pm_label9c3fdd4c\").text(\"Downloaded 819200 of 2924631 bytes\");\n",
       "                    $(\"#pm_progress9c3fdd4c\").attr(\"value\", 28.01);\n",
       "                "
      ],
      "text/plain": [
       "<IPython.core.display.Javascript object>"
      ]
     },
     "metadata": {},
     "output_type": "display_data"
    },
    {
     "data": {
      "application/javascript": [
       "\n",
       "                    $(\"#pm_label9c3fdd4c\").text(\"Downloaded 827392 of 2924631 bytes\");\n",
       "                    $(\"#pm_progress9c3fdd4c\").attr(\"value\", 28.29);\n",
       "                "
      ],
      "text/plain": [
       "<IPython.core.display.Javascript object>"
      ]
     },
     "metadata": {},
     "output_type": "display_data"
    },
    {
     "data": {
      "application/javascript": [
       "\n",
       "                    $(\"#pm_label9c3fdd4c\").text(\"Downloaded 835584 of 2924631 bytes\");\n",
       "                    $(\"#pm_progress9c3fdd4c\").attr(\"value\", 28.57);\n",
       "                "
      ],
      "text/plain": [
       "<IPython.core.display.Javascript object>"
      ]
     },
     "metadata": {},
     "output_type": "display_data"
    },
    {
     "data": {
      "application/javascript": [
       "\n",
       "                    $(\"#pm_label9c3fdd4c\").text(\"Downloaded 843776 of 2924631 bytes\");\n",
       "                    $(\"#pm_progress9c3fdd4c\").attr(\"value\", 28.85);\n",
       "                "
      ],
      "text/plain": [
       "<IPython.core.display.Javascript object>"
      ]
     },
     "metadata": {},
     "output_type": "display_data"
    },
    {
     "data": {
      "application/javascript": [
       "\n",
       "                    $(\"#pm_label9c3fdd4c\").text(\"Downloaded 851968 of 2924631 bytes\");\n",
       "                    $(\"#pm_progress9c3fdd4c\").attr(\"value\", 29.13);\n",
       "                "
      ],
      "text/plain": [
       "<IPython.core.display.Javascript object>"
      ]
     },
     "metadata": {},
     "output_type": "display_data"
    },
    {
     "data": {
      "application/javascript": [
       "\n",
       "                    $(\"#pm_label9c3fdd4c\").text(\"Downloaded 860160 of 2924631 bytes\");\n",
       "                    $(\"#pm_progress9c3fdd4c\").attr(\"value\", 29.41);\n",
       "                "
      ],
      "text/plain": [
       "<IPython.core.display.Javascript object>"
      ]
     },
     "metadata": {},
     "output_type": "display_data"
    },
    {
     "data": {
      "application/javascript": [
       "\n",
       "                    $(\"#pm_label9c3fdd4c\").text(\"Downloaded 868352 of 2924631 bytes\");\n",
       "                    $(\"#pm_progress9c3fdd4c\").attr(\"value\", 29.69);\n",
       "                "
      ],
      "text/plain": [
       "<IPython.core.display.Javascript object>"
      ]
     },
     "metadata": {},
     "output_type": "display_data"
    },
    {
     "data": {
      "application/javascript": [
       "\n",
       "                    $(\"#pm_label9c3fdd4c\").text(\"Downloaded 876544 of 2924631 bytes\");\n",
       "                    $(\"#pm_progress9c3fdd4c\").attr(\"value\", 29.97);\n",
       "                "
      ],
      "text/plain": [
       "<IPython.core.display.Javascript object>"
      ]
     },
     "metadata": {},
     "output_type": "display_data"
    },
    {
     "data": {
      "application/javascript": [
       "\n",
       "                    $(\"#pm_label9c3fdd4c\").text(\"Downloaded 884736 of 2924631 bytes\");\n",
       "                    $(\"#pm_progress9c3fdd4c\").attr(\"value\", 30.25);\n",
       "                "
      ],
      "text/plain": [
       "<IPython.core.display.Javascript object>"
      ]
     },
     "metadata": {},
     "output_type": "display_data"
    },
    {
     "data": {
      "application/javascript": [
       "\n",
       "                    $(\"#pm_label9c3fdd4c\").text(\"Downloaded 892928 of 2924631 bytes\");\n",
       "                    $(\"#pm_progress9c3fdd4c\").attr(\"value\", 30.53);\n",
       "                "
      ],
      "text/plain": [
       "<IPython.core.display.Javascript object>"
      ]
     },
     "metadata": {},
     "output_type": "display_data"
    },
    {
     "data": {
      "application/javascript": [
       "\n",
       "                    $(\"#pm_label9c3fdd4c\").text(\"Downloaded 901120 of 2924631 bytes\");\n",
       "                    $(\"#pm_progress9c3fdd4c\").attr(\"value\", 30.81);\n",
       "                "
      ],
      "text/plain": [
       "<IPython.core.display.Javascript object>"
      ]
     },
     "metadata": {},
     "output_type": "display_data"
    },
    {
     "data": {
      "application/javascript": [
       "\n",
       "                    $(\"#pm_label9c3fdd4c\").text(\"Downloaded 909312 of 2924631 bytes\");\n",
       "                    $(\"#pm_progress9c3fdd4c\").attr(\"value\", 31.09);\n",
       "                "
      ],
      "text/plain": [
       "<IPython.core.display.Javascript object>"
      ]
     },
     "metadata": {},
     "output_type": "display_data"
    },
    {
     "data": {
      "application/javascript": [
       "\n",
       "                    $(\"#pm_label9c3fdd4c\").text(\"Downloaded 917504 of 2924631 bytes\");\n",
       "                    $(\"#pm_progress9c3fdd4c\").attr(\"value\", 31.37);\n",
       "                "
      ],
      "text/plain": [
       "<IPython.core.display.Javascript object>"
      ]
     },
     "metadata": {},
     "output_type": "display_data"
    },
    {
     "data": {
      "application/javascript": [
       "\n",
       "                    $(\"#pm_label9c3fdd4c\").text(\"Downloaded 925696 of 2924631 bytes\");\n",
       "                    $(\"#pm_progress9c3fdd4c\").attr(\"value\", 31.65);\n",
       "                "
      ],
      "text/plain": [
       "<IPython.core.display.Javascript object>"
      ]
     },
     "metadata": {},
     "output_type": "display_data"
    },
    {
     "data": {
      "application/javascript": [
       "\n",
       "                    $(\"#pm_label9c3fdd4c\").text(\"Downloaded 933888 of 2924631 bytes\");\n",
       "                    $(\"#pm_progress9c3fdd4c\").attr(\"value\", 31.93);\n",
       "                "
      ],
      "text/plain": [
       "<IPython.core.display.Javascript object>"
      ]
     },
     "metadata": {},
     "output_type": "display_data"
    },
    {
     "data": {
      "application/javascript": [
       "\n",
       "                    $(\"#pm_label9c3fdd4c\").text(\"Downloaded 942080 of 2924631 bytes\");\n",
       "                    $(\"#pm_progress9c3fdd4c\").attr(\"value\", 32.21);\n",
       "                "
      ],
      "text/plain": [
       "<IPython.core.display.Javascript object>"
      ]
     },
     "metadata": {},
     "output_type": "display_data"
    },
    {
     "data": {
      "application/javascript": [
       "\n",
       "                    $(\"#pm_label9c3fdd4c\").text(\"Downloaded 950272 of 2924631 bytes\");\n",
       "                    $(\"#pm_progress9c3fdd4c\").attr(\"value\", 32.49);\n",
       "                "
      ],
      "text/plain": [
       "<IPython.core.display.Javascript object>"
      ]
     },
     "metadata": {},
     "output_type": "display_data"
    },
    {
     "data": {
      "application/javascript": [
       "\n",
       "                    $(\"#pm_label9c3fdd4c\").text(\"Downloaded 958464 of 2924631 bytes\");\n",
       "                    $(\"#pm_progress9c3fdd4c\").attr(\"value\", 32.77);\n",
       "                "
      ],
      "text/plain": [
       "<IPython.core.display.Javascript object>"
      ]
     },
     "metadata": {},
     "output_type": "display_data"
    },
    {
     "data": {
      "application/javascript": [
       "\n",
       "                    $(\"#pm_label9c3fdd4c\").text(\"Downloaded 966656 of 2924631 bytes\");\n",
       "                    $(\"#pm_progress9c3fdd4c\").attr(\"value\", 33.05);\n",
       "                "
      ],
      "text/plain": [
       "<IPython.core.display.Javascript object>"
      ]
     },
     "metadata": {},
     "output_type": "display_data"
    },
    {
     "data": {
      "application/javascript": [
       "\n",
       "                    $(\"#pm_label9c3fdd4c\").text(\"Downloaded 974848 of 2924631 bytes\");\n",
       "                    $(\"#pm_progress9c3fdd4c\").attr(\"value\", 33.33);\n",
       "                "
      ],
      "text/plain": [
       "<IPython.core.display.Javascript object>"
      ]
     },
     "metadata": {},
     "output_type": "display_data"
    },
    {
     "data": {
      "application/javascript": [
       "\n",
       "                    $(\"#pm_label9c3fdd4c\").text(\"Downloaded 983040 of 2924631 bytes\");\n",
       "                    $(\"#pm_progress9c3fdd4c\").attr(\"value\", 33.61);\n",
       "                "
      ],
      "text/plain": [
       "<IPython.core.display.Javascript object>"
      ]
     },
     "metadata": {},
     "output_type": "display_data"
    },
    {
     "data": {
      "application/javascript": [
       "\n",
       "                    $(\"#pm_label9c3fdd4c\").text(\"Downloaded 991232 of 2924631 bytes\");\n",
       "                    $(\"#pm_progress9c3fdd4c\").attr(\"value\", 33.89);\n",
       "                "
      ],
      "text/plain": [
       "<IPython.core.display.Javascript object>"
      ]
     },
     "metadata": {},
     "output_type": "display_data"
    },
    {
     "data": {
      "application/javascript": [
       "\n",
       "                    $(\"#pm_label9c3fdd4c\").text(\"Downloaded 999424 of 2924631 bytes\");\n",
       "                    $(\"#pm_progress9c3fdd4c\").attr(\"value\", 34.17);\n",
       "                "
      ],
      "text/plain": [
       "<IPython.core.display.Javascript object>"
      ]
     },
     "metadata": {},
     "output_type": "display_data"
    },
    {
     "data": {
      "application/javascript": [
       "\n",
       "                    $(\"#pm_label9c3fdd4c\").text(\"Downloaded 1007616 of 2924631 bytes\");\n",
       "                    $(\"#pm_progress9c3fdd4c\").attr(\"value\", 34.45);\n",
       "                "
      ],
      "text/plain": [
       "<IPython.core.display.Javascript object>"
      ]
     },
     "metadata": {},
     "output_type": "display_data"
    },
    {
     "data": {
      "application/javascript": [
       "\n",
       "                    $(\"#pm_label9c3fdd4c\").text(\"Downloaded 1015808 of 2924631 bytes\");\n",
       "                    $(\"#pm_progress9c3fdd4c\").attr(\"value\", 34.73);\n",
       "                "
      ],
      "text/plain": [
       "<IPython.core.display.Javascript object>"
      ]
     },
     "metadata": {},
     "output_type": "display_data"
    },
    {
     "data": {
      "application/javascript": [
       "\n",
       "                    $(\"#pm_label9c3fdd4c\").text(\"Downloaded 1024000 of 2924631 bytes\");\n",
       "                    $(\"#pm_progress9c3fdd4c\").attr(\"value\", 35.01);\n",
       "                "
      ],
      "text/plain": [
       "<IPython.core.display.Javascript object>"
      ]
     },
     "metadata": {},
     "output_type": "display_data"
    },
    {
     "data": {
      "application/javascript": [
       "\n",
       "                    $(\"#pm_label9c3fdd4c\").text(\"Downloaded 1032192 of 2924631 bytes\");\n",
       "                    $(\"#pm_progress9c3fdd4c\").attr(\"value\", 35.29);\n",
       "                "
      ],
      "text/plain": [
       "<IPython.core.display.Javascript object>"
      ]
     },
     "metadata": {},
     "output_type": "display_data"
    },
    {
     "data": {
      "application/javascript": [
       "\n",
       "                    $(\"#pm_label9c3fdd4c\").text(\"Downloaded 1040384 of 2924631 bytes\");\n",
       "                    $(\"#pm_progress9c3fdd4c\").attr(\"value\", 35.57);\n",
       "                "
      ],
      "text/plain": [
       "<IPython.core.display.Javascript object>"
      ]
     },
     "metadata": {},
     "output_type": "display_data"
    },
    {
     "data": {
      "application/javascript": [
       "\n",
       "                    $(\"#pm_label9c3fdd4c\").text(\"Downloaded 1048576 of 2924631 bytes\");\n",
       "                    $(\"#pm_progress9c3fdd4c\").attr(\"value\", 35.85);\n",
       "                "
      ],
      "text/plain": [
       "<IPython.core.display.Javascript object>"
      ]
     },
     "metadata": {},
     "output_type": "display_data"
    },
    {
     "data": {
      "application/javascript": [
       "\n",
       "                    $(\"#pm_label9c3fdd4c\").text(\"Downloaded 1056768 of 2924631 bytes\");\n",
       "                    $(\"#pm_progress9c3fdd4c\").attr(\"value\", 36.13);\n",
       "                "
      ],
      "text/plain": [
       "<IPython.core.display.Javascript object>"
      ]
     },
     "metadata": {},
     "output_type": "display_data"
    },
    {
     "data": {
      "application/javascript": [
       "\n",
       "                    $(\"#pm_label9c3fdd4c\").text(\"Downloaded 1064960 of 2924631 bytes\");\n",
       "                    $(\"#pm_progress9c3fdd4c\").attr(\"value\", 36.41);\n",
       "                "
      ],
      "text/plain": [
       "<IPython.core.display.Javascript object>"
      ]
     },
     "metadata": {},
     "output_type": "display_data"
    },
    {
     "data": {
      "application/javascript": [
       "\n",
       "                    $(\"#pm_label9c3fdd4c\").text(\"Downloaded 1073152 of 2924631 bytes\");\n",
       "                    $(\"#pm_progress9c3fdd4c\").attr(\"value\", 36.69);\n",
       "                "
      ],
      "text/plain": [
       "<IPython.core.display.Javascript object>"
      ]
     },
     "metadata": {},
     "output_type": "display_data"
    },
    {
     "data": {
      "application/javascript": [
       "\n",
       "                    $(\"#pm_label9c3fdd4c\").text(\"Downloaded 1081344 of 2924631 bytes\");\n",
       "                    $(\"#pm_progress9c3fdd4c\").attr(\"value\", 36.97);\n",
       "                "
      ],
      "text/plain": [
       "<IPython.core.display.Javascript object>"
      ]
     },
     "metadata": {},
     "output_type": "display_data"
    },
    {
     "data": {
      "application/javascript": [
       "\n",
       "                    $(\"#pm_label9c3fdd4c\").text(\"Downloaded 1089536 of 2924631 bytes\");\n",
       "                    $(\"#pm_progress9c3fdd4c\").attr(\"value\", 37.25);\n",
       "                "
      ],
      "text/plain": [
       "<IPython.core.display.Javascript object>"
      ]
     },
     "metadata": {},
     "output_type": "display_data"
    },
    {
     "data": {
      "application/javascript": [
       "\n",
       "                    $(\"#pm_label9c3fdd4c\").text(\"Downloaded 1097728 of 2924631 bytes\");\n",
       "                    $(\"#pm_progress9c3fdd4c\").attr(\"value\", 37.53);\n",
       "                "
      ],
      "text/plain": [
       "<IPython.core.display.Javascript object>"
      ]
     },
     "metadata": {},
     "output_type": "display_data"
    },
    {
     "data": {
      "application/javascript": [
       "\n",
       "                    $(\"#pm_label9c3fdd4c\").text(\"Downloaded 1105920 of 2924631 bytes\");\n",
       "                    $(\"#pm_progress9c3fdd4c\").attr(\"value\", 37.81);\n",
       "                "
      ],
      "text/plain": [
       "<IPython.core.display.Javascript object>"
      ]
     },
     "metadata": {},
     "output_type": "display_data"
    },
    {
     "data": {
      "application/javascript": [
       "\n",
       "                    $(\"#pm_label9c3fdd4c\").text(\"Downloaded 1114112 of 2924631 bytes\");\n",
       "                    $(\"#pm_progress9c3fdd4c\").attr(\"value\", 38.09);\n",
       "                "
      ],
      "text/plain": [
       "<IPython.core.display.Javascript object>"
      ]
     },
     "metadata": {},
     "output_type": "display_data"
    },
    {
     "data": {
      "application/javascript": [
       "\n",
       "                    $(\"#pm_label9c3fdd4c\").text(\"Downloaded 1122304 of 2924631 bytes\");\n",
       "                    $(\"#pm_progress9c3fdd4c\").attr(\"value\", 38.37);\n",
       "                "
      ],
      "text/plain": [
       "<IPython.core.display.Javascript object>"
      ]
     },
     "metadata": {},
     "output_type": "display_data"
    },
    {
     "data": {
      "application/javascript": [
       "\n",
       "                    $(\"#pm_label9c3fdd4c\").text(\"Downloaded 1130496 of 2924631 bytes\");\n",
       "                    $(\"#pm_progress9c3fdd4c\").attr(\"value\", 38.65);\n",
       "                "
      ],
      "text/plain": [
       "<IPython.core.display.Javascript object>"
      ]
     },
     "metadata": {},
     "output_type": "display_data"
    },
    {
     "data": {
      "application/javascript": [
       "\n",
       "                    $(\"#pm_label9c3fdd4c\").text(\"Downloaded 1138688 of 2924631 bytes\");\n",
       "                    $(\"#pm_progress9c3fdd4c\").attr(\"value\", 38.93);\n",
       "                "
      ],
      "text/plain": [
       "<IPython.core.display.Javascript object>"
      ]
     },
     "metadata": {},
     "output_type": "display_data"
    },
    {
     "data": {
      "application/javascript": [
       "\n",
       "                    $(\"#pm_label9c3fdd4c\").text(\"Downloaded 1146880 of 2924631 bytes\");\n",
       "                    $(\"#pm_progress9c3fdd4c\").attr(\"value\", 39.21);\n",
       "                "
      ],
      "text/plain": [
       "<IPython.core.display.Javascript object>"
      ]
     },
     "metadata": {},
     "output_type": "display_data"
    },
    {
     "data": {
      "application/javascript": [
       "\n",
       "                    $(\"#pm_label9c3fdd4c\").text(\"Downloaded 1155072 of 2924631 bytes\");\n",
       "                    $(\"#pm_progress9c3fdd4c\").attr(\"value\", 39.49);\n",
       "                "
      ],
      "text/plain": [
       "<IPython.core.display.Javascript object>"
      ]
     },
     "metadata": {},
     "output_type": "display_data"
    },
    {
     "data": {
      "application/javascript": [
       "\n",
       "                    $(\"#pm_label9c3fdd4c\").text(\"Downloaded 1163264 of 2924631 bytes\");\n",
       "                    $(\"#pm_progress9c3fdd4c\").attr(\"value\", 39.77);\n",
       "                "
      ],
      "text/plain": [
       "<IPython.core.display.Javascript object>"
      ]
     },
     "metadata": {},
     "output_type": "display_data"
    },
    {
     "data": {
      "application/javascript": [
       "\n",
       "                    $(\"#pm_label9c3fdd4c\").text(\"Downloaded 1171456 of 2924631 bytes\");\n",
       "                    $(\"#pm_progress9c3fdd4c\").attr(\"value\", 40.05);\n",
       "                "
      ],
      "text/plain": [
       "<IPython.core.display.Javascript object>"
      ]
     },
     "metadata": {},
     "output_type": "display_data"
    },
    {
     "data": {
      "application/javascript": [
       "\n",
       "                    $(\"#pm_label9c3fdd4c\").text(\"Downloaded 1179648 of 2924631 bytes\");\n",
       "                    $(\"#pm_progress9c3fdd4c\").attr(\"value\", 40.33);\n",
       "                "
      ],
      "text/plain": [
       "<IPython.core.display.Javascript object>"
      ]
     },
     "metadata": {},
     "output_type": "display_data"
    },
    {
     "data": {
      "application/javascript": [
       "\n",
       "                    $(\"#pm_label9c3fdd4c\").text(\"Downloaded 1187840 of 2924631 bytes\");\n",
       "                    $(\"#pm_progress9c3fdd4c\").attr(\"value\", 40.62);\n",
       "                "
      ],
      "text/plain": [
       "<IPython.core.display.Javascript object>"
      ]
     },
     "metadata": {},
     "output_type": "display_data"
    },
    {
     "data": {
      "application/javascript": [
       "\n",
       "                    $(\"#pm_label9c3fdd4c\").text(\"Downloaded 1196032 of 2924631 bytes\");\n",
       "                    $(\"#pm_progress9c3fdd4c\").attr(\"value\", 40.9);\n",
       "                "
      ],
      "text/plain": [
       "<IPython.core.display.Javascript object>"
      ]
     },
     "metadata": {},
     "output_type": "display_data"
    },
    {
     "data": {
      "application/javascript": [
       "\n",
       "                    $(\"#pm_label9c3fdd4c\").text(\"Downloaded 1204224 of 2924631 bytes\");\n",
       "                    $(\"#pm_progress9c3fdd4c\").attr(\"value\", 41.18);\n",
       "                "
      ],
      "text/plain": [
       "<IPython.core.display.Javascript object>"
      ]
     },
     "metadata": {},
     "output_type": "display_data"
    },
    {
     "data": {
      "application/javascript": [
       "\n",
       "                    $(\"#pm_label9c3fdd4c\").text(\"Downloaded 1212416 of 2924631 bytes\");\n",
       "                    $(\"#pm_progress9c3fdd4c\").attr(\"value\", 41.46);\n",
       "                "
      ],
      "text/plain": [
       "<IPython.core.display.Javascript object>"
      ]
     },
     "metadata": {},
     "output_type": "display_data"
    },
    {
     "data": {
      "application/javascript": [
       "\n",
       "                    $(\"#pm_label9c3fdd4c\").text(\"Downloaded 1220608 of 2924631 bytes\");\n",
       "                    $(\"#pm_progress9c3fdd4c\").attr(\"value\", 41.74);\n",
       "                "
      ],
      "text/plain": [
       "<IPython.core.display.Javascript object>"
      ]
     },
     "metadata": {},
     "output_type": "display_data"
    },
    {
     "data": {
      "application/javascript": [
       "\n",
       "                    $(\"#pm_label9c3fdd4c\").text(\"Downloaded 1228800 of 2924631 bytes\");\n",
       "                    $(\"#pm_progress9c3fdd4c\").attr(\"value\", 42.02);\n",
       "                "
      ],
      "text/plain": [
       "<IPython.core.display.Javascript object>"
      ]
     },
     "metadata": {},
     "output_type": "display_data"
    },
    {
     "data": {
      "application/javascript": [
       "\n",
       "                    $(\"#pm_label9c3fdd4c\").text(\"Downloaded 1236992 of 2924631 bytes\");\n",
       "                    $(\"#pm_progress9c3fdd4c\").attr(\"value\", 42.3);\n",
       "                "
      ],
      "text/plain": [
       "<IPython.core.display.Javascript object>"
      ]
     },
     "metadata": {},
     "output_type": "display_data"
    },
    {
     "data": {
      "application/javascript": [
       "\n",
       "                    $(\"#pm_label9c3fdd4c\").text(\"Downloaded 1245184 of 2924631 bytes\");\n",
       "                    $(\"#pm_progress9c3fdd4c\").attr(\"value\", 42.58);\n",
       "                "
      ],
      "text/plain": [
       "<IPython.core.display.Javascript object>"
      ]
     },
     "metadata": {},
     "output_type": "display_data"
    },
    {
     "data": {
      "application/javascript": [
       "\n",
       "                    $(\"#pm_label9c3fdd4c\").text(\"Downloaded 1253376 of 2924631 bytes\");\n",
       "                    $(\"#pm_progress9c3fdd4c\").attr(\"value\", 42.86);\n",
       "                "
      ],
      "text/plain": [
       "<IPython.core.display.Javascript object>"
      ]
     },
     "metadata": {},
     "output_type": "display_data"
    },
    {
     "data": {
      "application/javascript": [
       "\n",
       "                    $(\"#pm_label9c3fdd4c\").text(\"Downloaded 1261568 of 2924631 bytes\");\n",
       "                    $(\"#pm_progress9c3fdd4c\").attr(\"value\", 43.14);\n",
       "                "
      ],
      "text/plain": [
       "<IPython.core.display.Javascript object>"
      ]
     },
     "metadata": {},
     "output_type": "display_data"
    },
    {
     "data": {
      "application/javascript": [
       "\n",
       "                    $(\"#pm_label9c3fdd4c\").text(\"Downloaded 1269760 of 2924631 bytes\");\n",
       "                    $(\"#pm_progress9c3fdd4c\").attr(\"value\", 43.42);\n",
       "                "
      ],
      "text/plain": [
       "<IPython.core.display.Javascript object>"
      ]
     },
     "metadata": {},
     "output_type": "display_data"
    },
    {
     "data": {
      "application/javascript": [
       "\n",
       "                    $(\"#pm_label9c3fdd4c\").text(\"Downloaded 1277952 of 2924631 bytes\");\n",
       "                    $(\"#pm_progress9c3fdd4c\").attr(\"value\", 43.7);\n",
       "                "
      ],
      "text/plain": [
       "<IPython.core.display.Javascript object>"
      ]
     },
     "metadata": {},
     "output_type": "display_data"
    },
    {
     "data": {
      "application/javascript": [
       "\n",
       "                    $(\"#pm_label9c3fdd4c\").text(\"Downloaded 1286144 of 2924631 bytes\");\n",
       "                    $(\"#pm_progress9c3fdd4c\").attr(\"value\", 43.98);\n",
       "                "
      ],
      "text/plain": [
       "<IPython.core.display.Javascript object>"
      ]
     },
     "metadata": {},
     "output_type": "display_data"
    },
    {
     "data": {
      "application/javascript": [
       "\n",
       "                    $(\"#pm_label9c3fdd4c\").text(\"Downloaded 1294336 of 2924631 bytes\");\n",
       "                    $(\"#pm_progress9c3fdd4c\").attr(\"value\", 44.26);\n",
       "                "
      ],
      "text/plain": [
       "<IPython.core.display.Javascript object>"
      ]
     },
     "metadata": {},
     "output_type": "display_data"
    },
    {
     "data": {
      "application/javascript": [
       "\n",
       "                    $(\"#pm_label9c3fdd4c\").text(\"Downloaded 1302528 of 2924631 bytes\");\n",
       "                    $(\"#pm_progress9c3fdd4c\").attr(\"value\", 44.54);\n",
       "                "
      ],
      "text/plain": [
       "<IPython.core.display.Javascript object>"
      ]
     },
     "metadata": {},
     "output_type": "display_data"
    },
    {
     "data": {
      "application/javascript": [
       "\n",
       "                    $(\"#pm_label9c3fdd4c\").text(\"Downloaded 1310720 of 2924631 bytes\");\n",
       "                    $(\"#pm_progress9c3fdd4c\").attr(\"value\", 44.82);\n",
       "                "
      ],
      "text/plain": [
       "<IPython.core.display.Javascript object>"
      ]
     },
     "metadata": {},
     "output_type": "display_data"
    },
    {
     "data": {
      "application/javascript": [
       "\n",
       "                    $(\"#pm_label9c3fdd4c\").text(\"Downloaded 1318912 of 2924631 bytes\");\n",
       "                    $(\"#pm_progress9c3fdd4c\").attr(\"value\", 45.1);\n",
       "                "
      ],
      "text/plain": [
       "<IPython.core.display.Javascript object>"
      ]
     },
     "metadata": {},
     "output_type": "display_data"
    },
    {
     "data": {
      "application/javascript": [
       "\n",
       "                    $(\"#pm_label9c3fdd4c\").text(\"Downloaded 1327104 of 2924631 bytes\");\n",
       "                    $(\"#pm_progress9c3fdd4c\").attr(\"value\", 45.38);\n",
       "                "
      ],
      "text/plain": [
       "<IPython.core.display.Javascript object>"
      ]
     },
     "metadata": {},
     "output_type": "display_data"
    },
    {
     "data": {
      "application/javascript": [
       "\n",
       "                    $(\"#pm_label9c3fdd4c\").text(\"Downloaded 1335296 of 2924631 bytes\");\n",
       "                    $(\"#pm_progress9c3fdd4c\").attr(\"value\", 45.66);\n",
       "                "
      ],
      "text/plain": [
       "<IPython.core.display.Javascript object>"
      ]
     },
     "metadata": {},
     "output_type": "display_data"
    },
    {
     "data": {
      "application/javascript": [
       "\n",
       "                    $(\"#pm_label9c3fdd4c\").text(\"Downloaded 1343488 of 2924631 bytes\");\n",
       "                    $(\"#pm_progress9c3fdd4c\").attr(\"value\", 45.94);\n",
       "                "
      ],
      "text/plain": [
       "<IPython.core.display.Javascript object>"
      ]
     },
     "metadata": {},
     "output_type": "display_data"
    },
    {
     "data": {
      "application/javascript": [
       "\n",
       "                    $(\"#pm_label9c3fdd4c\").text(\"Downloaded 1351680 of 2924631 bytes\");\n",
       "                    $(\"#pm_progress9c3fdd4c\").attr(\"value\", 46.22);\n",
       "                "
      ],
      "text/plain": [
       "<IPython.core.display.Javascript object>"
      ]
     },
     "metadata": {},
     "output_type": "display_data"
    },
    {
     "data": {
      "application/javascript": [
       "\n",
       "                    $(\"#pm_label9c3fdd4c\").text(\"Downloaded 1359872 of 2924631 bytes\");\n",
       "                    $(\"#pm_progress9c3fdd4c\").attr(\"value\", 46.5);\n",
       "                "
      ],
      "text/plain": [
       "<IPython.core.display.Javascript object>"
      ]
     },
     "metadata": {},
     "output_type": "display_data"
    },
    {
     "data": {
      "application/javascript": [
       "\n",
       "                    $(\"#pm_label9c3fdd4c\").text(\"Downloaded 1368064 of 2924631 bytes\");\n",
       "                    $(\"#pm_progress9c3fdd4c\").attr(\"value\", 46.78);\n",
       "                "
      ],
      "text/plain": [
       "<IPython.core.display.Javascript object>"
      ]
     },
     "metadata": {},
     "output_type": "display_data"
    },
    {
     "data": {
      "application/javascript": [
       "\n",
       "                    $(\"#pm_label9c3fdd4c\").text(\"Downloaded 1376256 of 2924631 bytes\");\n",
       "                    $(\"#pm_progress9c3fdd4c\").attr(\"value\", 47.06);\n",
       "                "
      ],
      "text/plain": [
       "<IPython.core.display.Javascript object>"
      ]
     },
     "metadata": {},
     "output_type": "display_data"
    },
    {
     "data": {
      "application/javascript": [
       "\n",
       "                    $(\"#pm_label9c3fdd4c\").text(\"Downloaded 1384448 of 2924631 bytes\");\n",
       "                    $(\"#pm_progress9c3fdd4c\").attr(\"value\", 47.34);\n",
       "                "
      ],
      "text/plain": [
       "<IPython.core.display.Javascript object>"
      ]
     },
     "metadata": {},
     "output_type": "display_data"
    },
    {
     "data": {
      "application/javascript": [
       "\n",
       "                    $(\"#pm_label9c3fdd4c\").text(\"Downloaded 1392640 of 2924631 bytes\");\n",
       "                    $(\"#pm_progress9c3fdd4c\").attr(\"value\", 47.62);\n",
       "                "
      ],
      "text/plain": [
       "<IPython.core.display.Javascript object>"
      ]
     },
     "metadata": {},
     "output_type": "display_data"
    },
    {
     "data": {
      "application/javascript": [
       "\n",
       "                    $(\"#pm_label9c3fdd4c\").text(\"Downloaded 1400832 of 2924631 bytes\");\n",
       "                    $(\"#pm_progress9c3fdd4c\").attr(\"value\", 47.9);\n",
       "                "
      ],
      "text/plain": [
       "<IPython.core.display.Javascript object>"
      ]
     },
     "metadata": {},
     "output_type": "display_data"
    },
    {
     "data": {
      "application/javascript": [
       "\n",
       "                    $(\"#pm_label9c3fdd4c\").text(\"Downloaded 1409024 of 2924631 bytes\");\n",
       "                    $(\"#pm_progress9c3fdd4c\").attr(\"value\", 48.18);\n",
       "                "
      ],
      "text/plain": [
       "<IPython.core.display.Javascript object>"
      ]
     },
     "metadata": {},
     "output_type": "display_data"
    },
    {
     "data": {
      "application/javascript": [
       "\n",
       "                    $(\"#pm_label9c3fdd4c\").text(\"Downloaded 1417216 of 2924631 bytes\");\n",
       "                    $(\"#pm_progress9c3fdd4c\").attr(\"value\", 48.46);\n",
       "                "
      ],
      "text/plain": [
       "<IPython.core.display.Javascript object>"
      ]
     },
     "metadata": {},
     "output_type": "display_data"
    },
    {
     "data": {
      "application/javascript": [
       "\n",
       "                    $(\"#pm_label9c3fdd4c\").text(\"Downloaded 1425408 of 2924631 bytes\");\n",
       "                    $(\"#pm_progress9c3fdd4c\").attr(\"value\", 48.74);\n",
       "                "
      ],
      "text/plain": [
       "<IPython.core.display.Javascript object>"
      ]
     },
     "metadata": {},
     "output_type": "display_data"
    },
    {
     "data": {
      "application/javascript": [
       "\n",
       "                    $(\"#pm_label9c3fdd4c\").text(\"Downloaded 1433600 of 2924631 bytes\");\n",
       "                    $(\"#pm_progress9c3fdd4c\").attr(\"value\", 49.02);\n",
       "                "
      ],
      "text/plain": [
       "<IPython.core.display.Javascript object>"
      ]
     },
     "metadata": {},
     "output_type": "display_data"
    },
    {
     "data": {
      "application/javascript": [
       "\n",
       "                    $(\"#pm_label9c3fdd4c\").text(\"Downloaded 1441792 of 2924631 bytes\");\n",
       "                    $(\"#pm_progress9c3fdd4c\").attr(\"value\", 49.3);\n",
       "                "
      ],
      "text/plain": [
       "<IPython.core.display.Javascript object>"
      ]
     },
     "metadata": {},
     "output_type": "display_data"
    },
    {
     "data": {
      "application/javascript": [
       "\n",
       "                    $(\"#pm_label9c3fdd4c\").text(\"Downloaded 1449984 of 2924631 bytes\");\n",
       "                    $(\"#pm_progress9c3fdd4c\").attr(\"value\", 49.58);\n",
       "                "
      ],
      "text/plain": [
       "<IPython.core.display.Javascript object>"
      ]
     },
     "metadata": {},
     "output_type": "display_data"
    },
    {
     "data": {
      "application/javascript": [
       "\n",
       "                    $(\"#pm_label9c3fdd4c\").text(\"Downloaded 1458176 of 2924631 bytes\");\n",
       "                    $(\"#pm_progress9c3fdd4c\").attr(\"value\", 49.86);\n",
       "                "
      ],
      "text/plain": [
       "<IPython.core.display.Javascript object>"
      ]
     },
     "metadata": {},
     "output_type": "display_data"
    },
    {
     "data": {
      "application/javascript": [
       "\n",
       "                    $(\"#pm_label9c3fdd4c\").text(\"Downloaded 1466368 of 2924631 bytes\");\n",
       "                    $(\"#pm_progress9c3fdd4c\").attr(\"value\", 50.14);\n",
       "                "
      ],
      "text/plain": [
       "<IPython.core.display.Javascript object>"
      ]
     },
     "metadata": {},
     "output_type": "display_data"
    },
    {
     "data": {
      "application/javascript": [
       "\n",
       "                    $(\"#pm_label9c3fdd4c\").text(\"Downloaded 1474560 of 2924631 bytes\");\n",
       "                    $(\"#pm_progress9c3fdd4c\").attr(\"value\", 50.42);\n",
       "                "
      ],
      "text/plain": [
       "<IPython.core.display.Javascript object>"
      ]
     },
     "metadata": {},
     "output_type": "display_data"
    },
    {
     "data": {
      "application/javascript": [
       "\n",
       "                    $(\"#pm_label9c3fdd4c\").text(\"Downloaded 1482752 of 2924631 bytes\");\n",
       "                    $(\"#pm_progress9c3fdd4c\").attr(\"value\", 50.7);\n",
       "                "
      ],
      "text/plain": [
       "<IPython.core.display.Javascript object>"
      ]
     },
     "metadata": {},
     "output_type": "display_data"
    },
    {
     "data": {
      "application/javascript": [
       "\n",
       "                    $(\"#pm_label9c3fdd4c\").text(\"Downloaded 1490944 of 2924631 bytes\");\n",
       "                    $(\"#pm_progress9c3fdd4c\").attr(\"value\", 50.98);\n",
       "                "
      ],
      "text/plain": [
       "<IPython.core.display.Javascript object>"
      ]
     },
     "metadata": {},
     "output_type": "display_data"
    },
    {
     "data": {
      "application/javascript": [
       "\n",
       "                    $(\"#pm_label9c3fdd4c\").text(\"Downloaded 1499136 of 2924631 bytes\");\n",
       "                    $(\"#pm_progress9c3fdd4c\").attr(\"value\", 51.26);\n",
       "                "
      ],
      "text/plain": [
       "<IPython.core.display.Javascript object>"
      ]
     },
     "metadata": {},
     "output_type": "display_data"
    },
    {
     "data": {
      "application/javascript": [
       "\n",
       "                    $(\"#pm_label9c3fdd4c\").text(\"Downloaded 1507328 of 2924631 bytes\");\n",
       "                    $(\"#pm_progress9c3fdd4c\").attr(\"value\", 51.54);\n",
       "                "
      ],
      "text/plain": [
       "<IPython.core.display.Javascript object>"
      ]
     },
     "metadata": {},
     "output_type": "display_data"
    },
    {
     "data": {
      "application/javascript": [
       "\n",
       "                    $(\"#pm_label9c3fdd4c\").text(\"Downloaded 1515520 of 2924631 bytes\");\n",
       "                    $(\"#pm_progress9c3fdd4c\").attr(\"value\", 51.82);\n",
       "                "
      ],
      "text/plain": [
       "<IPython.core.display.Javascript object>"
      ]
     },
     "metadata": {},
     "output_type": "display_data"
    },
    {
     "data": {
      "application/javascript": [
       "\n",
       "                    $(\"#pm_label9c3fdd4c\").text(\"Downloaded 1523712 of 2924631 bytes\");\n",
       "                    $(\"#pm_progress9c3fdd4c\").attr(\"value\", 52.1);\n",
       "                "
      ],
      "text/plain": [
       "<IPython.core.display.Javascript object>"
      ]
     },
     "metadata": {},
     "output_type": "display_data"
    },
    {
     "data": {
      "application/javascript": [
       "\n",
       "                    $(\"#pm_label9c3fdd4c\").text(\"Downloaded 1531904 of 2924631 bytes\");\n",
       "                    $(\"#pm_progress9c3fdd4c\").attr(\"value\", 52.38);\n",
       "                "
      ],
      "text/plain": [
       "<IPython.core.display.Javascript object>"
      ]
     },
     "metadata": {},
     "output_type": "display_data"
    },
    {
     "data": {
      "application/javascript": [
       "\n",
       "                    $(\"#pm_label9c3fdd4c\").text(\"Downloaded 1540096 of 2924631 bytes\");\n",
       "                    $(\"#pm_progress9c3fdd4c\").attr(\"value\", 52.66);\n",
       "                "
      ],
      "text/plain": [
       "<IPython.core.display.Javascript object>"
      ]
     },
     "metadata": {},
     "output_type": "display_data"
    },
    {
     "data": {
      "application/javascript": [
       "\n",
       "                    $(\"#pm_label9c3fdd4c\").text(\"Downloaded 1548288 of 2924631 bytes\");\n",
       "                    $(\"#pm_progress9c3fdd4c\").attr(\"value\", 52.94);\n",
       "                "
      ],
      "text/plain": [
       "<IPython.core.display.Javascript object>"
      ]
     },
     "metadata": {},
     "output_type": "display_data"
    },
    {
     "data": {
      "application/javascript": [
       "\n",
       "                    $(\"#pm_label9c3fdd4c\").text(\"Downloaded 1556480 of 2924631 bytes\");\n",
       "                    $(\"#pm_progress9c3fdd4c\").attr(\"value\", 53.22);\n",
       "                "
      ],
      "text/plain": [
       "<IPython.core.display.Javascript object>"
      ]
     },
     "metadata": {},
     "output_type": "display_data"
    },
    {
     "data": {
      "application/javascript": [
       "\n",
       "                    $(\"#pm_label9c3fdd4c\").text(\"Downloaded 1564672 of 2924631 bytes\");\n",
       "                    $(\"#pm_progress9c3fdd4c\").attr(\"value\", 53.5);\n",
       "                "
      ],
      "text/plain": [
       "<IPython.core.display.Javascript object>"
      ]
     },
     "metadata": {},
     "output_type": "display_data"
    },
    {
     "data": {
      "application/javascript": [
       "\n",
       "                    $(\"#pm_label9c3fdd4c\").text(\"Downloaded 1572864 of 2924631 bytes\");\n",
       "                    $(\"#pm_progress9c3fdd4c\").attr(\"value\", 53.78);\n",
       "                "
      ],
      "text/plain": [
       "<IPython.core.display.Javascript object>"
      ]
     },
     "metadata": {},
     "output_type": "display_data"
    },
    {
     "data": {
      "application/javascript": [
       "\n",
       "                    $(\"#pm_label9c3fdd4c\").text(\"Downloaded 1581056 of 2924631 bytes\");\n",
       "                    $(\"#pm_progress9c3fdd4c\").attr(\"value\", 54.06);\n",
       "                "
      ],
      "text/plain": [
       "<IPython.core.display.Javascript object>"
      ]
     },
     "metadata": {},
     "output_type": "display_data"
    },
    {
     "data": {
      "application/javascript": [
       "\n",
       "                    $(\"#pm_label9c3fdd4c\").text(\"Downloaded 1589248 of 2924631 bytes\");\n",
       "                    $(\"#pm_progress9c3fdd4c\").attr(\"value\", 54.34);\n",
       "                "
      ],
      "text/plain": [
       "<IPython.core.display.Javascript object>"
      ]
     },
     "metadata": {},
     "output_type": "display_data"
    },
    {
     "data": {
      "application/javascript": [
       "\n",
       "                    $(\"#pm_label9c3fdd4c\").text(\"Downloaded 1597440 of 2924631 bytes\");\n",
       "                    $(\"#pm_progress9c3fdd4c\").attr(\"value\", 54.62);\n",
       "                "
      ],
      "text/plain": [
       "<IPython.core.display.Javascript object>"
      ]
     },
     "metadata": {},
     "output_type": "display_data"
    },
    {
     "data": {
      "application/javascript": [
       "\n",
       "                    $(\"#pm_label9c3fdd4c\").text(\"Downloaded 1605632 of 2924631 bytes\");\n",
       "                    $(\"#pm_progress9c3fdd4c\").attr(\"value\", 54.9);\n",
       "                "
      ],
      "text/plain": [
       "<IPython.core.display.Javascript object>"
      ]
     },
     "metadata": {},
     "output_type": "display_data"
    },
    {
     "data": {
      "application/javascript": [
       "\n",
       "                    $(\"#pm_label9c3fdd4c\").text(\"Downloaded 1613824 of 2924631 bytes\");\n",
       "                    $(\"#pm_progress9c3fdd4c\").attr(\"value\", 55.18);\n",
       "                "
      ],
      "text/plain": [
       "<IPython.core.display.Javascript object>"
      ]
     },
     "metadata": {},
     "output_type": "display_data"
    },
    {
     "data": {
      "application/javascript": [
       "\n",
       "                    $(\"#pm_label9c3fdd4c\").text(\"Downloaded 1622016 of 2924631 bytes\");\n",
       "                    $(\"#pm_progress9c3fdd4c\").attr(\"value\", 55.46);\n",
       "                "
      ],
      "text/plain": [
       "<IPython.core.display.Javascript object>"
      ]
     },
     "metadata": {},
     "output_type": "display_data"
    },
    {
     "data": {
      "application/javascript": [
       "\n",
       "                    $(\"#pm_label9c3fdd4c\").text(\"Downloaded 1630208 of 2924631 bytes\");\n",
       "                    $(\"#pm_progress9c3fdd4c\").attr(\"value\", 55.74);\n",
       "                "
      ],
      "text/plain": [
       "<IPython.core.display.Javascript object>"
      ]
     },
     "metadata": {},
     "output_type": "display_data"
    },
    {
     "data": {
      "application/javascript": [
       "\n",
       "                    $(\"#pm_label9c3fdd4c\").text(\"Downloaded 1638400 of 2924631 bytes\");\n",
       "                    $(\"#pm_progress9c3fdd4c\").attr(\"value\", 56.02);\n",
       "                "
      ],
      "text/plain": [
       "<IPython.core.display.Javascript object>"
      ]
     },
     "metadata": {},
     "output_type": "display_data"
    },
    {
     "data": {
      "application/javascript": [
       "\n",
       "                    $(\"#pm_label9c3fdd4c\").text(\"Downloaded 1646592 of 2924631 bytes\");\n",
       "                    $(\"#pm_progress9c3fdd4c\").attr(\"value\", 56.3);\n",
       "                "
      ],
      "text/plain": [
       "<IPython.core.display.Javascript object>"
      ]
     },
     "metadata": {},
     "output_type": "display_data"
    },
    {
     "data": {
      "application/javascript": [
       "\n",
       "                    $(\"#pm_label9c3fdd4c\").text(\"Downloaded 1654784 of 2924631 bytes\");\n",
       "                    $(\"#pm_progress9c3fdd4c\").attr(\"value\", 56.58);\n",
       "                "
      ],
      "text/plain": [
       "<IPython.core.display.Javascript object>"
      ]
     },
     "metadata": {},
     "output_type": "display_data"
    },
    {
     "data": {
      "application/javascript": [
       "\n",
       "                    $(\"#pm_label9c3fdd4c\").text(\"Downloaded 1662976 of 2924631 bytes\");\n",
       "                    $(\"#pm_progress9c3fdd4c\").attr(\"value\", 56.86);\n",
       "                "
      ],
      "text/plain": [
       "<IPython.core.display.Javascript object>"
      ]
     },
     "metadata": {},
     "output_type": "display_data"
    },
    {
     "data": {
      "application/javascript": [
       "\n",
       "                    $(\"#pm_label9c3fdd4c\").text(\"Downloaded 1671168 of 2924631 bytes\");\n",
       "                    $(\"#pm_progress9c3fdd4c\").attr(\"value\", 57.14);\n",
       "                "
      ],
      "text/plain": [
       "<IPython.core.display.Javascript object>"
      ]
     },
     "metadata": {},
     "output_type": "display_data"
    },
    {
     "data": {
      "application/javascript": [
       "\n",
       "                    $(\"#pm_label9c3fdd4c\").text(\"Downloaded 1679360 of 2924631 bytes\");\n",
       "                    $(\"#pm_progress9c3fdd4c\").attr(\"value\", 57.42);\n",
       "                "
      ],
      "text/plain": [
       "<IPython.core.display.Javascript object>"
      ]
     },
     "metadata": {},
     "output_type": "display_data"
    },
    {
     "data": {
      "application/javascript": [
       "\n",
       "                    $(\"#pm_label9c3fdd4c\").text(\"Downloaded 1687552 of 2924631 bytes\");\n",
       "                    $(\"#pm_progress9c3fdd4c\").attr(\"value\", 57.7);\n",
       "                "
      ],
      "text/plain": [
       "<IPython.core.display.Javascript object>"
      ]
     },
     "metadata": {},
     "output_type": "display_data"
    },
    {
     "data": {
      "application/javascript": [
       "\n",
       "                    $(\"#pm_label9c3fdd4c\").text(\"Downloaded 1695744 of 2924631 bytes\");\n",
       "                    $(\"#pm_progress9c3fdd4c\").attr(\"value\", 57.98);\n",
       "                "
      ],
      "text/plain": [
       "<IPython.core.display.Javascript object>"
      ]
     },
     "metadata": {},
     "output_type": "display_data"
    },
    {
     "data": {
      "application/javascript": [
       "\n",
       "                    $(\"#pm_label9c3fdd4c\").text(\"Downloaded 1703936 of 2924631 bytes\");\n",
       "                    $(\"#pm_progress9c3fdd4c\").attr(\"value\", 58.26);\n",
       "                "
      ],
      "text/plain": [
       "<IPython.core.display.Javascript object>"
      ]
     },
     "metadata": {},
     "output_type": "display_data"
    },
    {
     "data": {
      "application/javascript": [
       "\n",
       "                    $(\"#pm_label9c3fdd4c\").text(\"Downloaded 1712128 of 2924631 bytes\");\n",
       "                    $(\"#pm_progress9c3fdd4c\").attr(\"value\", 58.54);\n",
       "                "
      ],
      "text/plain": [
       "<IPython.core.display.Javascript object>"
      ]
     },
     "metadata": {},
     "output_type": "display_data"
    },
    {
     "data": {
      "application/javascript": [
       "\n",
       "                    $(\"#pm_label9c3fdd4c\").text(\"Downloaded 1720320 of 2924631 bytes\");\n",
       "                    $(\"#pm_progress9c3fdd4c\").attr(\"value\", 58.82);\n",
       "                "
      ],
      "text/plain": [
       "<IPython.core.display.Javascript object>"
      ]
     },
     "metadata": {},
     "output_type": "display_data"
    },
    {
     "data": {
      "application/javascript": [
       "\n",
       "                    $(\"#pm_label9c3fdd4c\").text(\"Downloaded 1728512 of 2924631 bytes\");\n",
       "                    $(\"#pm_progress9c3fdd4c\").attr(\"value\", 59.1);\n",
       "                "
      ],
      "text/plain": [
       "<IPython.core.display.Javascript object>"
      ]
     },
     "metadata": {},
     "output_type": "display_data"
    },
    {
     "data": {
      "application/javascript": [
       "\n",
       "                    $(\"#pm_label9c3fdd4c\").text(\"Downloaded 1736704 of 2924631 bytes\");\n",
       "                    $(\"#pm_progress9c3fdd4c\").attr(\"value\", 59.38);\n",
       "                "
      ],
      "text/plain": [
       "<IPython.core.display.Javascript object>"
      ]
     },
     "metadata": {},
     "output_type": "display_data"
    },
    {
     "data": {
      "application/javascript": [
       "\n",
       "                    $(\"#pm_label9c3fdd4c\").text(\"Downloaded 1744896 of 2924631 bytes\");\n",
       "                    $(\"#pm_progress9c3fdd4c\").attr(\"value\", 59.66);\n",
       "                "
      ],
      "text/plain": [
       "<IPython.core.display.Javascript object>"
      ]
     },
     "metadata": {},
     "output_type": "display_data"
    },
    {
     "data": {
      "application/javascript": [
       "\n",
       "                    $(\"#pm_label9c3fdd4c\").text(\"Downloaded 1753088 of 2924631 bytes\");\n",
       "                    $(\"#pm_progress9c3fdd4c\").attr(\"value\", 59.94);\n",
       "                "
      ],
      "text/plain": [
       "<IPython.core.display.Javascript object>"
      ]
     },
     "metadata": {},
     "output_type": "display_data"
    },
    {
     "data": {
      "application/javascript": [
       "\n",
       "                    $(\"#pm_label9c3fdd4c\").text(\"Downloaded 1761280 of 2924631 bytes\");\n",
       "                    $(\"#pm_progress9c3fdd4c\").attr(\"value\", 60.22);\n",
       "                "
      ],
      "text/plain": [
       "<IPython.core.display.Javascript object>"
      ]
     },
     "metadata": {},
     "output_type": "display_data"
    },
    {
     "data": {
      "application/javascript": [
       "\n",
       "                    $(\"#pm_label9c3fdd4c\").text(\"Downloaded 1769472 of 2924631 bytes\");\n",
       "                    $(\"#pm_progress9c3fdd4c\").attr(\"value\", 60.5);\n",
       "                "
      ],
      "text/plain": [
       "<IPython.core.display.Javascript object>"
      ]
     },
     "metadata": {},
     "output_type": "display_data"
    },
    {
     "data": {
      "application/javascript": [
       "\n",
       "                    $(\"#pm_label9c3fdd4c\").text(\"Downloaded 1777664 of 2924631 bytes\");\n",
       "                    $(\"#pm_progress9c3fdd4c\").attr(\"value\", 60.78);\n",
       "                "
      ],
      "text/plain": [
       "<IPython.core.display.Javascript object>"
      ]
     },
     "metadata": {},
     "output_type": "display_data"
    },
    {
     "data": {
      "application/javascript": [
       "\n",
       "                    $(\"#pm_label9c3fdd4c\").text(\"Downloaded 1785856 of 2924631 bytes\");\n",
       "                    $(\"#pm_progress9c3fdd4c\").attr(\"value\", 61.06);\n",
       "                "
      ],
      "text/plain": [
       "<IPython.core.display.Javascript object>"
      ]
     },
     "metadata": {},
     "output_type": "display_data"
    },
    {
     "data": {
      "application/javascript": [
       "\n",
       "                    $(\"#pm_label9c3fdd4c\").text(\"Downloaded 1794048 of 2924631 bytes\");\n",
       "                    $(\"#pm_progress9c3fdd4c\").attr(\"value\", 61.34);\n",
       "                "
      ],
      "text/plain": [
       "<IPython.core.display.Javascript object>"
      ]
     },
     "metadata": {},
     "output_type": "display_data"
    },
    {
     "data": {
      "application/javascript": [
       "\n",
       "                    $(\"#pm_label9c3fdd4c\").text(\"Downloaded 1802240 of 2924631 bytes\");\n",
       "                    $(\"#pm_progress9c3fdd4c\").attr(\"value\", 61.62);\n",
       "                "
      ],
      "text/plain": [
       "<IPython.core.display.Javascript object>"
      ]
     },
     "metadata": {},
     "output_type": "display_data"
    },
    {
     "data": {
      "application/javascript": [
       "\n",
       "                    $(\"#pm_label9c3fdd4c\").text(\"Downloaded 1810432 of 2924631 bytes\");\n",
       "                    $(\"#pm_progress9c3fdd4c\").attr(\"value\", 61.9);\n",
       "                "
      ],
      "text/plain": [
       "<IPython.core.display.Javascript object>"
      ]
     },
     "metadata": {},
     "output_type": "display_data"
    },
    {
     "data": {
      "application/javascript": [
       "\n",
       "                    $(\"#pm_label9c3fdd4c\").text(\"Downloaded 1818624 of 2924631 bytes\");\n",
       "                    $(\"#pm_progress9c3fdd4c\").attr(\"value\", 62.18);\n",
       "                "
      ],
      "text/plain": [
       "<IPython.core.display.Javascript object>"
      ]
     },
     "metadata": {},
     "output_type": "display_data"
    },
    {
     "data": {
      "application/javascript": [
       "\n",
       "                    $(\"#pm_label9c3fdd4c\").text(\"Downloaded 1826816 of 2924631 bytes\");\n",
       "                    $(\"#pm_progress9c3fdd4c\").attr(\"value\", 62.46);\n",
       "                "
      ],
      "text/plain": [
       "<IPython.core.display.Javascript object>"
      ]
     },
     "metadata": {},
     "output_type": "display_data"
    },
    {
     "data": {
      "application/javascript": [
       "\n",
       "                    $(\"#pm_label9c3fdd4c\").text(\"Downloaded 1835008 of 2924631 bytes\");\n",
       "                    $(\"#pm_progress9c3fdd4c\").attr(\"value\", 62.74);\n",
       "                "
      ],
      "text/plain": [
       "<IPython.core.display.Javascript object>"
      ]
     },
     "metadata": {},
     "output_type": "display_data"
    },
    {
     "data": {
      "application/javascript": [
       "\n",
       "                    $(\"#pm_label9c3fdd4c\").text(\"Downloaded 1843200 of 2924631 bytes\");\n",
       "                    $(\"#pm_progress9c3fdd4c\").attr(\"value\", 63.02);\n",
       "                "
      ],
      "text/plain": [
       "<IPython.core.display.Javascript object>"
      ]
     },
     "metadata": {},
     "output_type": "display_data"
    },
    {
     "data": {
      "application/javascript": [
       "\n",
       "                    $(\"#pm_label9c3fdd4c\").text(\"Downloaded 1851392 of 2924631 bytes\");\n",
       "                    $(\"#pm_progress9c3fdd4c\").attr(\"value\", 63.3);\n",
       "                "
      ],
      "text/plain": [
       "<IPython.core.display.Javascript object>"
      ]
     },
     "metadata": {},
     "output_type": "display_data"
    },
    {
     "data": {
      "application/javascript": [
       "\n",
       "                    $(\"#pm_label9c3fdd4c\").text(\"Downloaded 1859584 of 2924631 bytes\");\n",
       "                    $(\"#pm_progress9c3fdd4c\").attr(\"value\", 63.58);\n",
       "                "
      ],
      "text/plain": [
       "<IPython.core.display.Javascript object>"
      ]
     },
     "metadata": {},
     "output_type": "display_data"
    },
    {
     "data": {
      "application/javascript": [
       "\n",
       "                    $(\"#pm_label9c3fdd4c\").text(\"Downloaded 1867776 of 2924631 bytes\");\n",
       "                    $(\"#pm_progress9c3fdd4c\").attr(\"value\", 63.86);\n",
       "                "
      ],
      "text/plain": [
       "<IPython.core.display.Javascript object>"
      ]
     },
     "metadata": {},
     "output_type": "display_data"
    },
    {
     "data": {
      "application/javascript": [
       "\n",
       "                    $(\"#pm_label9c3fdd4c\").text(\"Downloaded 1875968 of 2924631 bytes\");\n",
       "                    $(\"#pm_progress9c3fdd4c\").attr(\"value\", 64.14);\n",
       "                "
      ],
      "text/plain": [
       "<IPython.core.display.Javascript object>"
      ]
     },
     "metadata": {},
     "output_type": "display_data"
    },
    {
     "data": {
      "application/javascript": [
       "\n",
       "                    $(\"#pm_label9c3fdd4c\").text(\"Downloaded 1884160 of 2924631 bytes\");\n",
       "                    $(\"#pm_progress9c3fdd4c\").attr(\"value\", 64.42);\n",
       "                "
      ],
      "text/plain": [
       "<IPython.core.display.Javascript object>"
      ]
     },
     "metadata": {},
     "output_type": "display_data"
    },
    {
     "data": {
      "application/javascript": [
       "\n",
       "                    $(\"#pm_label9c3fdd4c\").text(\"Downloaded 1892352 of 2924631 bytes\");\n",
       "                    $(\"#pm_progress9c3fdd4c\").attr(\"value\", 64.7);\n",
       "                "
      ],
      "text/plain": [
       "<IPython.core.display.Javascript object>"
      ]
     },
     "metadata": {},
     "output_type": "display_data"
    },
    {
     "data": {
      "application/javascript": [
       "\n",
       "                    $(\"#pm_label9c3fdd4c\").text(\"Downloaded 1900544 of 2924631 bytes\");\n",
       "                    $(\"#pm_progress9c3fdd4c\").attr(\"value\", 64.98);\n",
       "                "
      ],
      "text/plain": [
       "<IPython.core.display.Javascript object>"
      ]
     },
     "metadata": {},
     "output_type": "display_data"
    },
    {
     "data": {
      "application/javascript": [
       "\n",
       "                    $(\"#pm_label9c3fdd4c\").text(\"Downloaded 1908736 of 2924631 bytes\");\n",
       "                    $(\"#pm_progress9c3fdd4c\").attr(\"value\", 65.26);\n",
       "                "
      ],
      "text/plain": [
       "<IPython.core.display.Javascript object>"
      ]
     },
     "metadata": {},
     "output_type": "display_data"
    },
    {
     "data": {
      "application/javascript": [
       "\n",
       "                    $(\"#pm_label9c3fdd4c\").text(\"Downloaded 1916928 of 2924631 bytes\");\n",
       "                    $(\"#pm_progress9c3fdd4c\").attr(\"value\", 65.54);\n",
       "                "
      ],
      "text/plain": [
       "<IPython.core.display.Javascript object>"
      ]
     },
     "metadata": {},
     "output_type": "display_data"
    },
    {
     "data": {
      "application/javascript": [
       "\n",
       "                    $(\"#pm_label9c3fdd4c\").text(\"Downloaded 1925120 of 2924631 bytes\");\n",
       "                    $(\"#pm_progress9c3fdd4c\").attr(\"value\", 65.82);\n",
       "                "
      ],
      "text/plain": [
       "<IPython.core.display.Javascript object>"
      ]
     },
     "metadata": {},
     "output_type": "display_data"
    },
    {
     "data": {
      "application/javascript": [
       "\n",
       "                    $(\"#pm_label9c3fdd4c\").text(\"Downloaded 1933312 of 2924631 bytes\");\n",
       "                    $(\"#pm_progress9c3fdd4c\").attr(\"value\", 66.1);\n",
       "                "
      ],
      "text/plain": [
       "<IPython.core.display.Javascript object>"
      ]
     },
     "metadata": {},
     "output_type": "display_data"
    },
    {
     "data": {
      "application/javascript": [
       "\n",
       "                    $(\"#pm_label9c3fdd4c\").text(\"Downloaded 1941504 of 2924631 bytes\");\n",
       "                    $(\"#pm_progress9c3fdd4c\").attr(\"value\", 66.38);\n",
       "                "
      ],
      "text/plain": [
       "<IPython.core.display.Javascript object>"
      ]
     },
     "metadata": {},
     "output_type": "display_data"
    },
    {
     "data": {
      "application/javascript": [
       "\n",
       "                    $(\"#pm_label9c3fdd4c\").text(\"Downloaded 1949696 of 2924631 bytes\");\n",
       "                    $(\"#pm_progress9c3fdd4c\").attr(\"value\", 66.66);\n",
       "                "
      ],
      "text/plain": [
       "<IPython.core.display.Javascript object>"
      ]
     },
     "metadata": {},
     "output_type": "display_data"
    },
    {
     "data": {
      "application/javascript": [
       "\n",
       "                    $(\"#pm_label9c3fdd4c\").text(\"Downloaded 1957888 of 2924631 bytes\");\n",
       "                    $(\"#pm_progress9c3fdd4c\").attr(\"value\", 66.94);\n",
       "                "
      ],
      "text/plain": [
       "<IPython.core.display.Javascript object>"
      ]
     },
     "metadata": {},
     "output_type": "display_data"
    },
    {
     "data": {
      "application/javascript": [
       "\n",
       "                    $(\"#pm_label9c3fdd4c\").text(\"Downloaded 1966080 of 2924631 bytes\");\n",
       "                    $(\"#pm_progress9c3fdd4c\").attr(\"value\", 67.22);\n",
       "                "
      ],
      "text/plain": [
       "<IPython.core.display.Javascript object>"
      ]
     },
     "metadata": {},
     "output_type": "display_data"
    },
    {
     "data": {
      "application/javascript": [
       "\n",
       "                    $(\"#pm_label9c3fdd4c\").text(\"Downloaded 1974272 of 2924631 bytes\");\n",
       "                    $(\"#pm_progress9c3fdd4c\").attr(\"value\", 67.5);\n",
       "                "
      ],
      "text/plain": [
       "<IPython.core.display.Javascript object>"
      ]
     },
     "metadata": {},
     "output_type": "display_data"
    },
    {
     "data": {
      "application/javascript": [
       "\n",
       "                    $(\"#pm_label9c3fdd4c\").text(\"Downloaded 1982464 of 2924631 bytes\");\n",
       "                    $(\"#pm_progress9c3fdd4c\").attr(\"value\", 67.79);\n",
       "                "
      ],
      "text/plain": [
       "<IPython.core.display.Javascript object>"
      ]
     },
     "metadata": {},
     "output_type": "display_data"
    },
    {
     "data": {
      "application/javascript": [
       "\n",
       "                    $(\"#pm_label9c3fdd4c\").text(\"Downloaded 1990656 of 2924631 bytes\");\n",
       "                    $(\"#pm_progress9c3fdd4c\").attr(\"value\", 68.07);\n",
       "                "
      ],
      "text/plain": [
       "<IPython.core.display.Javascript object>"
      ]
     },
     "metadata": {},
     "output_type": "display_data"
    },
    {
     "data": {
      "application/javascript": [
       "\n",
       "                    $(\"#pm_label9c3fdd4c\").text(\"Downloaded 1998848 of 2924631 bytes\");\n",
       "                    $(\"#pm_progress9c3fdd4c\").attr(\"value\", 68.35);\n",
       "                "
      ],
      "text/plain": [
       "<IPython.core.display.Javascript object>"
      ]
     },
     "metadata": {},
     "output_type": "display_data"
    },
    {
     "data": {
      "application/javascript": [
       "\n",
       "                    $(\"#pm_label9c3fdd4c\").text(\"Downloaded 2007040 of 2924631 bytes\");\n",
       "                    $(\"#pm_progress9c3fdd4c\").attr(\"value\", 68.63);\n",
       "                "
      ],
      "text/plain": [
       "<IPython.core.display.Javascript object>"
      ]
     },
     "metadata": {},
     "output_type": "display_data"
    },
    {
     "data": {
      "application/javascript": [
       "\n",
       "                    $(\"#pm_label9c3fdd4c\").text(\"Downloaded 2015232 of 2924631 bytes\");\n",
       "                    $(\"#pm_progress9c3fdd4c\").attr(\"value\", 68.91);\n",
       "                "
      ],
      "text/plain": [
       "<IPython.core.display.Javascript object>"
      ]
     },
     "metadata": {},
     "output_type": "display_data"
    },
    {
     "data": {
      "application/javascript": [
       "\n",
       "                    $(\"#pm_label9c3fdd4c\").text(\"Downloaded 2023424 of 2924631 bytes\");\n",
       "                    $(\"#pm_progress9c3fdd4c\").attr(\"value\", 69.19);\n",
       "                "
      ],
      "text/plain": [
       "<IPython.core.display.Javascript object>"
      ]
     },
     "metadata": {},
     "output_type": "display_data"
    },
    {
     "data": {
      "application/javascript": [
       "\n",
       "                    $(\"#pm_label9c3fdd4c\").text(\"Downloaded 2031616 of 2924631 bytes\");\n",
       "                    $(\"#pm_progress9c3fdd4c\").attr(\"value\", 69.47);\n",
       "                "
      ],
      "text/plain": [
       "<IPython.core.display.Javascript object>"
      ]
     },
     "metadata": {},
     "output_type": "display_data"
    },
    {
     "data": {
      "application/javascript": [
       "\n",
       "                    $(\"#pm_label9c3fdd4c\").text(\"Downloaded 2039808 of 2924631 bytes\");\n",
       "                    $(\"#pm_progress9c3fdd4c\").attr(\"value\", 69.75);\n",
       "                "
      ],
      "text/plain": [
       "<IPython.core.display.Javascript object>"
      ]
     },
     "metadata": {},
     "output_type": "display_data"
    },
    {
     "data": {
      "application/javascript": [
       "\n",
       "                    $(\"#pm_label9c3fdd4c\").text(\"Downloaded 2048000 of 2924631 bytes\");\n",
       "                    $(\"#pm_progress9c3fdd4c\").attr(\"value\", 70.03);\n",
       "                "
      ],
      "text/plain": [
       "<IPython.core.display.Javascript object>"
      ]
     },
     "metadata": {},
     "output_type": "display_data"
    },
    {
     "data": {
      "application/javascript": [
       "\n",
       "                    $(\"#pm_label9c3fdd4c\").text(\"Downloaded 2056192 of 2924631 bytes\");\n",
       "                    $(\"#pm_progress9c3fdd4c\").attr(\"value\", 70.31);\n",
       "                "
      ],
      "text/plain": [
       "<IPython.core.display.Javascript object>"
      ]
     },
     "metadata": {},
     "output_type": "display_data"
    },
    {
     "data": {
      "application/javascript": [
       "\n",
       "                    $(\"#pm_label9c3fdd4c\").text(\"Downloaded 2064384 of 2924631 bytes\");\n",
       "                    $(\"#pm_progress9c3fdd4c\").attr(\"value\", 70.59);\n",
       "                "
      ],
      "text/plain": [
       "<IPython.core.display.Javascript object>"
      ]
     },
     "metadata": {},
     "output_type": "display_data"
    },
    {
     "data": {
      "application/javascript": [
       "\n",
       "                    $(\"#pm_label9c3fdd4c\").text(\"Downloaded 2072576 of 2924631 bytes\");\n",
       "                    $(\"#pm_progress9c3fdd4c\").attr(\"value\", 70.87);\n",
       "                "
      ],
      "text/plain": [
       "<IPython.core.display.Javascript object>"
      ]
     },
     "metadata": {},
     "output_type": "display_data"
    },
    {
     "data": {
      "application/javascript": [
       "\n",
       "                    $(\"#pm_label9c3fdd4c\").text(\"Downloaded 2080768 of 2924631 bytes\");\n",
       "                    $(\"#pm_progress9c3fdd4c\").attr(\"value\", 71.15);\n",
       "                "
      ],
      "text/plain": [
       "<IPython.core.display.Javascript object>"
      ]
     },
     "metadata": {},
     "output_type": "display_data"
    },
    {
     "data": {
      "application/javascript": [
       "\n",
       "                    $(\"#pm_label9c3fdd4c\").text(\"Downloaded 2088960 of 2924631 bytes\");\n",
       "                    $(\"#pm_progress9c3fdd4c\").attr(\"value\", 71.43);\n",
       "                "
      ],
      "text/plain": [
       "<IPython.core.display.Javascript object>"
      ]
     },
     "metadata": {},
     "output_type": "display_data"
    },
    {
     "data": {
      "application/javascript": [
       "\n",
       "                    $(\"#pm_label9c3fdd4c\").text(\"Downloaded 2097152 of 2924631 bytes\");\n",
       "                    $(\"#pm_progress9c3fdd4c\").attr(\"value\", 71.71);\n",
       "                "
      ],
      "text/plain": [
       "<IPython.core.display.Javascript object>"
      ]
     },
     "metadata": {},
     "output_type": "display_data"
    },
    {
     "data": {
      "application/javascript": [
       "\n",
       "                    $(\"#pm_label9c3fdd4c\").text(\"Downloaded 2105344 of 2924631 bytes\");\n",
       "                    $(\"#pm_progress9c3fdd4c\").attr(\"value\", 71.99);\n",
       "                "
      ],
      "text/plain": [
       "<IPython.core.display.Javascript object>"
      ]
     },
     "metadata": {},
     "output_type": "display_data"
    },
    {
     "data": {
      "application/javascript": [
       "\n",
       "                    $(\"#pm_label9c3fdd4c\").text(\"Downloaded 2113536 of 2924631 bytes\");\n",
       "                    $(\"#pm_progress9c3fdd4c\").attr(\"value\", 72.27);\n",
       "                "
      ],
      "text/plain": [
       "<IPython.core.display.Javascript object>"
      ]
     },
     "metadata": {},
     "output_type": "display_data"
    },
    {
     "data": {
      "application/javascript": [
       "\n",
       "                    $(\"#pm_label9c3fdd4c\").text(\"Downloaded 2121728 of 2924631 bytes\");\n",
       "                    $(\"#pm_progress9c3fdd4c\").attr(\"value\", 72.55);\n",
       "                "
      ],
      "text/plain": [
       "<IPython.core.display.Javascript object>"
      ]
     },
     "metadata": {},
     "output_type": "display_data"
    },
    {
     "data": {
      "application/javascript": [
       "\n",
       "                    $(\"#pm_label9c3fdd4c\").text(\"Downloaded 2129920 of 2924631 bytes\");\n",
       "                    $(\"#pm_progress9c3fdd4c\").attr(\"value\", 72.83);\n",
       "                "
      ],
      "text/plain": [
       "<IPython.core.display.Javascript object>"
      ]
     },
     "metadata": {},
     "output_type": "display_data"
    },
    {
     "data": {
      "application/javascript": [
       "\n",
       "                    $(\"#pm_label9c3fdd4c\").text(\"Downloaded 2138112 of 2924631 bytes\");\n",
       "                    $(\"#pm_progress9c3fdd4c\").attr(\"value\", 73.11);\n",
       "                "
      ],
      "text/plain": [
       "<IPython.core.display.Javascript object>"
      ]
     },
     "metadata": {},
     "output_type": "display_data"
    },
    {
     "data": {
      "application/javascript": [
       "\n",
       "                    $(\"#pm_label9c3fdd4c\").text(\"Downloaded 2146304 of 2924631 bytes\");\n",
       "                    $(\"#pm_progress9c3fdd4c\").attr(\"value\", 73.39);\n",
       "                "
      ],
      "text/plain": [
       "<IPython.core.display.Javascript object>"
      ]
     },
     "metadata": {},
     "output_type": "display_data"
    },
    {
     "data": {
      "application/javascript": [
       "\n",
       "                    $(\"#pm_label9c3fdd4c\").text(\"Downloaded 2154496 of 2924631 bytes\");\n",
       "                    $(\"#pm_progress9c3fdd4c\").attr(\"value\", 73.67);\n",
       "                "
      ],
      "text/plain": [
       "<IPython.core.display.Javascript object>"
      ]
     },
     "metadata": {},
     "output_type": "display_data"
    },
    {
     "data": {
      "application/javascript": [
       "\n",
       "                    $(\"#pm_label9c3fdd4c\").text(\"Downloaded 2162688 of 2924631 bytes\");\n",
       "                    $(\"#pm_progress9c3fdd4c\").attr(\"value\", 73.95);\n",
       "                "
      ],
      "text/plain": [
       "<IPython.core.display.Javascript object>"
      ]
     },
     "metadata": {},
     "output_type": "display_data"
    },
    {
     "data": {
      "application/javascript": [
       "\n",
       "                    $(\"#pm_label9c3fdd4c\").text(\"Downloaded 2170880 of 2924631 bytes\");\n",
       "                    $(\"#pm_progress9c3fdd4c\").attr(\"value\", 74.23);\n",
       "                "
      ],
      "text/plain": [
       "<IPython.core.display.Javascript object>"
      ]
     },
     "metadata": {},
     "output_type": "display_data"
    },
    {
     "data": {
      "application/javascript": [
       "\n",
       "                    $(\"#pm_label9c3fdd4c\").text(\"Downloaded 2179072 of 2924631 bytes\");\n",
       "                    $(\"#pm_progress9c3fdd4c\").attr(\"value\", 74.51);\n",
       "                "
      ],
      "text/plain": [
       "<IPython.core.display.Javascript object>"
      ]
     },
     "metadata": {},
     "output_type": "display_data"
    },
    {
     "data": {
      "application/javascript": [
       "\n",
       "                    $(\"#pm_label9c3fdd4c\").text(\"Downloaded 2187264 of 2924631 bytes\");\n",
       "                    $(\"#pm_progress9c3fdd4c\").attr(\"value\", 74.79);\n",
       "                "
      ],
      "text/plain": [
       "<IPython.core.display.Javascript object>"
      ]
     },
     "metadata": {},
     "output_type": "display_data"
    },
    {
     "data": {
      "application/javascript": [
       "\n",
       "                    $(\"#pm_label9c3fdd4c\").text(\"Downloaded 2195456 of 2924631 bytes\");\n",
       "                    $(\"#pm_progress9c3fdd4c\").attr(\"value\", 75.07);\n",
       "                "
      ],
      "text/plain": [
       "<IPython.core.display.Javascript object>"
      ]
     },
     "metadata": {},
     "output_type": "display_data"
    },
    {
     "data": {
      "application/javascript": [
       "\n",
       "                    $(\"#pm_label9c3fdd4c\").text(\"Downloaded 2203648 of 2924631 bytes\");\n",
       "                    $(\"#pm_progress9c3fdd4c\").attr(\"value\", 75.35);\n",
       "                "
      ],
      "text/plain": [
       "<IPython.core.display.Javascript object>"
      ]
     },
     "metadata": {},
     "output_type": "display_data"
    },
    {
     "data": {
      "application/javascript": [
       "\n",
       "                    $(\"#pm_label9c3fdd4c\").text(\"Downloaded 2211840 of 2924631 bytes\");\n",
       "                    $(\"#pm_progress9c3fdd4c\").attr(\"value\", 75.63);\n",
       "                "
      ],
      "text/plain": [
       "<IPython.core.display.Javascript object>"
      ]
     },
     "metadata": {},
     "output_type": "display_data"
    },
    {
     "data": {
      "application/javascript": [
       "\n",
       "                    $(\"#pm_label9c3fdd4c\").text(\"Downloaded 2220032 of 2924631 bytes\");\n",
       "                    $(\"#pm_progress9c3fdd4c\").attr(\"value\", 75.91);\n",
       "                "
      ],
      "text/plain": [
       "<IPython.core.display.Javascript object>"
      ]
     },
     "metadata": {},
     "output_type": "display_data"
    },
    {
     "data": {
      "application/javascript": [
       "\n",
       "                    $(\"#pm_label9c3fdd4c\").text(\"Downloaded 2228224 of 2924631 bytes\");\n",
       "                    $(\"#pm_progress9c3fdd4c\").attr(\"value\", 76.19);\n",
       "                "
      ],
      "text/plain": [
       "<IPython.core.display.Javascript object>"
      ]
     },
     "metadata": {},
     "output_type": "display_data"
    },
    {
     "data": {
      "application/javascript": [
       "\n",
       "                    $(\"#pm_label9c3fdd4c\").text(\"Downloaded 2236416 of 2924631 bytes\");\n",
       "                    $(\"#pm_progress9c3fdd4c\").attr(\"value\", 76.47);\n",
       "                "
      ],
      "text/plain": [
       "<IPython.core.display.Javascript object>"
      ]
     },
     "metadata": {},
     "output_type": "display_data"
    },
    {
     "data": {
      "application/javascript": [
       "\n",
       "                    $(\"#pm_label9c3fdd4c\").text(\"Downloaded 2244608 of 2924631 bytes\");\n",
       "                    $(\"#pm_progress9c3fdd4c\").attr(\"value\", 76.75);\n",
       "                "
      ],
      "text/plain": [
       "<IPython.core.display.Javascript object>"
      ]
     },
     "metadata": {},
     "output_type": "display_data"
    },
    {
     "data": {
      "application/javascript": [
       "\n",
       "                    $(\"#pm_label9c3fdd4c\").text(\"Downloaded 2252800 of 2924631 bytes\");\n",
       "                    $(\"#pm_progress9c3fdd4c\").attr(\"value\", 77.03);\n",
       "                "
      ],
      "text/plain": [
       "<IPython.core.display.Javascript object>"
      ]
     },
     "metadata": {},
     "output_type": "display_data"
    },
    {
     "data": {
      "application/javascript": [
       "\n",
       "                    $(\"#pm_label9c3fdd4c\").text(\"Downloaded 2260992 of 2924631 bytes\");\n",
       "                    $(\"#pm_progress9c3fdd4c\").attr(\"value\", 77.31);\n",
       "                "
      ],
      "text/plain": [
       "<IPython.core.display.Javascript object>"
      ]
     },
     "metadata": {},
     "output_type": "display_data"
    },
    {
     "data": {
      "application/javascript": [
       "\n",
       "                    $(\"#pm_label9c3fdd4c\").text(\"Downloaded 2269184 of 2924631 bytes\");\n",
       "                    $(\"#pm_progress9c3fdd4c\").attr(\"value\", 77.59);\n",
       "                "
      ],
      "text/plain": [
       "<IPython.core.display.Javascript object>"
      ]
     },
     "metadata": {},
     "output_type": "display_data"
    },
    {
     "data": {
      "application/javascript": [
       "\n",
       "                    $(\"#pm_label9c3fdd4c\").text(\"Downloaded 2277376 of 2924631 bytes\");\n",
       "                    $(\"#pm_progress9c3fdd4c\").attr(\"value\", 77.87);\n",
       "                "
      ],
      "text/plain": [
       "<IPython.core.display.Javascript object>"
      ]
     },
     "metadata": {},
     "output_type": "display_data"
    },
    {
     "data": {
      "application/javascript": [
       "\n",
       "                    $(\"#pm_label9c3fdd4c\").text(\"Downloaded 2285568 of 2924631 bytes\");\n",
       "                    $(\"#pm_progress9c3fdd4c\").attr(\"value\", 78.15);\n",
       "                "
      ],
      "text/plain": [
       "<IPython.core.display.Javascript object>"
      ]
     },
     "metadata": {},
     "output_type": "display_data"
    },
    {
     "data": {
      "application/javascript": [
       "\n",
       "                    $(\"#pm_label9c3fdd4c\").text(\"Downloaded 2293760 of 2924631 bytes\");\n",
       "                    $(\"#pm_progress9c3fdd4c\").attr(\"value\", 78.43);\n",
       "                "
      ],
      "text/plain": [
       "<IPython.core.display.Javascript object>"
      ]
     },
     "metadata": {},
     "output_type": "display_data"
    },
    {
     "data": {
      "application/javascript": [
       "\n",
       "                    $(\"#pm_label9c3fdd4c\").text(\"Downloaded 2301952 of 2924631 bytes\");\n",
       "                    $(\"#pm_progress9c3fdd4c\").attr(\"value\", 78.71);\n",
       "                "
      ],
      "text/plain": [
       "<IPython.core.display.Javascript object>"
      ]
     },
     "metadata": {},
     "output_type": "display_data"
    },
    {
     "data": {
      "application/javascript": [
       "\n",
       "                    $(\"#pm_label9c3fdd4c\").text(\"Downloaded 2310144 of 2924631 bytes\");\n",
       "                    $(\"#pm_progress9c3fdd4c\").attr(\"value\", 78.99);\n",
       "                "
      ],
      "text/plain": [
       "<IPython.core.display.Javascript object>"
      ]
     },
     "metadata": {},
     "output_type": "display_data"
    },
    {
     "data": {
      "application/javascript": [
       "\n",
       "                    $(\"#pm_label9c3fdd4c\").text(\"Downloaded 2318336 of 2924631 bytes\");\n",
       "                    $(\"#pm_progress9c3fdd4c\").attr(\"value\", 79.27);\n",
       "                "
      ],
      "text/plain": [
       "<IPython.core.display.Javascript object>"
      ]
     },
     "metadata": {},
     "output_type": "display_data"
    },
    {
     "data": {
      "application/javascript": [
       "\n",
       "                    $(\"#pm_label9c3fdd4c\").text(\"Downloaded 2326528 of 2924631 bytes\");\n",
       "                    $(\"#pm_progress9c3fdd4c\").attr(\"value\", 79.55);\n",
       "                "
      ],
      "text/plain": [
       "<IPython.core.display.Javascript object>"
      ]
     },
     "metadata": {},
     "output_type": "display_data"
    },
    {
     "data": {
      "application/javascript": [
       "\n",
       "                    $(\"#pm_label9c3fdd4c\").text(\"Downloaded 2334720 of 2924631 bytes\");\n",
       "                    $(\"#pm_progress9c3fdd4c\").attr(\"value\", 79.83);\n",
       "                "
      ],
      "text/plain": [
       "<IPython.core.display.Javascript object>"
      ]
     },
     "metadata": {},
     "output_type": "display_data"
    },
    {
     "data": {
      "application/javascript": [
       "\n",
       "                    $(\"#pm_label9c3fdd4c\").text(\"Downloaded 2342912 of 2924631 bytes\");\n",
       "                    $(\"#pm_progress9c3fdd4c\").attr(\"value\", 80.11);\n",
       "                "
      ],
      "text/plain": [
       "<IPython.core.display.Javascript object>"
      ]
     },
     "metadata": {},
     "output_type": "display_data"
    },
    {
     "data": {
      "application/javascript": [
       "\n",
       "                    $(\"#pm_label9c3fdd4c\").text(\"Downloaded 2351104 of 2924631 bytes\");\n",
       "                    $(\"#pm_progress9c3fdd4c\").attr(\"value\", 80.39);\n",
       "                "
      ],
      "text/plain": [
       "<IPython.core.display.Javascript object>"
      ]
     },
     "metadata": {},
     "output_type": "display_data"
    },
    {
     "data": {
      "application/javascript": [
       "\n",
       "                    $(\"#pm_label9c3fdd4c\").text(\"Downloaded 2359296 of 2924631 bytes\");\n",
       "                    $(\"#pm_progress9c3fdd4c\").attr(\"value\", 80.67);\n",
       "                "
      ],
      "text/plain": [
       "<IPython.core.display.Javascript object>"
      ]
     },
     "metadata": {},
     "output_type": "display_data"
    },
    {
     "data": {
      "application/javascript": [
       "\n",
       "                    $(\"#pm_label9c3fdd4c\").text(\"Downloaded 2367488 of 2924631 bytes\");\n",
       "                    $(\"#pm_progress9c3fdd4c\").attr(\"value\", 80.95);\n",
       "                "
      ],
      "text/plain": [
       "<IPython.core.display.Javascript object>"
      ]
     },
     "metadata": {},
     "output_type": "display_data"
    },
    {
     "data": {
      "application/javascript": [
       "\n",
       "                    $(\"#pm_label9c3fdd4c\").text(\"Downloaded 2375680 of 2924631 bytes\");\n",
       "                    $(\"#pm_progress9c3fdd4c\").attr(\"value\", 81.23);\n",
       "                "
      ],
      "text/plain": [
       "<IPython.core.display.Javascript object>"
      ]
     },
     "metadata": {},
     "output_type": "display_data"
    },
    {
     "data": {
      "application/javascript": [
       "\n",
       "                    $(\"#pm_label9c3fdd4c\").text(\"Downloaded 2383872 of 2924631 bytes\");\n",
       "                    $(\"#pm_progress9c3fdd4c\").attr(\"value\", 81.51);\n",
       "                "
      ],
      "text/plain": [
       "<IPython.core.display.Javascript object>"
      ]
     },
     "metadata": {},
     "output_type": "display_data"
    },
    {
     "data": {
      "application/javascript": [
       "\n",
       "                    $(\"#pm_label9c3fdd4c\").text(\"Downloaded 2392064 of 2924631 bytes\");\n",
       "                    $(\"#pm_progress9c3fdd4c\").attr(\"value\", 81.79);\n",
       "                "
      ],
      "text/plain": [
       "<IPython.core.display.Javascript object>"
      ]
     },
     "metadata": {},
     "output_type": "display_data"
    },
    {
     "data": {
      "application/javascript": [
       "\n",
       "                    $(\"#pm_label9c3fdd4c\").text(\"Downloaded 2400256 of 2924631 bytes\");\n",
       "                    $(\"#pm_progress9c3fdd4c\").attr(\"value\", 82.07);\n",
       "                "
      ],
      "text/plain": [
       "<IPython.core.display.Javascript object>"
      ]
     },
     "metadata": {},
     "output_type": "display_data"
    },
    {
     "data": {
      "application/javascript": [
       "\n",
       "                    $(\"#pm_label9c3fdd4c\").text(\"Downloaded 2408448 of 2924631 bytes\");\n",
       "                    $(\"#pm_progress9c3fdd4c\").attr(\"value\", 82.35);\n",
       "                "
      ],
      "text/plain": [
       "<IPython.core.display.Javascript object>"
      ]
     },
     "metadata": {},
     "output_type": "display_data"
    },
    {
     "data": {
      "application/javascript": [
       "\n",
       "                    $(\"#pm_label9c3fdd4c\").text(\"Downloaded 2416640 of 2924631 bytes\");\n",
       "                    $(\"#pm_progress9c3fdd4c\").attr(\"value\", 82.63);\n",
       "                "
      ],
      "text/plain": [
       "<IPython.core.display.Javascript object>"
      ]
     },
     "metadata": {},
     "output_type": "display_data"
    },
    {
     "data": {
      "application/javascript": [
       "\n",
       "                    $(\"#pm_label9c3fdd4c\").text(\"Downloaded 2424832 of 2924631 bytes\");\n",
       "                    $(\"#pm_progress9c3fdd4c\").attr(\"value\", 82.91);\n",
       "                "
      ],
      "text/plain": [
       "<IPython.core.display.Javascript object>"
      ]
     },
     "metadata": {},
     "output_type": "display_data"
    },
    {
     "data": {
      "application/javascript": [
       "\n",
       "                    $(\"#pm_label9c3fdd4c\").text(\"Downloaded 2433024 of 2924631 bytes\");\n",
       "                    $(\"#pm_progress9c3fdd4c\").attr(\"value\", 83.19);\n",
       "                "
      ],
      "text/plain": [
       "<IPython.core.display.Javascript object>"
      ]
     },
     "metadata": {},
     "output_type": "display_data"
    },
    {
     "data": {
      "application/javascript": [
       "\n",
       "                    $(\"#pm_label9c3fdd4c\").text(\"Downloaded 2441216 of 2924631 bytes\");\n",
       "                    $(\"#pm_progress9c3fdd4c\").attr(\"value\", 83.47);\n",
       "                "
      ],
      "text/plain": [
       "<IPython.core.display.Javascript object>"
      ]
     },
     "metadata": {},
     "output_type": "display_data"
    },
    {
     "data": {
      "application/javascript": [
       "\n",
       "                    $(\"#pm_label9c3fdd4c\").text(\"Downloaded 2449408 of 2924631 bytes\");\n",
       "                    $(\"#pm_progress9c3fdd4c\").attr(\"value\", 83.75);\n",
       "                "
      ],
      "text/plain": [
       "<IPython.core.display.Javascript object>"
      ]
     },
     "metadata": {},
     "output_type": "display_data"
    },
    {
     "data": {
      "application/javascript": [
       "\n",
       "                    $(\"#pm_label9c3fdd4c\").text(\"Downloaded 2457600 of 2924631 bytes\");\n",
       "                    $(\"#pm_progress9c3fdd4c\").attr(\"value\", 84.03);\n",
       "                "
      ],
      "text/plain": [
       "<IPython.core.display.Javascript object>"
      ]
     },
     "metadata": {},
     "output_type": "display_data"
    },
    {
     "data": {
      "application/javascript": [
       "\n",
       "                    $(\"#pm_label9c3fdd4c\").text(\"Downloaded 2465792 of 2924631 bytes\");\n",
       "                    $(\"#pm_progress9c3fdd4c\").attr(\"value\", 84.31);\n",
       "                "
      ],
      "text/plain": [
       "<IPython.core.display.Javascript object>"
      ]
     },
     "metadata": {},
     "output_type": "display_data"
    },
    {
     "data": {
      "application/javascript": [
       "\n",
       "                    $(\"#pm_label9c3fdd4c\").text(\"Downloaded 2473984 of 2924631 bytes\");\n",
       "                    $(\"#pm_progress9c3fdd4c\").attr(\"value\", 84.59);\n",
       "                "
      ],
      "text/plain": [
       "<IPython.core.display.Javascript object>"
      ]
     },
     "metadata": {},
     "output_type": "display_data"
    },
    {
     "data": {
      "application/javascript": [
       "\n",
       "                    $(\"#pm_label9c3fdd4c\").text(\"Downloaded 2482176 of 2924631 bytes\");\n",
       "                    $(\"#pm_progress9c3fdd4c\").attr(\"value\", 84.87);\n",
       "                "
      ],
      "text/plain": [
       "<IPython.core.display.Javascript object>"
      ]
     },
     "metadata": {},
     "output_type": "display_data"
    },
    {
     "data": {
      "application/javascript": [
       "\n",
       "                    $(\"#pm_label9c3fdd4c\").text(\"Downloaded 2490368 of 2924631 bytes\");\n",
       "                    $(\"#pm_progress9c3fdd4c\").attr(\"value\", 85.15);\n",
       "                "
      ],
      "text/plain": [
       "<IPython.core.display.Javascript object>"
      ]
     },
     "metadata": {},
     "output_type": "display_data"
    },
    {
     "data": {
      "application/javascript": [
       "\n",
       "                    $(\"#pm_label9c3fdd4c\").text(\"Downloaded 2498560 of 2924631 bytes\");\n",
       "                    $(\"#pm_progress9c3fdd4c\").attr(\"value\", 85.43);\n",
       "                "
      ],
      "text/plain": [
       "<IPython.core.display.Javascript object>"
      ]
     },
     "metadata": {},
     "output_type": "display_data"
    },
    {
     "data": {
      "application/javascript": [
       "\n",
       "                    $(\"#pm_label9c3fdd4c\").text(\"Downloaded 2506752 of 2924631 bytes\");\n",
       "                    $(\"#pm_progress9c3fdd4c\").attr(\"value\", 85.71);\n",
       "                "
      ],
      "text/plain": [
       "<IPython.core.display.Javascript object>"
      ]
     },
     "metadata": {},
     "output_type": "display_data"
    },
    {
     "data": {
      "application/javascript": [
       "\n",
       "                    $(\"#pm_label9c3fdd4c\").text(\"Downloaded 2514944 of 2924631 bytes\");\n",
       "                    $(\"#pm_progress9c3fdd4c\").attr(\"value\", 85.99);\n",
       "                "
      ],
      "text/plain": [
       "<IPython.core.display.Javascript object>"
      ]
     },
     "metadata": {},
     "output_type": "display_data"
    },
    {
     "data": {
      "application/javascript": [
       "\n",
       "                    $(\"#pm_label9c3fdd4c\").text(\"Downloaded 2523136 of 2924631 bytes\");\n",
       "                    $(\"#pm_progress9c3fdd4c\").attr(\"value\", 86.27);\n",
       "                "
      ],
      "text/plain": [
       "<IPython.core.display.Javascript object>"
      ]
     },
     "metadata": {},
     "output_type": "display_data"
    },
    {
     "data": {
      "application/javascript": [
       "\n",
       "                    $(\"#pm_label9c3fdd4c\").text(\"Downloaded 2531328 of 2924631 bytes\");\n",
       "                    $(\"#pm_progress9c3fdd4c\").attr(\"value\", 86.55);\n",
       "                "
      ],
      "text/plain": [
       "<IPython.core.display.Javascript object>"
      ]
     },
     "metadata": {},
     "output_type": "display_data"
    },
    {
     "data": {
      "application/javascript": [
       "\n",
       "                    $(\"#pm_label9c3fdd4c\").text(\"Downloaded 2539520 of 2924631 bytes\");\n",
       "                    $(\"#pm_progress9c3fdd4c\").attr(\"value\", 86.83);\n",
       "                "
      ],
      "text/plain": [
       "<IPython.core.display.Javascript object>"
      ]
     },
     "metadata": {},
     "output_type": "display_data"
    },
    {
     "data": {
      "application/javascript": [
       "\n",
       "                    $(\"#pm_label9c3fdd4c\").text(\"Downloaded 2547712 of 2924631 bytes\");\n",
       "                    $(\"#pm_progress9c3fdd4c\").attr(\"value\", 87.11);\n",
       "                "
      ],
      "text/plain": [
       "<IPython.core.display.Javascript object>"
      ]
     },
     "metadata": {},
     "output_type": "display_data"
    },
    {
     "data": {
      "application/javascript": [
       "\n",
       "                    $(\"#pm_label9c3fdd4c\").text(\"Downloaded 2555904 of 2924631 bytes\");\n",
       "                    $(\"#pm_progress9c3fdd4c\").attr(\"value\", 87.39);\n",
       "                "
      ],
      "text/plain": [
       "<IPython.core.display.Javascript object>"
      ]
     },
     "metadata": {},
     "output_type": "display_data"
    },
    {
     "data": {
      "application/javascript": [
       "\n",
       "                    $(\"#pm_label9c3fdd4c\").text(\"Downloaded 2564096 of 2924631 bytes\");\n",
       "                    $(\"#pm_progress9c3fdd4c\").attr(\"value\", 87.67);\n",
       "                "
      ],
      "text/plain": [
       "<IPython.core.display.Javascript object>"
      ]
     },
     "metadata": {},
     "output_type": "display_data"
    },
    {
     "data": {
      "application/javascript": [
       "\n",
       "                    $(\"#pm_label9c3fdd4c\").text(\"Downloaded 2572288 of 2924631 bytes\");\n",
       "                    $(\"#pm_progress9c3fdd4c\").attr(\"value\", 87.95);\n",
       "                "
      ],
      "text/plain": [
       "<IPython.core.display.Javascript object>"
      ]
     },
     "metadata": {},
     "output_type": "display_data"
    },
    {
     "data": {
      "application/javascript": [
       "\n",
       "                    $(\"#pm_label9c3fdd4c\").text(\"Downloaded 2580480 of 2924631 bytes\");\n",
       "                    $(\"#pm_progress9c3fdd4c\").attr(\"value\", 88.23);\n",
       "                "
      ],
      "text/plain": [
       "<IPython.core.display.Javascript object>"
      ]
     },
     "metadata": {},
     "output_type": "display_data"
    },
    {
     "data": {
      "application/javascript": [
       "\n",
       "                    $(\"#pm_label9c3fdd4c\").text(\"Downloaded 2588672 of 2924631 bytes\");\n",
       "                    $(\"#pm_progress9c3fdd4c\").attr(\"value\", 88.51);\n",
       "                "
      ],
      "text/plain": [
       "<IPython.core.display.Javascript object>"
      ]
     },
     "metadata": {},
     "output_type": "display_data"
    },
    {
     "data": {
      "application/javascript": [
       "\n",
       "                    $(\"#pm_label9c3fdd4c\").text(\"Downloaded 2596864 of 2924631 bytes\");\n",
       "                    $(\"#pm_progress9c3fdd4c\").attr(\"value\", 88.79);\n",
       "                "
      ],
      "text/plain": [
       "<IPython.core.display.Javascript object>"
      ]
     },
     "metadata": {},
     "output_type": "display_data"
    },
    {
     "data": {
      "application/javascript": [
       "\n",
       "                    $(\"#pm_label9c3fdd4c\").text(\"Downloaded 2605056 of 2924631 bytes\");\n",
       "                    $(\"#pm_progress9c3fdd4c\").attr(\"value\", 89.07);\n",
       "                "
      ],
      "text/plain": [
       "<IPython.core.display.Javascript object>"
      ]
     },
     "metadata": {},
     "output_type": "display_data"
    },
    {
     "data": {
      "application/javascript": [
       "\n",
       "                    $(\"#pm_label9c3fdd4c\").text(\"Downloaded 2613248 of 2924631 bytes\");\n",
       "                    $(\"#pm_progress9c3fdd4c\").attr(\"value\", 89.35);\n",
       "                "
      ],
      "text/plain": [
       "<IPython.core.display.Javascript object>"
      ]
     },
     "metadata": {},
     "output_type": "display_data"
    },
    {
     "data": {
      "application/javascript": [
       "\n",
       "                    $(\"#pm_label9c3fdd4c\").text(\"Downloaded 2621440 of 2924631 bytes\");\n",
       "                    $(\"#pm_progress9c3fdd4c\").attr(\"value\", 89.63);\n",
       "                "
      ],
      "text/plain": [
       "<IPython.core.display.Javascript object>"
      ]
     },
     "metadata": {},
     "output_type": "display_data"
    },
    {
     "data": {
      "application/javascript": [
       "\n",
       "                    $(\"#pm_label9c3fdd4c\").text(\"Downloaded 2629632 of 2924631 bytes\");\n",
       "                    $(\"#pm_progress9c3fdd4c\").attr(\"value\", 89.91);\n",
       "                "
      ],
      "text/plain": [
       "<IPython.core.display.Javascript object>"
      ]
     },
     "metadata": {},
     "output_type": "display_data"
    },
    {
     "data": {
      "application/javascript": [
       "\n",
       "                    $(\"#pm_label9c3fdd4c\").text(\"Downloaded 2637824 of 2924631 bytes\");\n",
       "                    $(\"#pm_progress9c3fdd4c\").attr(\"value\", 90.19);\n",
       "                "
      ],
      "text/plain": [
       "<IPython.core.display.Javascript object>"
      ]
     },
     "metadata": {},
     "output_type": "display_data"
    },
    {
     "data": {
      "application/javascript": [
       "\n",
       "                    $(\"#pm_label9c3fdd4c\").text(\"Downloaded 2646016 of 2924631 bytes\");\n",
       "                    $(\"#pm_progress9c3fdd4c\").attr(\"value\", 90.47);\n",
       "                "
      ],
      "text/plain": [
       "<IPython.core.display.Javascript object>"
      ]
     },
     "metadata": {},
     "output_type": "display_data"
    },
    {
     "data": {
      "application/javascript": [
       "\n",
       "                    $(\"#pm_label9c3fdd4c\").text(\"Downloaded 2654208 of 2924631 bytes\");\n",
       "                    $(\"#pm_progress9c3fdd4c\").attr(\"value\", 90.75);\n",
       "                "
      ],
      "text/plain": [
       "<IPython.core.display.Javascript object>"
      ]
     },
     "metadata": {},
     "output_type": "display_data"
    },
    {
     "data": {
      "application/javascript": [
       "\n",
       "                    $(\"#pm_label9c3fdd4c\").text(\"Downloaded 2662400 of 2924631 bytes\");\n",
       "                    $(\"#pm_progress9c3fdd4c\").attr(\"value\", 91.03);\n",
       "                "
      ],
      "text/plain": [
       "<IPython.core.display.Javascript object>"
      ]
     },
     "metadata": {},
     "output_type": "display_data"
    },
    {
     "data": {
      "application/javascript": [
       "\n",
       "                    $(\"#pm_label9c3fdd4c\").text(\"Downloaded 2670592 of 2924631 bytes\");\n",
       "                    $(\"#pm_progress9c3fdd4c\").attr(\"value\", 91.31);\n",
       "                "
      ],
      "text/plain": [
       "<IPython.core.display.Javascript object>"
      ]
     },
     "metadata": {},
     "output_type": "display_data"
    },
    {
     "data": {
      "application/javascript": [
       "\n",
       "                    $(\"#pm_label9c3fdd4c\").text(\"Downloaded 2678784 of 2924631 bytes\");\n",
       "                    $(\"#pm_progress9c3fdd4c\").attr(\"value\", 91.59);\n",
       "                "
      ],
      "text/plain": [
       "<IPython.core.display.Javascript object>"
      ]
     },
     "metadata": {},
     "output_type": "display_data"
    },
    {
     "data": {
      "application/javascript": [
       "\n",
       "                    $(\"#pm_label9c3fdd4c\").text(\"Downloaded 2686976 of 2924631 bytes\");\n",
       "                    $(\"#pm_progress9c3fdd4c\").attr(\"value\", 91.87);\n",
       "                "
      ],
      "text/plain": [
       "<IPython.core.display.Javascript object>"
      ]
     },
     "metadata": {},
     "output_type": "display_data"
    },
    {
     "data": {
      "application/javascript": [
       "\n",
       "                    $(\"#pm_label9c3fdd4c\").text(\"Downloaded 2695168 of 2924631 bytes\");\n",
       "                    $(\"#pm_progress9c3fdd4c\").attr(\"value\", 92.15);\n",
       "                "
      ],
      "text/plain": [
       "<IPython.core.display.Javascript object>"
      ]
     },
     "metadata": {},
     "output_type": "display_data"
    },
    {
     "data": {
      "application/javascript": [
       "\n",
       "                    $(\"#pm_label9c3fdd4c\").text(\"Downloaded 2703360 of 2924631 bytes\");\n",
       "                    $(\"#pm_progress9c3fdd4c\").attr(\"value\", 92.43);\n",
       "                "
      ],
      "text/plain": [
       "<IPython.core.display.Javascript object>"
      ]
     },
     "metadata": {},
     "output_type": "display_data"
    },
    {
     "data": {
      "application/javascript": [
       "\n",
       "                    $(\"#pm_label9c3fdd4c\").text(\"Downloaded 2711552 of 2924631 bytes\");\n",
       "                    $(\"#pm_progress9c3fdd4c\").attr(\"value\", 92.71);\n",
       "                "
      ],
      "text/plain": [
       "<IPython.core.display.Javascript object>"
      ]
     },
     "metadata": {},
     "output_type": "display_data"
    },
    {
     "data": {
      "application/javascript": [
       "\n",
       "                    $(\"#pm_label9c3fdd4c\").text(\"Downloaded 2719744 of 2924631 bytes\");\n",
       "                    $(\"#pm_progress9c3fdd4c\").attr(\"value\", 92.99);\n",
       "                "
      ],
      "text/plain": [
       "<IPython.core.display.Javascript object>"
      ]
     },
     "metadata": {},
     "output_type": "display_data"
    },
    {
     "data": {
      "application/javascript": [
       "\n",
       "                    $(\"#pm_label9c3fdd4c\").text(\"Downloaded 2727936 of 2924631 bytes\");\n",
       "                    $(\"#pm_progress9c3fdd4c\").attr(\"value\", 93.27);\n",
       "                "
      ],
      "text/plain": [
       "<IPython.core.display.Javascript object>"
      ]
     },
     "metadata": {},
     "output_type": "display_data"
    },
    {
     "data": {
      "application/javascript": [
       "\n",
       "                    $(\"#pm_label9c3fdd4c\").text(\"Downloaded 2736128 of 2924631 bytes\");\n",
       "                    $(\"#pm_progress9c3fdd4c\").attr(\"value\", 93.55);\n",
       "                "
      ],
      "text/plain": [
       "<IPython.core.display.Javascript object>"
      ]
     },
     "metadata": {},
     "output_type": "display_data"
    },
    {
     "data": {
      "application/javascript": [
       "\n",
       "                    $(\"#pm_label9c3fdd4c\").text(\"Downloaded 2744320 of 2924631 bytes\");\n",
       "                    $(\"#pm_progress9c3fdd4c\").attr(\"value\", 93.83);\n",
       "                "
      ],
      "text/plain": [
       "<IPython.core.display.Javascript object>"
      ]
     },
     "metadata": {},
     "output_type": "display_data"
    },
    {
     "data": {
      "application/javascript": [
       "\n",
       "                    $(\"#pm_label9c3fdd4c\").text(\"Downloaded 2752512 of 2924631 bytes\");\n",
       "                    $(\"#pm_progress9c3fdd4c\").attr(\"value\", 94.11);\n",
       "                "
      ],
      "text/plain": [
       "<IPython.core.display.Javascript object>"
      ]
     },
     "metadata": {},
     "output_type": "display_data"
    },
    {
     "data": {
      "application/javascript": [
       "\n",
       "                    $(\"#pm_label9c3fdd4c\").text(\"Downloaded 2760704 of 2924631 bytes\");\n",
       "                    $(\"#pm_progress9c3fdd4c\").attr(\"value\", 94.39);\n",
       "                "
      ],
      "text/plain": [
       "<IPython.core.display.Javascript object>"
      ]
     },
     "metadata": {},
     "output_type": "display_data"
    },
    {
     "data": {
      "application/javascript": [
       "\n",
       "                    $(\"#pm_label9c3fdd4c\").text(\"Downloaded 2768896 of 2924631 bytes\");\n",
       "                    $(\"#pm_progress9c3fdd4c\").attr(\"value\", 94.68);\n",
       "                "
      ],
      "text/plain": [
       "<IPython.core.display.Javascript object>"
      ]
     },
     "metadata": {},
     "output_type": "display_data"
    },
    {
     "data": {
      "application/javascript": [
       "\n",
       "                    $(\"#pm_label9c3fdd4c\").text(\"Downloaded 2777088 of 2924631 bytes\");\n",
       "                    $(\"#pm_progress9c3fdd4c\").attr(\"value\", 94.96);\n",
       "                "
      ],
      "text/plain": [
       "<IPython.core.display.Javascript object>"
      ]
     },
     "metadata": {},
     "output_type": "display_data"
    },
    {
     "data": {
      "application/javascript": [
       "\n",
       "                    $(\"#pm_label9c3fdd4c\").text(\"Downloaded 2785280 of 2924631 bytes\");\n",
       "                    $(\"#pm_progress9c3fdd4c\").attr(\"value\", 95.24);\n",
       "                "
      ],
      "text/plain": [
       "<IPython.core.display.Javascript object>"
      ]
     },
     "metadata": {},
     "output_type": "display_data"
    },
    {
     "data": {
      "application/javascript": [
       "\n",
       "                    $(\"#pm_label9c3fdd4c\").text(\"Downloaded 2793472 of 2924631 bytes\");\n",
       "                    $(\"#pm_progress9c3fdd4c\").attr(\"value\", 95.52);\n",
       "                "
      ],
      "text/plain": [
       "<IPython.core.display.Javascript object>"
      ]
     },
     "metadata": {},
     "output_type": "display_data"
    },
    {
     "data": {
      "application/javascript": [
       "\n",
       "                    $(\"#pm_label9c3fdd4c\").text(\"Downloaded 2801664 of 2924631 bytes\");\n",
       "                    $(\"#pm_progress9c3fdd4c\").attr(\"value\", 95.8);\n",
       "                "
      ],
      "text/plain": [
       "<IPython.core.display.Javascript object>"
      ]
     },
     "metadata": {},
     "output_type": "display_data"
    },
    {
     "data": {
      "application/javascript": [
       "\n",
       "                    $(\"#pm_label9c3fdd4c\").text(\"Downloaded 2809856 of 2924631 bytes\");\n",
       "                    $(\"#pm_progress9c3fdd4c\").attr(\"value\", 96.08);\n",
       "                "
      ],
      "text/plain": [
       "<IPython.core.display.Javascript object>"
      ]
     },
     "metadata": {},
     "output_type": "display_data"
    },
    {
     "data": {
      "application/javascript": [
       "\n",
       "                    $(\"#pm_label9c3fdd4c\").text(\"Downloaded 2818048 of 2924631 bytes\");\n",
       "                    $(\"#pm_progress9c3fdd4c\").attr(\"value\", 96.36);\n",
       "                "
      ],
      "text/plain": [
       "<IPython.core.display.Javascript object>"
      ]
     },
     "metadata": {},
     "output_type": "display_data"
    },
    {
     "data": {
      "application/javascript": [
       "\n",
       "                    $(\"#pm_label9c3fdd4c\").text(\"Downloaded 2826240 of 2924631 bytes\");\n",
       "                    $(\"#pm_progress9c3fdd4c\").attr(\"value\", 96.64);\n",
       "                "
      ],
      "text/plain": [
       "<IPython.core.display.Javascript object>"
      ]
     },
     "metadata": {},
     "output_type": "display_data"
    },
    {
     "data": {
      "application/javascript": [
       "\n",
       "                    $(\"#pm_label9c3fdd4c\").text(\"Downloaded 2834432 of 2924631 bytes\");\n",
       "                    $(\"#pm_progress9c3fdd4c\").attr(\"value\", 96.92);\n",
       "                "
      ],
      "text/plain": [
       "<IPython.core.display.Javascript object>"
      ]
     },
     "metadata": {},
     "output_type": "display_data"
    },
    {
     "data": {
      "application/javascript": [
       "\n",
       "                    $(\"#pm_label9c3fdd4c\").text(\"Downloaded 2842624 of 2924631 bytes\");\n",
       "                    $(\"#pm_progress9c3fdd4c\").attr(\"value\", 97.2);\n",
       "                "
      ],
      "text/plain": [
       "<IPython.core.display.Javascript object>"
      ]
     },
     "metadata": {},
     "output_type": "display_data"
    },
    {
     "data": {
      "application/javascript": [
       "\n",
       "                    $(\"#pm_label9c3fdd4c\").text(\"Downloaded 2850816 of 2924631 bytes\");\n",
       "                    $(\"#pm_progress9c3fdd4c\").attr(\"value\", 97.48);\n",
       "                "
      ],
      "text/plain": [
       "<IPython.core.display.Javascript object>"
      ]
     },
     "metadata": {},
     "output_type": "display_data"
    },
    {
     "data": {
      "application/javascript": [
       "\n",
       "                    $(\"#pm_label9c3fdd4c\").text(\"Downloaded 2859008 of 2924631 bytes\");\n",
       "                    $(\"#pm_progress9c3fdd4c\").attr(\"value\", 97.76);\n",
       "                "
      ],
      "text/plain": [
       "<IPython.core.display.Javascript object>"
      ]
     },
     "metadata": {},
     "output_type": "display_data"
    },
    {
     "data": {
      "application/javascript": [
       "\n",
       "                    $(\"#pm_label9c3fdd4c\").text(\"Downloaded 2867200 of 2924631 bytes\");\n",
       "                    $(\"#pm_progress9c3fdd4c\").attr(\"value\", 98.04);\n",
       "                "
      ],
      "text/plain": [
       "<IPython.core.display.Javascript object>"
      ]
     },
     "metadata": {},
     "output_type": "display_data"
    },
    {
     "data": {
      "application/javascript": [
       "\n",
       "                    $(\"#pm_label9c3fdd4c\").text(\"Downloaded 2875392 of 2924631 bytes\");\n",
       "                    $(\"#pm_progress9c3fdd4c\").attr(\"value\", 98.32);\n",
       "                "
      ],
      "text/plain": [
       "<IPython.core.display.Javascript object>"
      ]
     },
     "metadata": {},
     "output_type": "display_data"
    },
    {
     "data": {
      "application/javascript": [
       "\n",
       "                    $(\"#pm_label9c3fdd4c\").text(\"Downloaded 2883584 of 2924631 bytes\");\n",
       "                    $(\"#pm_progress9c3fdd4c\").attr(\"value\", 98.6);\n",
       "                "
      ],
      "text/plain": [
       "<IPython.core.display.Javascript object>"
      ]
     },
     "metadata": {},
     "output_type": "display_data"
    },
    {
     "data": {
      "application/javascript": [
       "\n",
       "                    $(\"#pm_label9c3fdd4c\").text(\"Downloaded 2891776 of 2924631 bytes\");\n",
       "                    $(\"#pm_progress9c3fdd4c\").attr(\"value\", 98.88);\n",
       "                "
      ],
      "text/plain": [
       "<IPython.core.display.Javascript object>"
      ]
     },
     "metadata": {},
     "output_type": "display_data"
    },
    {
     "data": {
      "application/javascript": [
       "\n",
       "                    $(\"#pm_label9c3fdd4c\").text(\"Downloaded 2899968 of 2924631 bytes\");\n",
       "                    $(\"#pm_progress9c3fdd4c\").attr(\"value\", 99.16);\n",
       "                "
      ],
      "text/plain": [
       "<IPython.core.display.Javascript object>"
      ]
     },
     "metadata": {},
     "output_type": "display_data"
    },
    {
     "data": {
      "application/javascript": [
       "\n",
       "                    $(\"#pm_label9c3fdd4c\").text(\"Downloaded 2908160 of 2924631 bytes\");\n",
       "                    $(\"#pm_progress9c3fdd4c\").attr(\"value\", 99.44);\n",
       "                "
      ],
      "text/plain": [
       "<IPython.core.display.Javascript object>"
      ]
     },
     "metadata": {},
     "output_type": "display_data"
    },
    {
     "data": {
      "application/javascript": [
       "\n",
       "                    $(\"#pm_label9c3fdd4c\").text(\"Downloaded 2916352 of 2924631 bytes\");\n",
       "                    $(\"#pm_progress9c3fdd4c\").attr(\"value\", 99.72);\n",
       "                "
      ],
      "text/plain": [
       "<IPython.core.display.Javascript object>"
      ]
     },
     "metadata": {},
     "output_type": "display_data"
    },
    {
     "data": {
      "application/javascript": [
       "\n",
       "                    $(\"#pm_label9c3fdd4c\").text(\"Downloaded 2924544 of 2924631 bytes\");\n",
       "                    $(\"#pm_progress9c3fdd4c\").attr(\"value\", 100.0);\n",
       "                "
      ],
      "text/plain": [
       "<IPython.core.display.Javascript object>"
      ]
     },
     "metadata": {},
     "output_type": "display_data"
    },
    {
     "data": {
      "application/javascript": [
       "\n",
       "                    $(\"#pm_label9c3fdd4c\").text(\"Downloaded 2924631 of 2924631 bytes\");\n",
       "                    $(\"#pm_progress9c3fdd4c\").attr(\"value\", 100.0);\n",
       "                "
      ],
      "text/plain": [
       "<IPython.core.display.Javascript object>"
      ]
     },
     "metadata": {},
     "output_type": "display_data"
    },
    {
     "name": "stdout",
     "output_type": "stream",
     "text": [
      "Creating pySpark DataFrame for 'http://files.zillowstatic.com/research/public/Zip/Zip_Zhvi_Summary_AllHomes.csv'. Please wait...\n",
      "Successfully created pySpark DataFrame for 'http://files.zillowstatic.com/research/public/Zip/Zip_Zhvi_Summary_AllHomes.csv'\n"
     ]
    }
   ],
   "source": [
    "zillow_data = pixiedust.sampleData('http://files.zillowstatic.com/research/public/Zip/Zip_Zhvi_Summary_AllHomes.csv')"
   ]
  },
  {
   "cell_type": "markdown",
   "metadata": {
    "nbpresent": {
     "id": "1e1bcad1-06fe-4d09-91c3-6b70c1bf47ff"
    }
   },
   "source": [
    "## Which states are most expensive to buy homes?\n",
    "California, D.C., Hawaii"
   ]
  },
  {
   "cell_type": "code",
   "execution_count": 16,
   "metadata": {
    "collapsed": false,
    "nbpresent": {
     "id": "fb703dc1-b49c-4b6e-aef4-5c6160b52781"
    },
    "pixiedust": {
     "displayParams": {
      "aggregation": "AVG",
      "binsize": "19",
      "chartsize": "100",
      "handlerId": "barChart",
      "keyFields": "State",
      "legend": "false",
      "mpld3": "false",
      "orientation": "horizontal",
      "rendererId": "matplotlib",
      "rowCount": "51",
      "stretch": "true",
      "title": "Home value by state",
      "valueFields": "Zhvi"
     }
    }
   },
   "outputs": [
    {
     "data": {
      "text/html": [
       "<style type=\"text/css\">.pd_warning{display:none;}</style><div class=\"pd_warning\"><em>Hey, there's something awesome here! To see it, open this notebook outside GitHub, in a viewer like Jupyter</em></div>\n",
       "        <div class=\"pd_save is-viewer-good\" style=\"padding-right:10px;text-align: center;line-height:initial !important;font-size: xx-large;font-weight: 500;color: coral;\">\n",
       "            Home value by state\n",
       "        </div>\n",
       "    <div id=\"chartFigure8d020166\" class=\"pd_save is-viewer-good\" style=\"overflow-x:auto\">\n",
       "            \n",
       "                    \n",
       "                            <center><img style=\"max-width:initial !important\" src=\"data:image/png;base64,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\" class=\"pd_save\"></center>\n",
       "                        \n",
       "                    \n",
       "                \n",
       "        </div>"
      ],
      "text/plain": [
       "<IPython.core.display.HTML object>"
      ]
     },
     "metadata": {},
     "output_type": "display_data"
    }
   ],
   "source": [
    "display(zillow_data)"
   ]
  },
  {
   "cell_type": "markdown",
   "metadata": {
    "nbpresent": {
     "id": "60210430-977d-4593-8b91-9d1bf8c677d6"
    }
   },
   "source": [
    "## Exploring California Home Values by Locality"
   ]
  },
  {
   "cell_type": "code",
   "execution_count": 17,
   "metadata": {
    "collapsed": false,
    "nbpresent": {
     "id": "dfac1c79-66c1-4aa4-8a65-90ea73528ec2"
    },
    "pixiedust": {
     "displayParams": {
      "handlerId": "pieChart"
     }
    }
   },
   "outputs": [],
   "source": [
    "from pyspark.sql.functions import udf\n",
    "from pyspark.sql.types import *\n",
    "\n",
    "zillow_data.registerTempTable(\"zillow_data\")\n",
    "cal = sqlContext.sql(\"SELECT * FROM zillow_data WHERE State='CA'\")"
   ]
  },
  {
   "cell_type": "code",
   "execution_count": 25,
   "metadata": {
    "collapsed": false,
    "nbpresent": {
     "id": "1e8dbfc3-ffcb-4979-8266-126085e1707d"
    },
    "pixiedust": {
     "displayParams": {
      "aggregation": "AVG",
      "chartsize": "100",
      "clusterby": "RegionID",
      "handlerId": "barChart",
      "keyFields": "City",
      "rendererId": "matplotlib",
      "rowCount": "500",
      "stretch": "true",
      "valueFields": "Zhvi"
     }
    }
   },
   "outputs": [],
   "source": [
    "display(cal)"
   ]
  },
  {
   "cell_type": "code",
   "execution_count": null,
   "metadata": {
    "collapsed": true
   },
   "outputs": [],
   "source": []
  }
 ],
 "metadata": {
  "anaconda-cloud": {},
  "kernelspec": {
   "display_name": "Python with Pixiedust (Spark 2.1)",
   "language": "python",
   "name": "pythonwithpixiedustspark21"
  }
 },
 "nbformat": 4,
 "nbformat_minor": 1
}
