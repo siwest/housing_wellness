{
 "cells": [
  {
   "cell_type": "code",
   "execution_count": 1,
   "metadata": {
    "collapsed": false
   },
   "outputs": [
    {
     "name": "stdout",
     "output_type": "stream",
     "text": [
      "Pixiedust database opened successfully\n",
      "Table VERSION_TRACKER created successfully\n"
     ]
    },
    {
     "data": {
      "text/html": [
       "\n",
       "        <div style=\"margin:10px\">\n",
       "            <a href=\"https://github.com/ibm-cds-labs/pixiedust\" target=\"_new\">\n",
       "                <img src=\"https://github.com/ibm-cds-labs/pixiedust/raw/master/docs/_static/pd_icon32.png\" style=\"float:left;margin-right:10px\"/>\n",
       "            </a>\n",
       "            <span>Pixiedust version 1.0.6</span>\n",
       "        </div>\n",
       "        "
      ],
      "text/plain": [
       "<IPython.core.display.HTML object>"
      ]
     },
     "metadata": {},
     "output_type": "display_data"
    },
    {
     "name": "stdout",
     "output_type": "stream",
     "text": [
      "Pixiedust runtime updated. Please restart kernel\n",
      "Table SPARK_PACKAGES created successfully\n",
      "Table USER_PREFERENCES created successfully\n",
      "Table service_connections created successfully\n"
     ]
    }
   ],
   "source": [
    "import pixiedust"
   ]
  },
  {
   "cell_type": "code",
   "execution_count": 3,
   "metadata": {
    "collapsed": false
   },
   "outputs": [
    {
     "name": "stdout",
     "output_type": "stream",
     "text": [
      "Downloading 'http://files.zillowstatic.com/research/public/Zip/Zip_Zhvi_Summary_AllHomes.csv' from http://files.zillowstatic.com/research/public/Zip/Zip_Zhvi_Summary_AllHomes.csv\n"
     ]
    },
    {
     "data": {
      "text/html": [
       "\n",
       "                <div>\n",
       "                    <span id=\"pm_label5134bdf5\">Starting download...</span>\n",
       "                    <progress id=\"pm_progress5134bdf5\" max=\"100\" value=\"0\" style=\"width:200px\"></progress>\n",
       "                </div>"
      ],
      "text/plain": [
       "<IPython.core.display.HTML object>"
      ]
     },
     "metadata": {},
     "output_type": "display_data"
    },
    {
     "data": {
      "application/javascript": [
       "\n",
       "                    $(\"#pm_label5134bdf5\").text(\"Downloaded 8192 of 2924631 bytes\");\n",
       "                    $(\"#pm_progress5134bdf5\").attr(\"value\", 0.28);\n",
       "                "
      ],
      "text/plain": [
       "<IPython.core.display.Javascript object>"
      ]
     },
     "metadata": {},
     "output_type": "display_data"
    },
    {
     "data": {
      "application/javascript": [
       "\n",
       "                    $(\"#pm_label5134bdf5\").text(\"Downloaded 16384 of 2924631 bytes\");\n",
       "                    $(\"#pm_progress5134bdf5\").attr(\"value\", 0.56);\n",
       "                "
      ],
      "text/plain": [
       "<IPython.core.display.Javascript object>"
      ]
     },
     "metadata": {},
     "output_type": "display_data"
    },
    {
     "data": {
      "application/javascript": [
       "\n",
       "                    $(\"#pm_label5134bdf5\").text(\"Downloaded 24576 of 2924631 bytes\");\n",
       "                    $(\"#pm_progress5134bdf5\").attr(\"value\", 0.84);\n",
       "                "
      ],
      "text/plain": [
       "<IPython.core.display.Javascript object>"
      ]
     },
     "metadata": {},
     "output_type": "display_data"
    },
    {
     "data": {
      "application/javascript": [
       "\n",
       "                    $(\"#pm_label5134bdf5\").text(\"Downloaded 32768 of 2924631 bytes\");\n",
       "                    $(\"#pm_progress5134bdf5\").attr(\"value\", 1.12);\n",
       "                "
      ],
      "text/plain": [
       "<IPython.core.display.Javascript object>"
      ]
     },
     "metadata": {},
     "output_type": "display_data"
    },
    {
     "data": {
      "application/javascript": [
       "\n",
       "                    $(\"#pm_label5134bdf5\").text(\"Downloaded 40960 of 2924631 bytes\");\n",
       "                    $(\"#pm_progress5134bdf5\").attr(\"value\", 1.4);\n",
       "                "
      ],
      "text/plain": [
       "<IPython.core.display.Javascript object>"
      ]
     },
     "metadata": {},
     "output_type": "display_data"
    },
    {
     "data": {
      "application/javascript": [
       "\n",
       "                    $(\"#pm_label5134bdf5\").text(\"Downloaded 49152 of 2924631 bytes\");\n",
       "                    $(\"#pm_progress5134bdf5\").attr(\"value\", 1.68);\n",
       "                "
      ],
      "text/plain": [
       "<IPython.core.display.Javascript object>"
      ]
     },
     "metadata": {},
     "output_type": "display_data"
    },
    {
     "data": {
      "application/javascript": [
       "\n",
       "                    $(\"#pm_label5134bdf5\").text(\"Downloaded 57344 of 2924631 bytes\");\n",
       "                    $(\"#pm_progress5134bdf5\").attr(\"value\", 1.96);\n",
       "                "
      ],
      "text/plain": [
       "<IPython.core.display.Javascript object>"
      ]
     },
     "metadata": {},
     "output_type": "display_data"
    },
    {
     "data": {
      "application/javascript": [
       "\n",
       "                    $(\"#pm_label5134bdf5\").text(\"Downloaded 65536 of 2924631 bytes\");\n",
       "                    $(\"#pm_progress5134bdf5\").attr(\"value\", 2.24);\n",
       "                "
      ],
      "text/plain": [
       "<IPython.core.display.Javascript object>"
      ]
     },
     "metadata": {},
     "output_type": "display_data"
    },
    {
     "data": {
      "application/javascript": [
       "\n",
       "                    $(\"#pm_label5134bdf5\").text(\"Downloaded 73728 of 2924631 bytes\");\n",
       "                    $(\"#pm_progress5134bdf5\").attr(\"value\", 2.52);\n",
       "                "
      ],
      "text/plain": [
       "<IPython.core.display.Javascript object>"
      ]
     },
     "metadata": {},
     "output_type": "display_data"
    },
    {
     "data": {
      "application/javascript": [
       "\n",
       "                    $(\"#pm_label5134bdf5\").text(\"Downloaded 81920 of 2924631 bytes\");\n",
       "                    $(\"#pm_progress5134bdf5\").attr(\"value\", 2.8);\n",
       "                "
      ],
      "text/plain": [
       "<IPython.core.display.Javascript object>"
      ]
     },
     "metadata": {},
     "output_type": "display_data"
    },
    {
     "data": {
      "application/javascript": [
       "\n",
       "                    $(\"#pm_label5134bdf5\").text(\"Downloaded 90112 of 2924631 bytes\");\n",
       "                    $(\"#pm_progress5134bdf5\").attr(\"value\", 3.08);\n",
       "                "
      ],
      "text/plain": [
       "<IPython.core.display.Javascript object>"
      ]
     },
     "metadata": {},
     "output_type": "display_data"
    },
    {
     "data": {
      "application/javascript": [
       "\n",
       "                    $(\"#pm_label5134bdf5\").text(\"Downloaded 98304 of 2924631 bytes\");\n",
       "                    $(\"#pm_progress5134bdf5\").attr(\"value\", 3.36);\n",
       "                "
      ],
      "text/plain": [
       "<IPython.core.display.Javascript object>"
      ]
     },
     "metadata": {},
     "output_type": "display_data"
    },
    {
     "data": {
      "application/javascript": [
       "\n",
       "                    $(\"#pm_label5134bdf5\").text(\"Downloaded 106496 of 2924631 bytes\");\n",
       "                    $(\"#pm_progress5134bdf5\").attr(\"value\", 3.64);\n",
       "                "
      ],
      "text/plain": [
       "<IPython.core.display.Javascript object>"
      ]
     },
     "metadata": {},
     "output_type": "display_data"
    },
    {
     "data": {
      "application/javascript": [
       "\n",
       "                    $(\"#pm_label5134bdf5\").text(\"Downloaded 114688 of 2924631 bytes\");\n",
       "                    $(\"#pm_progress5134bdf5\").attr(\"value\", 3.92);\n",
       "                "
      ],
      "text/plain": [
       "<IPython.core.display.Javascript object>"
      ]
     },
     "metadata": {},
     "output_type": "display_data"
    },
    {
     "data": {
      "application/javascript": [
       "\n",
       "                    $(\"#pm_label5134bdf5\").text(\"Downloaded 122880 of 2924631 bytes\");\n",
       "                    $(\"#pm_progress5134bdf5\").attr(\"value\", 4.2);\n",
       "                "
      ],
      "text/plain": [
       "<IPython.core.display.Javascript object>"
      ]
     },
     "metadata": {},
     "output_type": "display_data"
    },
    {
     "data": {
      "application/javascript": [
       "\n",
       "                    $(\"#pm_label5134bdf5\").text(\"Downloaded 131072 of 2924631 bytes\");\n",
       "                    $(\"#pm_progress5134bdf5\").attr(\"value\", 4.48);\n",
       "                "
      ],
      "text/plain": [
       "<IPython.core.display.Javascript object>"
      ]
     },
     "metadata": {},
     "output_type": "display_data"
    },
    {
     "data": {
      "application/javascript": [
       "\n",
       "                    $(\"#pm_label5134bdf5\").text(\"Downloaded 139264 of 2924631 bytes\");\n",
       "                    $(\"#pm_progress5134bdf5\").attr(\"value\", 4.76);\n",
       "                "
      ],
      "text/plain": [
       "<IPython.core.display.Javascript object>"
      ]
     },
     "metadata": {},
     "output_type": "display_data"
    },
    {
     "data": {
      "application/javascript": [
       "\n",
       "                    $(\"#pm_label5134bdf5\").text(\"Downloaded 147456 of 2924631 bytes\");\n",
       "                    $(\"#pm_progress5134bdf5\").attr(\"value\", 5.04);\n",
       "                "
      ],
      "text/plain": [
       "<IPython.core.display.Javascript object>"
      ]
     },
     "metadata": {},
     "output_type": "display_data"
    },
    {
     "data": {
      "application/javascript": [
       "\n",
       "                    $(\"#pm_label5134bdf5\").text(\"Downloaded 155648 of 2924631 bytes\");\n",
       "                    $(\"#pm_progress5134bdf5\").attr(\"value\", 5.32);\n",
       "                "
      ],
      "text/plain": [
       "<IPython.core.display.Javascript object>"
      ]
     },
     "metadata": {},
     "output_type": "display_data"
    },
    {
     "data": {
      "application/javascript": [
       "\n",
       "                    $(\"#pm_label5134bdf5\").text(\"Downloaded 163840 of 2924631 bytes\");\n",
       "                    $(\"#pm_progress5134bdf5\").attr(\"value\", 5.6);\n",
       "                "
      ],
      "text/plain": [
       "<IPython.core.display.Javascript object>"
      ]
     },
     "metadata": {},
     "output_type": "display_data"
    },
    {
     "data": {
      "application/javascript": [
       "\n",
       "                    $(\"#pm_label5134bdf5\").text(\"Downloaded 172032 of 2924631 bytes\");\n",
       "                    $(\"#pm_progress5134bdf5\").attr(\"value\", 5.88);\n",
       "                "
      ],
      "text/plain": [
       "<IPython.core.display.Javascript object>"
      ]
     },
     "metadata": {},
     "output_type": "display_data"
    },
    {
     "data": {
      "application/javascript": [
       "\n",
       "                    $(\"#pm_label5134bdf5\").text(\"Downloaded 180224 of 2924631 bytes\");\n",
       "                    $(\"#pm_progress5134bdf5\").attr(\"value\", 6.16);\n",
       "                "
      ],
      "text/plain": [
       "<IPython.core.display.Javascript object>"
      ]
     },
     "metadata": {},
     "output_type": "display_data"
    },
    {
     "data": {
      "application/javascript": [
       "\n",
       "                    $(\"#pm_label5134bdf5\").text(\"Downloaded 188416 of 2924631 bytes\");\n",
       "                    $(\"#pm_progress5134bdf5\").attr(\"value\", 6.44);\n",
       "                "
      ],
      "text/plain": [
       "<IPython.core.display.Javascript object>"
      ]
     },
     "metadata": {},
     "output_type": "display_data"
    },
    {
     "data": {
      "application/javascript": [
       "\n",
       "                    $(\"#pm_label5134bdf5\").text(\"Downloaded 196608 of 2924631 bytes\");\n",
       "                    $(\"#pm_progress5134bdf5\").attr(\"value\", 6.72);\n",
       "                "
      ],
      "text/plain": [
       "<IPython.core.display.Javascript object>"
      ]
     },
     "metadata": {},
     "output_type": "display_data"
    },
    {
     "data": {
      "application/javascript": [
       "\n",
       "                    $(\"#pm_label5134bdf5\").text(\"Downloaded 204800 of 2924631 bytes\");\n",
       "                    $(\"#pm_progress5134bdf5\").attr(\"value\", 7.0);\n",
       "                "
      ],
      "text/plain": [
       "<IPython.core.display.Javascript object>"
      ]
     },
     "metadata": {},
     "output_type": "display_data"
    },
    {
     "data": {
      "application/javascript": [
       "\n",
       "                    $(\"#pm_label5134bdf5\").text(\"Downloaded 212992 of 2924631 bytes\");\n",
       "                    $(\"#pm_progress5134bdf5\").attr(\"value\", 7.28);\n",
       "                "
      ],
      "text/plain": [
       "<IPython.core.display.Javascript object>"
      ]
     },
     "metadata": {},
     "output_type": "display_data"
    },
    {
     "data": {
      "application/javascript": [
       "\n",
       "                    $(\"#pm_label5134bdf5\").text(\"Downloaded 221184 of 2924631 bytes\");\n",
       "                    $(\"#pm_progress5134bdf5\").attr(\"value\", 7.56);\n",
       "                "
      ],
      "text/plain": [
       "<IPython.core.display.Javascript object>"
      ]
     },
     "metadata": {},
     "output_type": "display_data"
    },
    {
     "data": {
      "application/javascript": [
       "\n",
       "                    $(\"#pm_label5134bdf5\").text(\"Downloaded 229376 of 2924631 bytes\");\n",
       "                    $(\"#pm_progress5134bdf5\").attr(\"value\", 7.84);\n",
       "                "
      ],
      "text/plain": [
       "<IPython.core.display.Javascript object>"
      ]
     },
     "metadata": {},
     "output_type": "display_data"
    },
    {
     "data": {
      "application/javascript": [
       "\n",
       "                    $(\"#pm_label5134bdf5\").text(\"Downloaded 237568 of 2924631 bytes\");\n",
       "                    $(\"#pm_progress5134bdf5\").attr(\"value\", 8.12);\n",
       "                "
      ],
      "text/plain": [
       "<IPython.core.display.Javascript object>"
      ]
     },
     "metadata": {},
     "output_type": "display_data"
    },
    {
     "data": {
      "application/javascript": [
       "\n",
       "                    $(\"#pm_label5134bdf5\").text(\"Downloaded 245760 of 2924631 bytes\");\n",
       "                    $(\"#pm_progress5134bdf5\").attr(\"value\", 8.4);\n",
       "                "
      ],
      "text/plain": [
       "<IPython.core.display.Javascript object>"
      ]
     },
     "metadata": {},
     "output_type": "display_data"
    },
    {
     "data": {
      "application/javascript": [
       "\n",
       "                    $(\"#pm_label5134bdf5\").text(\"Downloaded 253952 of 2924631 bytes\");\n",
       "                    $(\"#pm_progress5134bdf5\").attr(\"value\", 8.68);\n",
       "                "
      ],
      "text/plain": [
       "<IPython.core.display.Javascript object>"
      ]
     },
     "metadata": {},
     "output_type": "display_data"
    },
    {
     "data": {
      "application/javascript": [
       "\n",
       "                    $(\"#pm_label5134bdf5\").text(\"Downloaded 262144 of 2924631 bytes\");\n",
       "                    $(\"#pm_progress5134bdf5\").attr(\"value\", 8.96);\n",
       "                "
      ],
      "text/plain": [
       "<IPython.core.display.Javascript object>"
      ]
     },
     "metadata": {},
     "output_type": "display_data"
    },
    {
     "data": {
      "application/javascript": [
       "\n",
       "                    $(\"#pm_label5134bdf5\").text(\"Downloaded 270336 of 2924631 bytes\");\n",
       "                    $(\"#pm_progress5134bdf5\").attr(\"value\", 9.24);\n",
       "                "
      ],
      "text/plain": [
       "<IPython.core.display.Javascript object>"
      ]
     },
     "metadata": {},
     "output_type": "display_data"
    },
    {
     "data": {
      "application/javascript": [
       "\n",
       "                    $(\"#pm_label5134bdf5\").text(\"Downloaded 278528 of 2924631 bytes\");\n",
       "                    $(\"#pm_progress5134bdf5\").attr(\"value\", 9.52);\n",
       "                "
      ],
      "text/plain": [
       "<IPython.core.display.Javascript object>"
      ]
     },
     "metadata": {},
     "output_type": "display_data"
    },
    {
     "data": {
      "application/javascript": [
       "\n",
       "                    $(\"#pm_label5134bdf5\").text(\"Downloaded 286720 of 2924631 bytes\");\n",
       "                    $(\"#pm_progress5134bdf5\").attr(\"value\", 9.8);\n",
       "                "
      ],
      "text/plain": [
       "<IPython.core.display.Javascript object>"
      ]
     },
     "metadata": {},
     "output_type": "display_data"
    },
    {
     "data": {
      "application/javascript": [
       "\n",
       "                    $(\"#pm_label5134bdf5\").text(\"Downloaded 294912 of 2924631 bytes\");\n",
       "                    $(\"#pm_progress5134bdf5\").attr(\"value\", 10.08);\n",
       "                "
      ],
      "text/plain": [
       "<IPython.core.display.Javascript object>"
      ]
     },
     "metadata": {},
     "output_type": "display_data"
    },
    {
     "data": {
      "application/javascript": [
       "\n",
       "                    $(\"#pm_label5134bdf5\").text(\"Downloaded 303104 of 2924631 bytes\");\n",
       "                    $(\"#pm_progress5134bdf5\").attr(\"value\", 10.36);\n",
       "                "
      ],
      "text/plain": [
       "<IPython.core.display.Javascript object>"
      ]
     },
     "metadata": {},
     "output_type": "display_data"
    },
    {
     "data": {
      "application/javascript": [
       "\n",
       "                    $(\"#pm_label5134bdf5\").text(\"Downloaded 311296 of 2924631 bytes\");\n",
       "                    $(\"#pm_progress5134bdf5\").attr(\"value\", 10.64);\n",
       "                "
      ],
      "text/plain": [
       "<IPython.core.display.Javascript object>"
      ]
     },
     "metadata": {},
     "output_type": "display_data"
    },
    {
     "data": {
      "application/javascript": [
       "\n",
       "                    $(\"#pm_label5134bdf5\").text(\"Downloaded 319488 of 2924631 bytes\");\n",
       "                    $(\"#pm_progress5134bdf5\").attr(\"value\", 10.92);\n",
       "                "
      ],
      "text/plain": [
       "<IPython.core.display.Javascript object>"
      ]
     },
     "metadata": {},
     "output_type": "display_data"
    },
    {
     "data": {
      "application/javascript": [
       "\n",
       "                    $(\"#pm_label5134bdf5\").text(\"Downloaded 327680 of 2924631 bytes\");\n",
       "                    $(\"#pm_progress5134bdf5\").attr(\"value\", 11.2);\n",
       "                "
      ],
      "text/plain": [
       "<IPython.core.display.Javascript object>"
      ]
     },
     "metadata": {},
     "output_type": "display_data"
    },
    {
     "data": {
      "application/javascript": [
       "\n",
       "                    $(\"#pm_label5134bdf5\").text(\"Downloaded 335872 of 2924631 bytes\");\n",
       "                    $(\"#pm_progress5134bdf5\").attr(\"value\", 11.48);\n",
       "                "
      ],
      "text/plain": [
       "<IPython.core.display.Javascript object>"
      ]
     },
     "metadata": {},
     "output_type": "display_data"
    },
    {
     "data": {
      "application/javascript": [
       "\n",
       "                    $(\"#pm_label5134bdf5\").text(\"Downloaded 344064 of 2924631 bytes\");\n",
       "                    $(\"#pm_progress5134bdf5\").attr(\"value\", 11.76);\n",
       "                "
      ],
      "text/plain": [
       "<IPython.core.display.Javascript object>"
      ]
     },
     "metadata": {},
     "output_type": "display_data"
    },
    {
     "data": {
      "application/javascript": [
       "\n",
       "                    $(\"#pm_label5134bdf5\").text(\"Downloaded 352256 of 2924631 bytes\");\n",
       "                    $(\"#pm_progress5134bdf5\").attr(\"value\", 12.04);\n",
       "                "
      ],
      "text/plain": [
       "<IPython.core.display.Javascript object>"
      ]
     },
     "metadata": {},
     "output_type": "display_data"
    },
    {
     "data": {
      "application/javascript": [
       "\n",
       "                    $(\"#pm_label5134bdf5\").text(\"Downloaded 360448 of 2924631 bytes\");\n",
       "                    $(\"#pm_progress5134bdf5\").attr(\"value\", 12.32);\n",
       "                "
      ],
      "text/plain": [
       "<IPython.core.display.Javascript object>"
      ]
     },
     "metadata": {},
     "output_type": "display_data"
    },
    {
     "data": {
      "application/javascript": [
       "\n",
       "                    $(\"#pm_label5134bdf5\").text(\"Downloaded 368640 of 2924631 bytes\");\n",
       "                    $(\"#pm_progress5134bdf5\").attr(\"value\", 12.6);\n",
       "                "
      ],
      "text/plain": [
       "<IPython.core.display.Javascript object>"
      ]
     },
     "metadata": {},
     "output_type": "display_data"
    },
    {
     "data": {
      "application/javascript": [
       "\n",
       "                    $(\"#pm_label5134bdf5\").text(\"Downloaded 376832 of 2924631 bytes\");\n",
       "                    $(\"#pm_progress5134bdf5\").attr(\"value\", 12.88);\n",
       "                "
      ],
      "text/plain": [
       "<IPython.core.display.Javascript object>"
      ]
     },
     "metadata": {},
     "output_type": "display_data"
    },
    {
     "data": {
      "application/javascript": [
       "\n",
       "                    $(\"#pm_label5134bdf5\").text(\"Downloaded 385024 of 2924631 bytes\");\n",
       "                    $(\"#pm_progress5134bdf5\").attr(\"value\", 13.16);\n",
       "                "
      ],
      "text/plain": [
       "<IPython.core.display.Javascript object>"
      ]
     },
     "metadata": {},
     "output_type": "display_data"
    },
    {
     "data": {
      "application/javascript": [
       "\n",
       "                    $(\"#pm_label5134bdf5\").text(\"Downloaded 393216 of 2924631 bytes\");\n",
       "                    $(\"#pm_progress5134bdf5\").attr(\"value\", 13.44);\n",
       "                "
      ],
      "text/plain": [
       "<IPython.core.display.Javascript object>"
      ]
     },
     "metadata": {},
     "output_type": "display_data"
    },
    {
     "data": {
      "application/javascript": [
       "\n",
       "                    $(\"#pm_label5134bdf5\").text(\"Downloaded 401408 of 2924631 bytes\");\n",
       "                    $(\"#pm_progress5134bdf5\").attr(\"value\", 13.73);\n",
       "                "
      ],
      "text/plain": [
       "<IPython.core.display.Javascript object>"
      ]
     },
     "metadata": {},
     "output_type": "display_data"
    },
    {
     "data": {
      "application/javascript": [
       "\n",
       "                    $(\"#pm_label5134bdf5\").text(\"Downloaded 409600 of 2924631 bytes\");\n",
       "                    $(\"#pm_progress5134bdf5\").attr(\"value\", 14.01);\n",
       "                "
      ],
      "text/plain": [
       "<IPython.core.display.Javascript object>"
      ]
     },
     "metadata": {},
     "output_type": "display_data"
    },
    {
     "data": {
      "application/javascript": [
       "\n",
       "                    $(\"#pm_label5134bdf5\").text(\"Downloaded 417792 of 2924631 bytes\");\n",
       "                    $(\"#pm_progress5134bdf5\").attr(\"value\", 14.29);\n",
       "                "
      ],
      "text/plain": [
       "<IPython.core.display.Javascript object>"
      ]
     },
     "metadata": {},
     "output_type": "display_data"
    },
    {
     "data": {
      "application/javascript": [
       "\n",
       "                    $(\"#pm_label5134bdf5\").text(\"Downloaded 425984 of 2924631 bytes\");\n",
       "                    $(\"#pm_progress5134bdf5\").attr(\"value\", 14.57);\n",
       "                "
      ],
      "text/plain": [
       "<IPython.core.display.Javascript object>"
      ]
     },
     "metadata": {},
     "output_type": "display_data"
    },
    {
     "data": {
      "application/javascript": [
       "\n",
       "                    $(\"#pm_label5134bdf5\").text(\"Downloaded 434176 of 2924631 bytes\");\n",
       "                    $(\"#pm_progress5134bdf5\").attr(\"value\", 14.85);\n",
       "                "
      ],
      "text/plain": [
       "<IPython.core.display.Javascript object>"
      ]
     },
     "metadata": {},
     "output_type": "display_data"
    },
    {
     "data": {
      "application/javascript": [
       "\n",
       "                    $(\"#pm_label5134bdf5\").text(\"Downloaded 442368 of 2924631 bytes\");\n",
       "                    $(\"#pm_progress5134bdf5\").attr(\"value\", 15.13);\n",
       "                "
      ],
      "text/plain": [
       "<IPython.core.display.Javascript object>"
      ]
     },
     "metadata": {},
     "output_type": "display_data"
    },
    {
     "data": {
      "application/javascript": [
       "\n",
       "                    $(\"#pm_label5134bdf5\").text(\"Downloaded 450560 of 2924631 bytes\");\n",
       "                    $(\"#pm_progress5134bdf5\").attr(\"value\", 15.41);\n",
       "                "
      ],
      "text/plain": [
       "<IPython.core.display.Javascript object>"
      ]
     },
     "metadata": {},
     "output_type": "display_data"
    },
    {
     "data": {
      "application/javascript": [
       "\n",
       "                    $(\"#pm_label5134bdf5\").text(\"Downloaded 458752 of 2924631 bytes\");\n",
       "                    $(\"#pm_progress5134bdf5\").attr(\"value\", 15.69);\n",
       "                "
      ],
      "text/plain": [
       "<IPython.core.display.Javascript object>"
      ]
     },
     "metadata": {},
     "output_type": "display_data"
    },
    {
     "data": {
      "application/javascript": [
       "\n",
       "                    $(\"#pm_label5134bdf5\").text(\"Downloaded 466944 of 2924631 bytes\");\n",
       "                    $(\"#pm_progress5134bdf5\").attr(\"value\", 15.97);\n",
       "                "
      ],
      "text/plain": [
       "<IPython.core.display.Javascript object>"
      ]
     },
     "metadata": {},
     "output_type": "display_data"
    },
    {
     "data": {
      "application/javascript": [
       "\n",
       "                    $(\"#pm_label5134bdf5\").text(\"Downloaded 475136 of 2924631 bytes\");\n",
       "                    $(\"#pm_progress5134bdf5\").attr(\"value\", 16.25);\n",
       "                "
      ],
      "text/plain": [
       "<IPython.core.display.Javascript object>"
      ]
     },
     "metadata": {},
     "output_type": "display_data"
    },
    {
     "data": {
      "application/javascript": [
       "\n",
       "                    $(\"#pm_label5134bdf5\").text(\"Downloaded 483328 of 2924631 bytes\");\n",
       "                    $(\"#pm_progress5134bdf5\").attr(\"value\", 16.53);\n",
       "                "
      ],
      "text/plain": [
       "<IPython.core.display.Javascript object>"
      ]
     },
     "metadata": {},
     "output_type": "display_data"
    },
    {
     "data": {
      "application/javascript": [
       "\n",
       "                    $(\"#pm_label5134bdf5\").text(\"Downloaded 491520 of 2924631 bytes\");\n",
       "                    $(\"#pm_progress5134bdf5\").attr(\"value\", 16.81);\n",
       "                "
      ],
      "text/plain": [
       "<IPython.core.display.Javascript object>"
      ]
     },
     "metadata": {},
     "output_type": "display_data"
    },
    {
     "data": {
      "application/javascript": [
       "\n",
       "                    $(\"#pm_label5134bdf5\").text(\"Downloaded 499712 of 2924631 bytes\");\n",
       "                    $(\"#pm_progress5134bdf5\").attr(\"value\", 17.09);\n",
       "                "
      ],
      "text/plain": [
       "<IPython.core.display.Javascript object>"
      ]
     },
     "metadata": {},
     "output_type": "display_data"
    },
    {
     "data": {
      "application/javascript": [
       "\n",
       "                    $(\"#pm_label5134bdf5\").text(\"Downloaded 507904 of 2924631 bytes\");\n",
       "                    $(\"#pm_progress5134bdf5\").attr(\"value\", 17.37);\n",
       "                "
      ],
      "text/plain": [
       "<IPython.core.display.Javascript object>"
      ]
     },
     "metadata": {},
     "output_type": "display_data"
    },
    {
     "data": {
      "application/javascript": [
       "\n",
       "                    $(\"#pm_label5134bdf5\").text(\"Downloaded 516096 of 2924631 bytes\");\n",
       "                    $(\"#pm_progress5134bdf5\").attr(\"value\", 17.65);\n",
       "                "
      ],
      "text/plain": [
       "<IPython.core.display.Javascript object>"
      ]
     },
     "metadata": {},
     "output_type": "display_data"
    },
    {
     "data": {
      "application/javascript": [
       "\n",
       "                    $(\"#pm_label5134bdf5\").text(\"Downloaded 524288 of 2924631 bytes\");\n",
       "                    $(\"#pm_progress5134bdf5\").attr(\"value\", 17.93);\n",
       "                "
      ],
      "text/plain": [
       "<IPython.core.display.Javascript object>"
      ]
     },
     "metadata": {},
     "output_type": "display_data"
    },
    {
     "data": {
      "application/javascript": [
       "\n",
       "                    $(\"#pm_label5134bdf5\").text(\"Downloaded 532480 of 2924631 bytes\");\n",
       "                    $(\"#pm_progress5134bdf5\").attr(\"value\", 18.21);\n",
       "                "
      ],
      "text/plain": [
       "<IPython.core.display.Javascript object>"
      ]
     },
     "metadata": {},
     "output_type": "display_data"
    },
    {
     "data": {
      "application/javascript": [
       "\n",
       "                    $(\"#pm_label5134bdf5\").text(\"Downloaded 540672 of 2924631 bytes\");\n",
       "                    $(\"#pm_progress5134bdf5\").attr(\"value\", 18.49);\n",
       "                "
      ],
      "text/plain": [
       "<IPython.core.display.Javascript object>"
      ]
     },
     "metadata": {},
     "output_type": "display_data"
    },
    {
     "data": {
      "application/javascript": [
       "\n",
       "                    $(\"#pm_label5134bdf5\").text(\"Downloaded 548864 of 2924631 bytes\");\n",
       "                    $(\"#pm_progress5134bdf5\").attr(\"value\", 18.77);\n",
       "                "
      ],
      "text/plain": [
       "<IPython.core.display.Javascript object>"
      ]
     },
     "metadata": {},
     "output_type": "display_data"
    },
    {
     "data": {
      "application/javascript": [
       "\n",
       "                    $(\"#pm_label5134bdf5\").text(\"Downloaded 557056 of 2924631 bytes\");\n",
       "                    $(\"#pm_progress5134bdf5\").attr(\"value\", 19.05);\n",
       "                "
      ],
      "text/plain": [
       "<IPython.core.display.Javascript object>"
      ]
     },
     "metadata": {},
     "output_type": "display_data"
    },
    {
     "data": {
      "application/javascript": [
       "\n",
       "                    $(\"#pm_label5134bdf5\").text(\"Downloaded 565248 of 2924631 bytes\");\n",
       "                    $(\"#pm_progress5134bdf5\").attr(\"value\", 19.33);\n",
       "                "
      ],
      "text/plain": [
       "<IPython.core.display.Javascript object>"
      ]
     },
     "metadata": {},
     "output_type": "display_data"
    },
    {
     "data": {
      "application/javascript": [
       "\n",
       "                    $(\"#pm_label5134bdf5\").text(\"Downloaded 573440 of 2924631 bytes\");\n",
       "                    $(\"#pm_progress5134bdf5\").attr(\"value\", 19.61);\n",
       "                "
      ],
      "text/plain": [
       "<IPython.core.display.Javascript object>"
      ]
     },
     "metadata": {},
     "output_type": "display_data"
    },
    {
     "data": {
      "application/javascript": [
       "\n",
       "                    $(\"#pm_label5134bdf5\").text(\"Downloaded 581632 of 2924631 bytes\");\n",
       "                    $(\"#pm_progress5134bdf5\").attr(\"value\", 19.89);\n",
       "                "
      ],
      "text/plain": [
       "<IPython.core.display.Javascript object>"
      ]
     },
     "metadata": {},
     "output_type": "display_data"
    },
    {
     "data": {
      "application/javascript": [
       "\n",
       "                    $(\"#pm_label5134bdf5\").text(\"Downloaded 589824 of 2924631 bytes\");\n",
       "                    $(\"#pm_progress5134bdf5\").attr(\"value\", 20.17);\n",
       "                "
      ],
      "text/plain": [
       "<IPython.core.display.Javascript object>"
      ]
     },
     "metadata": {},
     "output_type": "display_data"
    },
    {
     "data": {
      "application/javascript": [
       "\n",
       "                    $(\"#pm_label5134bdf5\").text(\"Downloaded 598016 of 2924631 bytes\");\n",
       "                    $(\"#pm_progress5134bdf5\").attr(\"value\", 20.45);\n",
       "                "
      ],
      "text/plain": [
       "<IPython.core.display.Javascript object>"
      ]
     },
     "metadata": {},
     "output_type": "display_data"
    },
    {
     "data": {
      "application/javascript": [
       "\n",
       "                    $(\"#pm_label5134bdf5\").text(\"Downloaded 606208 of 2924631 bytes\");\n",
       "                    $(\"#pm_progress5134bdf5\").attr(\"value\", 20.73);\n",
       "                "
      ],
      "text/plain": [
       "<IPython.core.display.Javascript object>"
      ]
     },
     "metadata": {},
     "output_type": "display_data"
    },
    {
     "data": {
      "application/javascript": [
       "\n",
       "                    $(\"#pm_label5134bdf5\").text(\"Downloaded 614400 of 2924631 bytes\");\n",
       "                    $(\"#pm_progress5134bdf5\").attr(\"value\", 21.01);\n",
       "                "
      ],
      "text/plain": [
       "<IPython.core.display.Javascript object>"
      ]
     },
     "metadata": {},
     "output_type": "display_data"
    },
    {
     "data": {
      "application/javascript": [
       "\n",
       "                    $(\"#pm_label5134bdf5\").text(\"Downloaded 622592 of 2924631 bytes\");\n",
       "                    $(\"#pm_progress5134bdf5\").attr(\"value\", 21.29);\n",
       "                "
      ],
      "text/plain": [
       "<IPython.core.display.Javascript object>"
      ]
     },
     "metadata": {},
     "output_type": "display_data"
    },
    {
     "data": {
      "application/javascript": [
       "\n",
       "                    $(\"#pm_label5134bdf5\").text(\"Downloaded 630784 of 2924631 bytes\");\n",
       "                    $(\"#pm_progress5134bdf5\").attr(\"value\", 21.57);\n",
       "                "
      ],
      "text/plain": [
       "<IPython.core.display.Javascript object>"
      ]
     },
     "metadata": {},
     "output_type": "display_data"
    },
    {
     "data": {
      "application/javascript": [
       "\n",
       "                    $(\"#pm_label5134bdf5\").text(\"Downloaded 638976 of 2924631 bytes\");\n",
       "                    $(\"#pm_progress5134bdf5\").attr(\"value\", 21.85);\n",
       "                "
      ],
      "text/plain": [
       "<IPython.core.display.Javascript object>"
      ]
     },
     "metadata": {},
     "output_type": "display_data"
    },
    {
     "data": {
      "application/javascript": [
       "\n",
       "                    $(\"#pm_label5134bdf5\").text(\"Downloaded 647168 of 2924631 bytes\");\n",
       "                    $(\"#pm_progress5134bdf5\").attr(\"value\", 22.13);\n",
       "                "
      ],
      "text/plain": [
       "<IPython.core.display.Javascript object>"
      ]
     },
     "metadata": {},
     "output_type": "display_data"
    },
    {
     "data": {
      "application/javascript": [
       "\n",
       "                    $(\"#pm_label5134bdf5\").text(\"Downloaded 655360 of 2924631 bytes\");\n",
       "                    $(\"#pm_progress5134bdf5\").attr(\"value\", 22.41);\n",
       "                "
      ],
      "text/plain": [
       "<IPython.core.display.Javascript object>"
      ]
     },
     "metadata": {},
     "output_type": "display_data"
    },
    {
     "data": {
      "application/javascript": [
       "\n",
       "                    $(\"#pm_label5134bdf5\").text(\"Downloaded 663552 of 2924631 bytes\");\n",
       "                    $(\"#pm_progress5134bdf5\").attr(\"value\", 22.69);\n",
       "                "
      ],
      "text/plain": [
       "<IPython.core.display.Javascript object>"
      ]
     },
     "metadata": {},
     "output_type": "display_data"
    },
    {
     "data": {
      "application/javascript": [
       "\n",
       "                    $(\"#pm_label5134bdf5\").text(\"Downloaded 671744 of 2924631 bytes\");\n",
       "                    $(\"#pm_progress5134bdf5\").attr(\"value\", 22.97);\n",
       "                "
      ],
      "text/plain": [
       "<IPython.core.display.Javascript object>"
      ]
     },
     "metadata": {},
     "output_type": "display_data"
    },
    {
     "data": {
      "application/javascript": [
       "\n",
       "                    $(\"#pm_label5134bdf5\").text(\"Downloaded 679936 of 2924631 bytes\");\n",
       "                    $(\"#pm_progress5134bdf5\").attr(\"value\", 23.25);\n",
       "                "
      ],
      "text/plain": [
       "<IPython.core.display.Javascript object>"
      ]
     },
     "metadata": {},
     "output_type": "display_data"
    },
    {
     "data": {
      "application/javascript": [
       "\n",
       "                    $(\"#pm_label5134bdf5\").text(\"Downloaded 688128 of 2924631 bytes\");\n",
       "                    $(\"#pm_progress5134bdf5\").attr(\"value\", 23.53);\n",
       "                "
      ],
      "text/plain": [
       "<IPython.core.display.Javascript object>"
      ]
     },
     "metadata": {},
     "output_type": "display_data"
    },
    {
     "data": {
      "application/javascript": [
       "\n",
       "                    $(\"#pm_label5134bdf5\").text(\"Downloaded 696320 of 2924631 bytes\");\n",
       "                    $(\"#pm_progress5134bdf5\").attr(\"value\", 23.81);\n",
       "                "
      ],
      "text/plain": [
       "<IPython.core.display.Javascript object>"
      ]
     },
     "metadata": {},
     "output_type": "display_data"
    },
    {
     "data": {
      "application/javascript": [
       "\n",
       "                    $(\"#pm_label5134bdf5\").text(\"Downloaded 704512 of 2924631 bytes\");\n",
       "                    $(\"#pm_progress5134bdf5\").attr(\"value\", 24.09);\n",
       "                "
      ],
      "text/plain": [
       "<IPython.core.display.Javascript object>"
      ]
     },
     "metadata": {},
     "output_type": "display_data"
    },
    {
     "data": {
      "application/javascript": [
       "\n",
       "                    $(\"#pm_label5134bdf5\").text(\"Downloaded 712704 of 2924631 bytes\");\n",
       "                    $(\"#pm_progress5134bdf5\").attr(\"value\", 24.37);\n",
       "                "
      ],
      "text/plain": [
       "<IPython.core.display.Javascript object>"
      ]
     },
     "metadata": {},
     "output_type": "display_data"
    },
    {
     "data": {
      "application/javascript": [
       "\n",
       "                    $(\"#pm_label5134bdf5\").text(\"Downloaded 720896 of 2924631 bytes\");\n",
       "                    $(\"#pm_progress5134bdf5\").attr(\"value\", 24.65);\n",
       "                "
      ],
      "text/plain": [
       "<IPython.core.display.Javascript object>"
      ]
     },
     "metadata": {},
     "output_type": "display_data"
    },
    {
     "data": {
      "application/javascript": [
       "\n",
       "                    $(\"#pm_label5134bdf5\").text(\"Downloaded 729088 of 2924631 bytes\");\n",
       "                    $(\"#pm_progress5134bdf5\").attr(\"value\", 24.93);\n",
       "                "
      ],
      "text/plain": [
       "<IPython.core.display.Javascript object>"
      ]
     },
     "metadata": {},
     "output_type": "display_data"
    },
    {
     "data": {
      "application/javascript": [
       "\n",
       "                    $(\"#pm_label5134bdf5\").text(\"Downloaded 737280 of 2924631 bytes\");\n",
       "                    $(\"#pm_progress5134bdf5\").attr(\"value\", 25.21);\n",
       "                "
      ],
      "text/plain": [
       "<IPython.core.display.Javascript object>"
      ]
     },
     "metadata": {},
     "output_type": "display_data"
    },
    {
     "data": {
      "application/javascript": [
       "\n",
       "                    $(\"#pm_label5134bdf5\").text(\"Downloaded 745472 of 2924631 bytes\");\n",
       "                    $(\"#pm_progress5134bdf5\").attr(\"value\", 25.49);\n",
       "                "
      ],
      "text/plain": [
       "<IPython.core.display.Javascript object>"
      ]
     },
     "metadata": {},
     "output_type": "display_data"
    },
    {
     "data": {
      "application/javascript": [
       "\n",
       "                    $(\"#pm_label5134bdf5\").text(\"Downloaded 753664 of 2924631 bytes\");\n",
       "                    $(\"#pm_progress5134bdf5\").attr(\"value\", 25.77);\n",
       "                "
      ],
      "text/plain": [
       "<IPython.core.display.Javascript object>"
      ]
     },
     "metadata": {},
     "output_type": "display_data"
    },
    {
     "data": {
      "application/javascript": [
       "\n",
       "                    $(\"#pm_label5134bdf5\").text(\"Downloaded 761856 of 2924631 bytes\");\n",
       "                    $(\"#pm_progress5134bdf5\").attr(\"value\", 26.05);\n",
       "                "
      ],
      "text/plain": [
       "<IPython.core.display.Javascript object>"
      ]
     },
     "metadata": {},
     "output_type": "display_data"
    },
    {
     "data": {
      "application/javascript": [
       "\n",
       "                    $(\"#pm_label5134bdf5\").text(\"Downloaded 770048 of 2924631 bytes\");\n",
       "                    $(\"#pm_progress5134bdf5\").attr(\"value\", 26.33);\n",
       "                "
      ],
      "text/plain": [
       "<IPython.core.display.Javascript object>"
      ]
     },
     "metadata": {},
     "output_type": "display_data"
    },
    {
     "data": {
      "application/javascript": [
       "\n",
       "                    $(\"#pm_label5134bdf5\").text(\"Downloaded 778240 of 2924631 bytes\");\n",
       "                    $(\"#pm_progress5134bdf5\").attr(\"value\", 26.61);\n",
       "                "
      ],
      "text/plain": [
       "<IPython.core.display.Javascript object>"
      ]
     },
     "metadata": {},
     "output_type": "display_data"
    },
    {
     "data": {
      "application/javascript": [
       "\n",
       "                    $(\"#pm_label5134bdf5\").text(\"Downloaded 786432 of 2924631 bytes\");\n",
       "                    $(\"#pm_progress5134bdf5\").attr(\"value\", 26.89);\n",
       "                "
      ],
      "text/plain": [
       "<IPython.core.display.Javascript object>"
      ]
     },
     "metadata": {},
     "output_type": "display_data"
    },
    {
     "data": {
      "application/javascript": [
       "\n",
       "                    $(\"#pm_label5134bdf5\").text(\"Downloaded 794624 of 2924631 bytes\");\n",
       "                    $(\"#pm_progress5134bdf5\").attr(\"value\", 27.17);\n",
       "                "
      ],
      "text/plain": [
       "<IPython.core.display.Javascript object>"
      ]
     },
     "metadata": {},
     "output_type": "display_data"
    },
    {
     "data": {
      "application/javascript": [
       "\n",
       "                    $(\"#pm_label5134bdf5\").text(\"Downloaded 802816 of 2924631 bytes\");\n",
       "                    $(\"#pm_progress5134bdf5\").attr(\"value\", 27.45);\n",
       "                "
      ],
      "text/plain": [
       "<IPython.core.display.Javascript object>"
      ]
     },
     "metadata": {},
     "output_type": "display_data"
    },
    {
     "data": {
      "application/javascript": [
       "\n",
       "                    $(\"#pm_label5134bdf5\").text(\"Downloaded 811008 of 2924631 bytes\");\n",
       "                    $(\"#pm_progress5134bdf5\").attr(\"value\", 27.73);\n",
       "                "
      ],
      "text/plain": [
       "<IPython.core.display.Javascript object>"
      ]
     },
     "metadata": {},
     "output_type": "display_data"
    },
    {
     "data": {
      "application/javascript": [
       "\n",
       "                    $(\"#pm_label5134bdf5\").text(\"Downloaded 819200 of 2924631 bytes\");\n",
       "                    $(\"#pm_progress5134bdf5\").attr(\"value\", 28.01);\n",
       "                "
      ],
      "text/plain": [
       "<IPython.core.display.Javascript object>"
      ]
     },
     "metadata": {},
     "output_type": "display_data"
    },
    {
     "data": {
      "application/javascript": [
       "\n",
       "                    $(\"#pm_label5134bdf5\").text(\"Downloaded 827392 of 2924631 bytes\");\n",
       "                    $(\"#pm_progress5134bdf5\").attr(\"value\", 28.29);\n",
       "                "
      ],
      "text/plain": [
       "<IPython.core.display.Javascript object>"
      ]
     },
     "metadata": {},
     "output_type": "display_data"
    },
    {
     "data": {
      "application/javascript": [
       "\n",
       "                    $(\"#pm_label5134bdf5\").text(\"Downloaded 835584 of 2924631 bytes\");\n",
       "                    $(\"#pm_progress5134bdf5\").attr(\"value\", 28.57);\n",
       "                "
      ],
      "text/plain": [
       "<IPython.core.display.Javascript object>"
      ]
     },
     "metadata": {},
     "output_type": "display_data"
    },
    {
     "data": {
      "application/javascript": [
       "\n",
       "                    $(\"#pm_label5134bdf5\").text(\"Downloaded 843776 of 2924631 bytes\");\n",
       "                    $(\"#pm_progress5134bdf5\").attr(\"value\", 28.85);\n",
       "                "
      ],
      "text/plain": [
       "<IPython.core.display.Javascript object>"
      ]
     },
     "metadata": {},
     "output_type": "display_data"
    },
    {
     "data": {
      "application/javascript": [
       "\n",
       "                    $(\"#pm_label5134bdf5\").text(\"Downloaded 851968 of 2924631 bytes\");\n",
       "                    $(\"#pm_progress5134bdf5\").attr(\"value\", 29.13);\n",
       "                "
      ],
      "text/plain": [
       "<IPython.core.display.Javascript object>"
      ]
     },
     "metadata": {},
     "output_type": "display_data"
    },
    {
     "data": {
      "application/javascript": [
       "\n",
       "                    $(\"#pm_label5134bdf5\").text(\"Downloaded 860160 of 2924631 bytes\");\n",
       "                    $(\"#pm_progress5134bdf5\").attr(\"value\", 29.41);\n",
       "                "
      ],
      "text/plain": [
       "<IPython.core.display.Javascript object>"
      ]
     },
     "metadata": {},
     "output_type": "display_data"
    },
    {
     "data": {
      "application/javascript": [
       "\n",
       "                    $(\"#pm_label5134bdf5\").text(\"Downloaded 868352 of 2924631 bytes\");\n",
       "                    $(\"#pm_progress5134bdf5\").attr(\"value\", 29.69);\n",
       "                "
      ],
      "text/plain": [
       "<IPython.core.display.Javascript object>"
      ]
     },
     "metadata": {},
     "output_type": "display_data"
    },
    {
     "data": {
      "application/javascript": [
       "\n",
       "                    $(\"#pm_label5134bdf5\").text(\"Downloaded 876544 of 2924631 bytes\");\n",
       "                    $(\"#pm_progress5134bdf5\").attr(\"value\", 29.97);\n",
       "                "
      ],
      "text/plain": [
       "<IPython.core.display.Javascript object>"
      ]
     },
     "metadata": {},
     "output_type": "display_data"
    },
    {
     "data": {
      "application/javascript": [
       "\n",
       "                    $(\"#pm_label5134bdf5\").text(\"Downloaded 884736 of 2924631 bytes\");\n",
       "                    $(\"#pm_progress5134bdf5\").attr(\"value\", 30.25);\n",
       "                "
      ],
      "text/plain": [
       "<IPython.core.display.Javascript object>"
      ]
     },
     "metadata": {},
     "output_type": "display_data"
    },
    {
     "data": {
      "application/javascript": [
       "\n",
       "                    $(\"#pm_label5134bdf5\").text(\"Downloaded 892928 of 2924631 bytes\");\n",
       "                    $(\"#pm_progress5134bdf5\").attr(\"value\", 30.53);\n",
       "                "
      ],
      "text/plain": [
       "<IPython.core.display.Javascript object>"
      ]
     },
     "metadata": {},
     "output_type": "display_data"
    },
    {
     "data": {
      "application/javascript": [
       "\n",
       "                    $(\"#pm_label5134bdf5\").text(\"Downloaded 901120 of 2924631 bytes\");\n",
       "                    $(\"#pm_progress5134bdf5\").attr(\"value\", 30.81);\n",
       "                "
      ],
      "text/plain": [
       "<IPython.core.display.Javascript object>"
      ]
     },
     "metadata": {},
     "output_type": "display_data"
    },
    {
     "data": {
      "application/javascript": [
       "\n",
       "                    $(\"#pm_label5134bdf5\").text(\"Downloaded 909312 of 2924631 bytes\");\n",
       "                    $(\"#pm_progress5134bdf5\").attr(\"value\", 31.09);\n",
       "                "
      ],
      "text/plain": [
       "<IPython.core.display.Javascript object>"
      ]
     },
     "metadata": {},
     "output_type": "display_data"
    },
    {
     "data": {
      "application/javascript": [
       "\n",
       "                    $(\"#pm_label5134bdf5\").text(\"Downloaded 917504 of 2924631 bytes\");\n",
       "                    $(\"#pm_progress5134bdf5\").attr(\"value\", 31.37);\n",
       "                "
      ],
      "text/plain": [
       "<IPython.core.display.Javascript object>"
      ]
     },
     "metadata": {},
     "output_type": "display_data"
    },
    {
     "data": {
      "application/javascript": [
       "\n",
       "                    $(\"#pm_label5134bdf5\").text(\"Downloaded 925696 of 2924631 bytes\");\n",
       "                    $(\"#pm_progress5134bdf5\").attr(\"value\", 31.65);\n",
       "                "
      ],
      "text/plain": [
       "<IPython.core.display.Javascript object>"
      ]
     },
     "metadata": {},
     "output_type": "display_data"
    },
    {
     "data": {
      "application/javascript": [
       "\n",
       "                    $(\"#pm_label5134bdf5\").text(\"Downloaded 933888 of 2924631 bytes\");\n",
       "                    $(\"#pm_progress5134bdf5\").attr(\"value\", 31.93);\n",
       "                "
      ],
      "text/plain": [
       "<IPython.core.display.Javascript object>"
      ]
     },
     "metadata": {},
     "output_type": "display_data"
    },
    {
     "data": {
      "application/javascript": [
       "\n",
       "                    $(\"#pm_label5134bdf5\").text(\"Downloaded 942080 of 2924631 bytes\");\n",
       "                    $(\"#pm_progress5134bdf5\").attr(\"value\", 32.21);\n",
       "                "
      ],
      "text/plain": [
       "<IPython.core.display.Javascript object>"
      ]
     },
     "metadata": {},
     "output_type": "display_data"
    },
    {
     "data": {
      "application/javascript": [
       "\n",
       "                    $(\"#pm_label5134bdf5\").text(\"Downloaded 950272 of 2924631 bytes\");\n",
       "                    $(\"#pm_progress5134bdf5\").attr(\"value\", 32.49);\n",
       "                "
      ],
      "text/plain": [
       "<IPython.core.display.Javascript object>"
      ]
     },
     "metadata": {},
     "output_type": "display_data"
    },
    {
     "data": {
      "application/javascript": [
       "\n",
       "                    $(\"#pm_label5134bdf5\").text(\"Downloaded 958464 of 2924631 bytes\");\n",
       "                    $(\"#pm_progress5134bdf5\").attr(\"value\", 32.77);\n",
       "                "
      ],
      "text/plain": [
       "<IPython.core.display.Javascript object>"
      ]
     },
     "metadata": {},
     "output_type": "display_data"
    },
    {
     "data": {
      "application/javascript": [
       "\n",
       "                    $(\"#pm_label5134bdf5\").text(\"Downloaded 966656 of 2924631 bytes\");\n",
       "                    $(\"#pm_progress5134bdf5\").attr(\"value\", 33.05);\n",
       "                "
      ],
      "text/plain": [
       "<IPython.core.display.Javascript object>"
      ]
     },
     "metadata": {},
     "output_type": "display_data"
    },
    {
     "data": {
      "application/javascript": [
       "\n",
       "                    $(\"#pm_label5134bdf5\").text(\"Downloaded 974848 of 2924631 bytes\");\n",
       "                    $(\"#pm_progress5134bdf5\").attr(\"value\", 33.33);\n",
       "                "
      ],
      "text/plain": [
       "<IPython.core.display.Javascript object>"
      ]
     },
     "metadata": {},
     "output_type": "display_data"
    },
    {
     "data": {
      "application/javascript": [
       "\n",
       "                    $(\"#pm_label5134bdf5\").text(\"Downloaded 983040 of 2924631 bytes\");\n",
       "                    $(\"#pm_progress5134bdf5\").attr(\"value\", 33.61);\n",
       "                "
      ],
      "text/plain": [
       "<IPython.core.display.Javascript object>"
      ]
     },
     "metadata": {},
     "output_type": "display_data"
    },
    {
     "data": {
      "application/javascript": [
       "\n",
       "                    $(\"#pm_label5134bdf5\").text(\"Downloaded 991232 of 2924631 bytes\");\n",
       "                    $(\"#pm_progress5134bdf5\").attr(\"value\", 33.89);\n",
       "                "
      ],
      "text/plain": [
       "<IPython.core.display.Javascript object>"
      ]
     },
     "metadata": {},
     "output_type": "display_data"
    },
    {
     "data": {
      "application/javascript": [
       "\n",
       "                    $(\"#pm_label5134bdf5\").text(\"Downloaded 999424 of 2924631 bytes\");\n",
       "                    $(\"#pm_progress5134bdf5\").attr(\"value\", 34.17);\n",
       "                "
      ],
      "text/plain": [
       "<IPython.core.display.Javascript object>"
      ]
     },
     "metadata": {},
     "output_type": "display_data"
    },
    {
     "data": {
      "application/javascript": [
       "\n",
       "                    $(\"#pm_label5134bdf5\").text(\"Downloaded 1007616 of 2924631 bytes\");\n",
       "                    $(\"#pm_progress5134bdf5\").attr(\"value\", 34.45);\n",
       "                "
      ],
      "text/plain": [
       "<IPython.core.display.Javascript object>"
      ]
     },
     "metadata": {},
     "output_type": "display_data"
    },
    {
     "data": {
      "application/javascript": [
       "\n",
       "                    $(\"#pm_label5134bdf5\").text(\"Downloaded 1015808 of 2924631 bytes\");\n",
       "                    $(\"#pm_progress5134bdf5\").attr(\"value\", 34.73);\n",
       "                "
      ],
      "text/plain": [
       "<IPython.core.display.Javascript object>"
      ]
     },
     "metadata": {},
     "output_type": "display_data"
    },
    {
     "data": {
      "application/javascript": [
       "\n",
       "                    $(\"#pm_label5134bdf5\").text(\"Downloaded 1024000 of 2924631 bytes\");\n",
       "                    $(\"#pm_progress5134bdf5\").attr(\"value\", 35.01);\n",
       "                "
      ],
      "text/plain": [
       "<IPython.core.display.Javascript object>"
      ]
     },
     "metadata": {},
     "output_type": "display_data"
    },
    {
     "data": {
      "application/javascript": [
       "\n",
       "                    $(\"#pm_label5134bdf5\").text(\"Downloaded 1032192 of 2924631 bytes\");\n",
       "                    $(\"#pm_progress5134bdf5\").attr(\"value\", 35.29);\n",
       "                "
      ],
      "text/plain": [
       "<IPython.core.display.Javascript object>"
      ]
     },
     "metadata": {},
     "output_type": "display_data"
    },
    {
     "data": {
      "application/javascript": [
       "\n",
       "                    $(\"#pm_label5134bdf5\").text(\"Downloaded 1040384 of 2924631 bytes\");\n",
       "                    $(\"#pm_progress5134bdf5\").attr(\"value\", 35.57);\n",
       "                "
      ],
      "text/plain": [
       "<IPython.core.display.Javascript object>"
      ]
     },
     "metadata": {},
     "output_type": "display_data"
    },
    {
     "data": {
      "application/javascript": [
       "\n",
       "                    $(\"#pm_label5134bdf5\").text(\"Downloaded 1048576 of 2924631 bytes\");\n",
       "                    $(\"#pm_progress5134bdf5\").attr(\"value\", 35.85);\n",
       "                "
      ],
      "text/plain": [
       "<IPython.core.display.Javascript object>"
      ]
     },
     "metadata": {},
     "output_type": "display_data"
    },
    {
     "data": {
      "application/javascript": [
       "\n",
       "                    $(\"#pm_label5134bdf5\").text(\"Downloaded 1056768 of 2924631 bytes\");\n",
       "                    $(\"#pm_progress5134bdf5\").attr(\"value\", 36.13);\n",
       "                "
      ],
      "text/plain": [
       "<IPython.core.display.Javascript object>"
      ]
     },
     "metadata": {},
     "output_type": "display_data"
    },
    {
     "data": {
      "application/javascript": [
       "\n",
       "                    $(\"#pm_label5134bdf5\").text(\"Downloaded 1064960 of 2924631 bytes\");\n",
       "                    $(\"#pm_progress5134bdf5\").attr(\"value\", 36.41);\n",
       "                "
      ],
      "text/plain": [
       "<IPython.core.display.Javascript object>"
      ]
     },
     "metadata": {},
     "output_type": "display_data"
    },
    {
     "data": {
      "application/javascript": [
       "\n",
       "                    $(\"#pm_label5134bdf5\").text(\"Downloaded 1073152 of 2924631 bytes\");\n",
       "                    $(\"#pm_progress5134bdf5\").attr(\"value\", 36.69);\n",
       "                "
      ],
      "text/plain": [
       "<IPython.core.display.Javascript object>"
      ]
     },
     "metadata": {},
     "output_type": "display_data"
    },
    {
     "data": {
      "application/javascript": [
       "\n",
       "                    $(\"#pm_label5134bdf5\").text(\"Downloaded 1081344 of 2924631 bytes\");\n",
       "                    $(\"#pm_progress5134bdf5\").attr(\"value\", 36.97);\n",
       "                "
      ],
      "text/plain": [
       "<IPython.core.display.Javascript object>"
      ]
     },
     "metadata": {},
     "output_type": "display_data"
    },
    {
     "data": {
      "application/javascript": [
       "\n",
       "                    $(\"#pm_label5134bdf5\").text(\"Downloaded 1089536 of 2924631 bytes\");\n",
       "                    $(\"#pm_progress5134bdf5\").attr(\"value\", 37.25);\n",
       "                "
      ],
      "text/plain": [
       "<IPython.core.display.Javascript object>"
      ]
     },
     "metadata": {},
     "output_type": "display_data"
    },
    {
     "data": {
      "application/javascript": [
       "\n",
       "                    $(\"#pm_label5134bdf5\").text(\"Downloaded 1097728 of 2924631 bytes\");\n",
       "                    $(\"#pm_progress5134bdf5\").attr(\"value\", 37.53);\n",
       "                "
      ],
      "text/plain": [
       "<IPython.core.display.Javascript object>"
      ]
     },
     "metadata": {},
     "output_type": "display_data"
    },
    {
     "data": {
      "application/javascript": [
       "\n",
       "                    $(\"#pm_label5134bdf5\").text(\"Downloaded 1105920 of 2924631 bytes\");\n",
       "                    $(\"#pm_progress5134bdf5\").attr(\"value\", 37.81);\n",
       "                "
      ],
      "text/plain": [
       "<IPython.core.display.Javascript object>"
      ]
     },
     "metadata": {},
     "output_type": "display_data"
    },
    {
     "data": {
      "application/javascript": [
       "\n",
       "                    $(\"#pm_label5134bdf5\").text(\"Downloaded 1114112 of 2924631 bytes\");\n",
       "                    $(\"#pm_progress5134bdf5\").attr(\"value\", 38.09);\n",
       "                "
      ],
      "text/plain": [
       "<IPython.core.display.Javascript object>"
      ]
     },
     "metadata": {},
     "output_type": "display_data"
    },
    {
     "data": {
      "application/javascript": [
       "\n",
       "                    $(\"#pm_label5134bdf5\").text(\"Downloaded 1122304 of 2924631 bytes\");\n",
       "                    $(\"#pm_progress5134bdf5\").attr(\"value\", 38.37);\n",
       "                "
      ],
      "text/plain": [
       "<IPython.core.display.Javascript object>"
      ]
     },
     "metadata": {},
     "output_type": "display_data"
    },
    {
     "data": {
      "application/javascript": [
       "\n",
       "                    $(\"#pm_label5134bdf5\").text(\"Downloaded 1130496 of 2924631 bytes\");\n",
       "                    $(\"#pm_progress5134bdf5\").attr(\"value\", 38.65);\n",
       "                "
      ],
      "text/plain": [
       "<IPython.core.display.Javascript object>"
      ]
     },
     "metadata": {},
     "output_type": "display_data"
    },
    {
     "data": {
      "application/javascript": [
       "\n",
       "                    $(\"#pm_label5134bdf5\").text(\"Downloaded 1138688 of 2924631 bytes\");\n",
       "                    $(\"#pm_progress5134bdf5\").attr(\"value\", 38.93);\n",
       "                "
      ],
      "text/plain": [
       "<IPython.core.display.Javascript object>"
      ]
     },
     "metadata": {},
     "output_type": "display_data"
    },
    {
     "data": {
      "application/javascript": [
       "\n",
       "                    $(\"#pm_label5134bdf5\").text(\"Downloaded 1146880 of 2924631 bytes\");\n",
       "                    $(\"#pm_progress5134bdf5\").attr(\"value\", 39.21);\n",
       "                "
      ],
      "text/plain": [
       "<IPython.core.display.Javascript object>"
      ]
     },
     "metadata": {},
     "output_type": "display_data"
    },
    {
     "data": {
      "application/javascript": [
       "\n",
       "                    $(\"#pm_label5134bdf5\").text(\"Downloaded 1155072 of 2924631 bytes\");\n",
       "                    $(\"#pm_progress5134bdf5\").attr(\"value\", 39.49);\n",
       "                "
      ],
      "text/plain": [
       "<IPython.core.display.Javascript object>"
      ]
     },
     "metadata": {},
     "output_type": "display_data"
    },
    {
     "data": {
      "application/javascript": [
       "\n",
       "                    $(\"#pm_label5134bdf5\").text(\"Downloaded 1163264 of 2924631 bytes\");\n",
       "                    $(\"#pm_progress5134bdf5\").attr(\"value\", 39.77);\n",
       "                "
      ],
      "text/plain": [
       "<IPython.core.display.Javascript object>"
      ]
     },
     "metadata": {},
     "output_type": "display_data"
    },
    {
     "data": {
      "application/javascript": [
       "\n",
       "                    $(\"#pm_label5134bdf5\").text(\"Downloaded 1171456 of 2924631 bytes\");\n",
       "                    $(\"#pm_progress5134bdf5\").attr(\"value\", 40.05);\n",
       "                "
      ],
      "text/plain": [
       "<IPython.core.display.Javascript object>"
      ]
     },
     "metadata": {},
     "output_type": "display_data"
    },
    {
     "data": {
      "application/javascript": [
       "\n",
       "                    $(\"#pm_label5134bdf5\").text(\"Downloaded 1179648 of 2924631 bytes\");\n",
       "                    $(\"#pm_progress5134bdf5\").attr(\"value\", 40.33);\n",
       "                "
      ],
      "text/plain": [
       "<IPython.core.display.Javascript object>"
      ]
     },
     "metadata": {},
     "output_type": "display_data"
    },
    {
     "data": {
      "application/javascript": [
       "\n",
       "                    $(\"#pm_label5134bdf5\").text(\"Downloaded 1187840 of 2924631 bytes\");\n",
       "                    $(\"#pm_progress5134bdf5\").attr(\"value\", 40.62);\n",
       "                "
      ],
      "text/plain": [
       "<IPython.core.display.Javascript object>"
      ]
     },
     "metadata": {},
     "output_type": "display_data"
    },
    {
     "data": {
      "application/javascript": [
       "\n",
       "                    $(\"#pm_label5134bdf5\").text(\"Downloaded 1196032 of 2924631 bytes\");\n",
       "                    $(\"#pm_progress5134bdf5\").attr(\"value\", 40.9);\n",
       "                "
      ],
      "text/plain": [
       "<IPython.core.display.Javascript object>"
      ]
     },
     "metadata": {},
     "output_type": "display_data"
    },
    {
     "data": {
      "application/javascript": [
       "\n",
       "                    $(\"#pm_label5134bdf5\").text(\"Downloaded 1204224 of 2924631 bytes\");\n",
       "                    $(\"#pm_progress5134bdf5\").attr(\"value\", 41.18);\n",
       "                "
      ],
      "text/plain": [
       "<IPython.core.display.Javascript object>"
      ]
     },
     "metadata": {},
     "output_type": "display_data"
    },
    {
     "data": {
      "application/javascript": [
       "\n",
       "                    $(\"#pm_label5134bdf5\").text(\"Downloaded 1212416 of 2924631 bytes\");\n",
       "                    $(\"#pm_progress5134bdf5\").attr(\"value\", 41.46);\n",
       "                "
      ],
      "text/plain": [
       "<IPython.core.display.Javascript object>"
      ]
     },
     "metadata": {},
     "output_type": "display_data"
    },
    {
     "data": {
      "application/javascript": [
       "\n",
       "                    $(\"#pm_label5134bdf5\").text(\"Downloaded 1220608 of 2924631 bytes\");\n",
       "                    $(\"#pm_progress5134bdf5\").attr(\"value\", 41.74);\n",
       "                "
      ],
      "text/plain": [
       "<IPython.core.display.Javascript object>"
      ]
     },
     "metadata": {},
     "output_type": "display_data"
    },
    {
     "data": {
      "application/javascript": [
       "\n",
       "                    $(\"#pm_label5134bdf5\").text(\"Downloaded 1228800 of 2924631 bytes\");\n",
       "                    $(\"#pm_progress5134bdf5\").attr(\"value\", 42.02);\n",
       "                "
      ],
      "text/plain": [
       "<IPython.core.display.Javascript object>"
      ]
     },
     "metadata": {},
     "output_type": "display_data"
    },
    {
     "data": {
      "application/javascript": [
       "\n",
       "                    $(\"#pm_label5134bdf5\").text(\"Downloaded 1236992 of 2924631 bytes\");\n",
       "                    $(\"#pm_progress5134bdf5\").attr(\"value\", 42.3);\n",
       "                "
      ],
      "text/plain": [
       "<IPython.core.display.Javascript object>"
      ]
     },
     "metadata": {},
     "output_type": "display_data"
    },
    {
     "data": {
      "application/javascript": [
       "\n",
       "                    $(\"#pm_label5134bdf5\").text(\"Downloaded 1245184 of 2924631 bytes\");\n",
       "                    $(\"#pm_progress5134bdf5\").attr(\"value\", 42.58);\n",
       "                "
      ],
      "text/plain": [
       "<IPython.core.display.Javascript object>"
      ]
     },
     "metadata": {},
     "output_type": "display_data"
    },
    {
     "data": {
      "application/javascript": [
       "\n",
       "                    $(\"#pm_label5134bdf5\").text(\"Downloaded 1253376 of 2924631 bytes\");\n",
       "                    $(\"#pm_progress5134bdf5\").attr(\"value\", 42.86);\n",
       "                "
      ],
      "text/plain": [
       "<IPython.core.display.Javascript object>"
      ]
     },
     "metadata": {},
     "output_type": "display_data"
    },
    {
     "data": {
      "application/javascript": [
       "\n",
       "                    $(\"#pm_label5134bdf5\").text(\"Downloaded 1261568 of 2924631 bytes\");\n",
       "                    $(\"#pm_progress5134bdf5\").attr(\"value\", 43.14);\n",
       "                "
      ],
      "text/plain": [
       "<IPython.core.display.Javascript object>"
      ]
     },
     "metadata": {},
     "output_type": "display_data"
    },
    {
     "data": {
      "application/javascript": [
       "\n",
       "                    $(\"#pm_label5134bdf5\").text(\"Downloaded 1269760 of 2924631 bytes\");\n",
       "                    $(\"#pm_progress5134bdf5\").attr(\"value\", 43.42);\n",
       "                "
      ],
      "text/plain": [
       "<IPython.core.display.Javascript object>"
      ]
     },
     "metadata": {},
     "output_type": "display_data"
    },
    {
     "data": {
      "application/javascript": [
       "\n",
       "                    $(\"#pm_label5134bdf5\").text(\"Downloaded 1277952 of 2924631 bytes\");\n",
       "                    $(\"#pm_progress5134bdf5\").attr(\"value\", 43.7);\n",
       "                "
      ],
      "text/plain": [
       "<IPython.core.display.Javascript object>"
      ]
     },
     "metadata": {},
     "output_type": "display_data"
    },
    {
     "data": {
      "application/javascript": [
       "\n",
       "                    $(\"#pm_label5134bdf5\").text(\"Downloaded 1286144 of 2924631 bytes\");\n",
       "                    $(\"#pm_progress5134bdf5\").attr(\"value\", 43.98);\n",
       "                "
      ],
      "text/plain": [
       "<IPython.core.display.Javascript object>"
      ]
     },
     "metadata": {},
     "output_type": "display_data"
    },
    {
     "data": {
      "application/javascript": [
       "\n",
       "                    $(\"#pm_label5134bdf5\").text(\"Downloaded 1294336 of 2924631 bytes\");\n",
       "                    $(\"#pm_progress5134bdf5\").attr(\"value\", 44.26);\n",
       "                "
      ],
      "text/plain": [
       "<IPython.core.display.Javascript object>"
      ]
     },
     "metadata": {},
     "output_type": "display_data"
    },
    {
     "data": {
      "application/javascript": [
       "\n",
       "                    $(\"#pm_label5134bdf5\").text(\"Downloaded 1302528 of 2924631 bytes\");\n",
       "                    $(\"#pm_progress5134bdf5\").attr(\"value\", 44.54);\n",
       "                "
      ],
      "text/plain": [
       "<IPython.core.display.Javascript object>"
      ]
     },
     "metadata": {},
     "output_type": "display_data"
    },
    {
     "data": {
      "application/javascript": [
       "\n",
       "                    $(\"#pm_label5134bdf5\").text(\"Downloaded 1310720 of 2924631 bytes\");\n",
       "                    $(\"#pm_progress5134bdf5\").attr(\"value\", 44.82);\n",
       "                "
      ],
      "text/plain": [
       "<IPython.core.display.Javascript object>"
      ]
     },
     "metadata": {},
     "output_type": "display_data"
    },
    {
     "data": {
      "application/javascript": [
       "\n",
       "                    $(\"#pm_label5134bdf5\").text(\"Downloaded 1318912 of 2924631 bytes\");\n",
       "                    $(\"#pm_progress5134bdf5\").attr(\"value\", 45.1);\n",
       "                "
      ],
      "text/plain": [
       "<IPython.core.display.Javascript object>"
      ]
     },
     "metadata": {},
     "output_type": "display_data"
    },
    {
     "data": {
      "application/javascript": [
       "\n",
       "                    $(\"#pm_label5134bdf5\").text(\"Downloaded 1327104 of 2924631 bytes\");\n",
       "                    $(\"#pm_progress5134bdf5\").attr(\"value\", 45.38);\n",
       "                "
      ],
      "text/plain": [
       "<IPython.core.display.Javascript object>"
      ]
     },
     "metadata": {},
     "output_type": "display_data"
    },
    {
     "data": {
      "application/javascript": [
       "\n",
       "                    $(\"#pm_label5134bdf5\").text(\"Downloaded 1335296 of 2924631 bytes\");\n",
       "                    $(\"#pm_progress5134bdf5\").attr(\"value\", 45.66);\n",
       "                "
      ],
      "text/plain": [
       "<IPython.core.display.Javascript object>"
      ]
     },
     "metadata": {},
     "output_type": "display_data"
    },
    {
     "data": {
      "application/javascript": [
       "\n",
       "                    $(\"#pm_label5134bdf5\").text(\"Downloaded 1343488 of 2924631 bytes\");\n",
       "                    $(\"#pm_progress5134bdf5\").attr(\"value\", 45.94);\n",
       "                "
      ],
      "text/plain": [
       "<IPython.core.display.Javascript object>"
      ]
     },
     "metadata": {},
     "output_type": "display_data"
    },
    {
     "data": {
      "application/javascript": [
       "\n",
       "                    $(\"#pm_label5134bdf5\").text(\"Downloaded 1351680 of 2924631 bytes\");\n",
       "                    $(\"#pm_progress5134bdf5\").attr(\"value\", 46.22);\n",
       "                "
      ],
      "text/plain": [
       "<IPython.core.display.Javascript object>"
      ]
     },
     "metadata": {},
     "output_type": "display_data"
    },
    {
     "data": {
      "application/javascript": [
       "\n",
       "                    $(\"#pm_label5134bdf5\").text(\"Downloaded 1359872 of 2924631 bytes\");\n",
       "                    $(\"#pm_progress5134bdf5\").attr(\"value\", 46.5);\n",
       "                "
      ],
      "text/plain": [
       "<IPython.core.display.Javascript object>"
      ]
     },
     "metadata": {},
     "output_type": "display_data"
    },
    {
     "data": {
      "application/javascript": [
       "\n",
       "                    $(\"#pm_label5134bdf5\").text(\"Downloaded 1368064 of 2924631 bytes\");\n",
       "                    $(\"#pm_progress5134bdf5\").attr(\"value\", 46.78);\n",
       "                "
      ],
      "text/plain": [
       "<IPython.core.display.Javascript object>"
      ]
     },
     "metadata": {},
     "output_type": "display_data"
    },
    {
     "data": {
      "application/javascript": [
       "\n",
       "                    $(\"#pm_label5134bdf5\").text(\"Downloaded 1376256 of 2924631 bytes\");\n",
       "                    $(\"#pm_progress5134bdf5\").attr(\"value\", 47.06);\n",
       "                "
      ],
      "text/plain": [
       "<IPython.core.display.Javascript object>"
      ]
     },
     "metadata": {},
     "output_type": "display_data"
    },
    {
     "data": {
      "application/javascript": [
       "\n",
       "                    $(\"#pm_label5134bdf5\").text(\"Downloaded 1384448 of 2924631 bytes\");\n",
       "                    $(\"#pm_progress5134bdf5\").attr(\"value\", 47.34);\n",
       "                "
      ],
      "text/plain": [
       "<IPython.core.display.Javascript object>"
      ]
     },
     "metadata": {},
     "output_type": "display_data"
    },
    {
     "data": {
      "application/javascript": [
       "\n",
       "                    $(\"#pm_label5134bdf5\").text(\"Downloaded 1392640 of 2924631 bytes\");\n",
       "                    $(\"#pm_progress5134bdf5\").attr(\"value\", 47.62);\n",
       "                "
      ],
      "text/plain": [
       "<IPython.core.display.Javascript object>"
      ]
     },
     "metadata": {},
     "output_type": "display_data"
    },
    {
     "data": {
      "application/javascript": [
       "\n",
       "                    $(\"#pm_label5134bdf5\").text(\"Downloaded 1400832 of 2924631 bytes\");\n",
       "                    $(\"#pm_progress5134bdf5\").attr(\"value\", 47.9);\n",
       "                "
      ],
      "text/plain": [
       "<IPython.core.display.Javascript object>"
      ]
     },
     "metadata": {},
     "output_type": "display_data"
    },
    {
     "data": {
      "application/javascript": [
       "\n",
       "                    $(\"#pm_label5134bdf5\").text(\"Downloaded 1409024 of 2924631 bytes\");\n",
       "                    $(\"#pm_progress5134bdf5\").attr(\"value\", 48.18);\n",
       "                "
      ],
      "text/plain": [
       "<IPython.core.display.Javascript object>"
      ]
     },
     "metadata": {},
     "output_type": "display_data"
    },
    {
     "data": {
      "application/javascript": [
       "\n",
       "                    $(\"#pm_label5134bdf5\").text(\"Downloaded 1417216 of 2924631 bytes\");\n",
       "                    $(\"#pm_progress5134bdf5\").attr(\"value\", 48.46);\n",
       "                "
      ],
      "text/plain": [
       "<IPython.core.display.Javascript object>"
      ]
     },
     "metadata": {},
     "output_type": "display_data"
    },
    {
     "data": {
      "application/javascript": [
       "\n",
       "                    $(\"#pm_label5134bdf5\").text(\"Downloaded 1425408 of 2924631 bytes\");\n",
       "                    $(\"#pm_progress5134bdf5\").attr(\"value\", 48.74);\n",
       "                "
      ],
      "text/plain": [
       "<IPython.core.display.Javascript object>"
      ]
     },
     "metadata": {},
     "output_type": "display_data"
    },
    {
     "data": {
      "application/javascript": [
       "\n",
       "                    $(\"#pm_label5134bdf5\").text(\"Downloaded 1433600 of 2924631 bytes\");\n",
       "                    $(\"#pm_progress5134bdf5\").attr(\"value\", 49.02);\n",
       "                "
      ],
      "text/plain": [
       "<IPython.core.display.Javascript object>"
      ]
     },
     "metadata": {},
     "output_type": "display_data"
    },
    {
     "data": {
      "application/javascript": [
       "\n",
       "                    $(\"#pm_label5134bdf5\").text(\"Downloaded 1441792 of 2924631 bytes\");\n",
       "                    $(\"#pm_progress5134bdf5\").attr(\"value\", 49.3);\n",
       "                "
      ],
      "text/plain": [
       "<IPython.core.display.Javascript object>"
      ]
     },
     "metadata": {},
     "output_type": "display_data"
    },
    {
     "data": {
      "application/javascript": [
       "\n",
       "                    $(\"#pm_label5134bdf5\").text(\"Downloaded 1449984 of 2924631 bytes\");\n",
       "                    $(\"#pm_progress5134bdf5\").attr(\"value\", 49.58);\n",
       "                "
      ],
      "text/plain": [
       "<IPython.core.display.Javascript object>"
      ]
     },
     "metadata": {},
     "output_type": "display_data"
    },
    {
     "data": {
      "application/javascript": [
       "\n",
       "                    $(\"#pm_label5134bdf5\").text(\"Downloaded 1458176 of 2924631 bytes\");\n",
       "                    $(\"#pm_progress5134bdf5\").attr(\"value\", 49.86);\n",
       "                "
      ],
      "text/plain": [
       "<IPython.core.display.Javascript object>"
      ]
     },
     "metadata": {},
     "output_type": "display_data"
    },
    {
     "data": {
      "application/javascript": [
       "\n",
       "                    $(\"#pm_label5134bdf5\").text(\"Downloaded 1466368 of 2924631 bytes\");\n",
       "                    $(\"#pm_progress5134bdf5\").attr(\"value\", 50.14);\n",
       "                "
      ],
      "text/plain": [
       "<IPython.core.display.Javascript object>"
      ]
     },
     "metadata": {},
     "output_type": "display_data"
    },
    {
     "data": {
      "application/javascript": [
       "\n",
       "                    $(\"#pm_label5134bdf5\").text(\"Downloaded 1474560 of 2924631 bytes\");\n",
       "                    $(\"#pm_progress5134bdf5\").attr(\"value\", 50.42);\n",
       "                "
      ],
      "text/plain": [
       "<IPython.core.display.Javascript object>"
      ]
     },
     "metadata": {},
     "output_type": "display_data"
    },
    {
     "data": {
      "application/javascript": [
       "\n",
       "                    $(\"#pm_label5134bdf5\").text(\"Downloaded 1482752 of 2924631 bytes\");\n",
       "                    $(\"#pm_progress5134bdf5\").attr(\"value\", 50.7);\n",
       "                "
      ],
      "text/plain": [
       "<IPython.core.display.Javascript object>"
      ]
     },
     "metadata": {},
     "output_type": "display_data"
    },
    {
     "data": {
      "application/javascript": [
       "\n",
       "                    $(\"#pm_label5134bdf5\").text(\"Downloaded 1490944 of 2924631 bytes\");\n",
       "                    $(\"#pm_progress5134bdf5\").attr(\"value\", 50.98);\n",
       "                "
      ],
      "text/plain": [
       "<IPython.core.display.Javascript object>"
      ]
     },
     "metadata": {},
     "output_type": "display_data"
    },
    {
     "data": {
      "application/javascript": [
       "\n",
       "                    $(\"#pm_label5134bdf5\").text(\"Downloaded 1499136 of 2924631 bytes\");\n",
       "                    $(\"#pm_progress5134bdf5\").attr(\"value\", 51.26);\n",
       "                "
      ],
      "text/plain": [
       "<IPython.core.display.Javascript object>"
      ]
     },
     "metadata": {},
     "output_type": "display_data"
    },
    {
     "data": {
      "application/javascript": [
       "\n",
       "                    $(\"#pm_label5134bdf5\").text(\"Downloaded 1507328 of 2924631 bytes\");\n",
       "                    $(\"#pm_progress5134bdf5\").attr(\"value\", 51.54);\n",
       "                "
      ],
      "text/plain": [
       "<IPython.core.display.Javascript object>"
      ]
     },
     "metadata": {},
     "output_type": "display_data"
    },
    {
     "data": {
      "application/javascript": [
       "\n",
       "                    $(\"#pm_label5134bdf5\").text(\"Downloaded 1515520 of 2924631 bytes\");\n",
       "                    $(\"#pm_progress5134bdf5\").attr(\"value\", 51.82);\n",
       "                "
      ],
      "text/plain": [
       "<IPython.core.display.Javascript object>"
      ]
     },
     "metadata": {},
     "output_type": "display_data"
    },
    {
     "data": {
      "application/javascript": [
       "\n",
       "                    $(\"#pm_label5134bdf5\").text(\"Downloaded 1523712 of 2924631 bytes\");\n",
       "                    $(\"#pm_progress5134bdf5\").attr(\"value\", 52.1);\n",
       "                "
      ],
      "text/plain": [
       "<IPython.core.display.Javascript object>"
      ]
     },
     "metadata": {},
     "output_type": "display_data"
    },
    {
     "data": {
      "application/javascript": [
       "\n",
       "                    $(\"#pm_label5134bdf5\").text(\"Downloaded 1531904 of 2924631 bytes\");\n",
       "                    $(\"#pm_progress5134bdf5\").attr(\"value\", 52.38);\n",
       "                "
      ],
      "text/plain": [
       "<IPython.core.display.Javascript object>"
      ]
     },
     "metadata": {},
     "output_type": "display_data"
    },
    {
     "data": {
      "application/javascript": [
       "\n",
       "                    $(\"#pm_label5134bdf5\").text(\"Downloaded 1540096 of 2924631 bytes\");\n",
       "                    $(\"#pm_progress5134bdf5\").attr(\"value\", 52.66);\n",
       "                "
      ],
      "text/plain": [
       "<IPython.core.display.Javascript object>"
      ]
     },
     "metadata": {},
     "output_type": "display_data"
    },
    {
     "data": {
      "application/javascript": [
       "\n",
       "                    $(\"#pm_label5134bdf5\").text(\"Downloaded 1548288 of 2924631 bytes\");\n",
       "                    $(\"#pm_progress5134bdf5\").attr(\"value\", 52.94);\n",
       "                "
      ],
      "text/plain": [
       "<IPython.core.display.Javascript object>"
      ]
     },
     "metadata": {},
     "output_type": "display_data"
    },
    {
     "data": {
      "application/javascript": [
       "\n",
       "                    $(\"#pm_label5134bdf5\").text(\"Downloaded 1556480 of 2924631 bytes\");\n",
       "                    $(\"#pm_progress5134bdf5\").attr(\"value\", 53.22);\n",
       "                "
      ],
      "text/plain": [
       "<IPython.core.display.Javascript object>"
      ]
     },
     "metadata": {},
     "output_type": "display_data"
    },
    {
     "data": {
      "application/javascript": [
       "\n",
       "                    $(\"#pm_label5134bdf5\").text(\"Downloaded 1564672 of 2924631 bytes\");\n",
       "                    $(\"#pm_progress5134bdf5\").attr(\"value\", 53.5);\n",
       "                "
      ],
      "text/plain": [
       "<IPython.core.display.Javascript object>"
      ]
     },
     "metadata": {},
     "output_type": "display_data"
    },
    {
     "data": {
      "application/javascript": [
       "\n",
       "                    $(\"#pm_label5134bdf5\").text(\"Downloaded 1572864 of 2924631 bytes\");\n",
       "                    $(\"#pm_progress5134bdf5\").attr(\"value\", 53.78);\n",
       "                "
      ],
      "text/plain": [
       "<IPython.core.display.Javascript object>"
      ]
     },
     "metadata": {},
     "output_type": "display_data"
    },
    {
     "data": {
      "application/javascript": [
       "\n",
       "                    $(\"#pm_label5134bdf5\").text(\"Downloaded 1581056 of 2924631 bytes\");\n",
       "                    $(\"#pm_progress5134bdf5\").attr(\"value\", 54.06);\n",
       "                "
      ],
      "text/plain": [
       "<IPython.core.display.Javascript object>"
      ]
     },
     "metadata": {},
     "output_type": "display_data"
    },
    {
     "data": {
      "application/javascript": [
       "\n",
       "                    $(\"#pm_label5134bdf5\").text(\"Downloaded 1589248 of 2924631 bytes\");\n",
       "                    $(\"#pm_progress5134bdf5\").attr(\"value\", 54.34);\n",
       "                "
      ],
      "text/plain": [
       "<IPython.core.display.Javascript object>"
      ]
     },
     "metadata": {},
     "output_type": "display_data"
    },
    {
     "data": {
      "application/javascript": [
       "\n",
       "                    $(\"#pm_label5134bdf5\").text(\"Downloaded 1597440 of 2924631 bytes\");\n",
       "                    $(\"#pm_progress5134bdf5\").attr(\"value\", 54.62);\n",
       "                "
      ],
      "text/plain": [
       "<IPython.core.display.Javascript object>"
      ]
     },
     "metadata": {},
     "output_type": "display_data"
    },
    {
     "data": {
      "application/javascript": [
       "\n",
       "                    $(\"#pm_label5134bdf5\").text(\"Downloaded 1605632 of 2924631 bytes\");\n",
       "                    $(\"#pm_progress5134bdf5\").attr(\"value\", 54.9);\n",
       "                "
      ],
      "text/plain": [
       "<IPython.core.display.Javascript object>"
      ]
     },
     "metadata": {},
     "output_type": "display_data"
    },
    {
     "data": {
      "application/javascript": [
       "\n",
       "                    $(\"#pm_label5134bdf5\").text(\"Downloaded 1613824 of 2924631 bytes\");\n",
       "                    $(\"#pm_progress5134bdf5\").attr(\"value\", 55.18);\n",
       "                "
      ],
      "text/plain": [
       "<IPython.core.display.Javascript object>"
      ]
     },
     "metadata": {},
     "output_type": "display_data"
    },
    {
     "data": {
      "application/javascript": [
       "\n",
       "                    $(\"#pm_label5134bdf5\").text(\"Downloaded 1622016 of 2924631 bytes\");\n",
       "                    $(\"#pm_progress5134bdf5\").attr(\"value\", 55.46);\n",
       "                "
      ],
      "text/plain": [
       "<IPython.core.display.Javascript object>"
      ]
     },
     "metadata": {},
     "output_type": "display_data"
    },
    {
     "data": {
      "application/javascript": [
       "\n",
       "                    $(\"#pm_label5134bdf5\").text(\"Downloaded 1630208 of 2924631 bytes\");\n",
       "                    $(\"#pm_progress5134bdf5\").attr(\"value\", 55.74);\n",
       "                "
      ],
      "text/plain": [
       "<IPython.core.display.Javascript object>"
      ]
     },
     "metadata": {},
     "output_type": "display_data"
    },
    {
     "data": {
      "application/javascript": [
       "\n",
       "                    $(\"#pm_label5134bdf5\").text(\"Downloaded 1638400 of 2924631 bytes\");\n",
       "                    $(\"#pm_progress5134bdf5\").attr(\"value\", 56.02);\n",
       "                "
      ],
      "text/plain": [
       "<IPython.core.display.Javascript object>"
      ]
     },
     "metadata": {},
     "output_type": "display_data"
    },
    {
     "data": {
      "application/javascript": [
       "\n",
       "                    $(\"#pm_label5134bdf5\").text(\"Downloaded 1646592 of 2924631 bytes\");\n",
       "                    $(\"#pm_progress5134bdf5\").attr(\"value\", 56.3);\n",
       "                "
      ],
      "text/plain": [
       "<IPython.core.display.Javascript object>"
      ]
     },
     "metadata": {},
     "output_type": "display_data"
    },
    {
     "data": {
      "application/javascript": [
       "\n",
       "                    $(\"#pm_label5134bdf5\").text(\"Downloaded 1654784 of 2924631 bytes\");\n",
       "                    $(\"#pm_progress5134bdf5\").attr(\"value\", 56.58);\n",
       "                "
      ],
      "text/plain": [
       "<IPython.core.display.Javascript object>"
      ]
     },
     "metadata": {},
     "output_type": "display_data"
    },
    {
     "data": {
      "application/javascript": [
       "\n",
       "                    $(\"#pm_label5134bdf5\").text(\"Downloaded 1662976 of 2924631 bytes\");\n",
       "                    $(\"#pm_progress5134bdf5\").attr(\"value\", 56.86);\n",
       "                "
      ],
      "text/plain": [
       "<IPython.core.display.Javascript object>"
      ]
     },
     "metadata": {},
     "output_type": "display_data"
    },
    {
     "data": {
      "application/javascript": [
       "\n",
       "                    $(\"#pm_label5134bdf5\").text(\"Downloaded 1671168 of 2924631 bytes\");\n",
       "                    $(\"#pm_progress5134bdf5\").attr(\"value\", 57.14);\n",
       "                "
      ],
      "text/plain": [
       "<IPython.core.display.Javascript object>"
      ]
     },
     "metadata": {},
     "output_type": "display_data"
    },
    {
     "data": {
      "application/javascript": [
       "\n",
       "                    $(\"#pm_label5134bdf5\").text(\"Downloaded 1679360 of 2924631 bytes\");\n",
       "                    $(\"#pm_progress5134bdf5\").attr(\"value\", 57.42);\n",
       "                "
      ],
      "text/plain": [
       "<IPython.core.display.Javascript object>"
      ]
     },
     "metadata": {},
     "output_type": "display_data"
    },
    {
     "data": {
      "application/javascript": [
       "\n",
       "                    $(\"#pm_label5134bdf5\").text(\"Downloaded 1687552 of 2924631 bytes\");\n",
       "                    $(\"#pm_progress5134bdf5\").attr(\"value\", 57.7);\n",
       "                "
      ],
      "text/plain": [
       "<IPython.core.display.Javascript object>"
      ]
     },
     "metadata": {},
     "output_type": "display_data"
    },
    {
     "data": {
      "application/javascript": [
       "\n",
       "                    $(\"#pm_label5134bdf5\").text(\"Downloaded 1695744 of 2924631 bytes\");\n",
       "                    $(\"#pm_progress5134bdf5\").attr(\"value\", 57.98);\n",
       "                "
      ],
      "text/plain": [
       "<IPython.core.display.Javascript object>"
      ]
     },
     "metadata": {},
     "output_type": "display_data"
    },
    {
     "data": {
      "application/javascript": [
       "\n",
       "                    $(\"#pm_label5134bdf5\").text(\"Downloaded 1703936 of 2924631 bytes\");\n",
       "                    $(\"#pm_progress5134bdf5\").attr(\"value\", 58.26);\n",
       "                "
      ],
      "text/plain": [
       "<IPython.core.display.Javascript object>"
      ]
     },
     "metadata": {},
     "output_type": "display_data"
    },
    {
     "data": {
      "application/javascript": [
       "\n",
       "                    $(\"#pm_label5134bdf5\").text(\"Downloaded 1712128 of 2924631 bytes\");\n",
       "                    $(\"#pm_progress5134bdf5\").attr(\"value\", 58.54);\n",
       "                "
      ],
      "text/plain": [
       "<IPython.core.display.Javascript object>"
      ]
     },
     "metadata": {},
     "output_type": "display_data"
    },
    {
     "data": {
      "application/javascript": [
       "\n",
       "                    $(\"#pm_label5134bdf5\").text(\"Downloaded 1720320 of 2924631 bytes\");\n",
       "                    $(\"#pm_progress5134bdf5\").attr(\"value\", 58.82);\n",
       "                "
      ],
      "text/plain": [
       "<IPython.core.display.Javascript object>"
      ]
     },
     "metadata": {},
     "output_type": "display_data"
    },
    {
     "data": {
      "application/javascript": [
       "\n",
       "                    $(\"#pm_label5134bdf5\").text(\"Downloaded 1728512 of 2924631 bytes\");\n",
       "                    $(\"#pm_progress5134bdf5\").attr(\"value\", 59.1);\n",
       "                "
      ],
      "text/plain": [
       "<IPython.core.display.Javascript object>"
      ]
     },
     "metadata": {},
     "output_type": "display_data"
    },
    {
     "data": {
      "application/javascript": [
       "\n",
       "                    $(\"#pm_label5134bdf5\").text(\"Downloaded 1736704 of 2924631 bytes\");\n",
       "                    $(\"#pm_progress5134bdf5\").attr(\"value\", 59.38);\n",
       "                "
      ],
      "text/plain": [
       "<IPython.core.display.Javascript object>"
      ]
     },
     "metadata": {},
     "output_type": "display_data"
    },
    {
     "data": {
      "application/javascript": [
       "\n",
       "                    $(\"#pm_label5134bdf5\").text(\"Downloaded 1744896 of 2924631 bytes\");\n",
       "                    $(\"#pm_progress5134bdf5\").attr(\"value\", 59.66);\n",
       "                "
      ],
      "text/plain": [
       "<IPython.core.display.Javascript object>"
      ]
     },
     "metadata": {},
     "output_type": "display_data"
    },
    {
     "data": {
      "application/javascript": [
       "\n",
       "                    $(\"#pm_label5134bdf5\").text(\"Downloaded 1753088 of 2924631 bytes\");\n",
       "                    $(\"#pm_progress5134bdf5\").attr(\"value\", 59.94);\n",
       "                "
      ],
      "text/plain": [
       "<IPython.core.display.Javascript object>"
      ]
     },
     "metadata": {},
     "output_type": "display_data"
    },
    {
     "data": {
      "application/javascript": [
       "\n",
       "                    $(\"#pm_label5134bdf5\").text(\"Downloaded 1761280 of 2924631 bytes\");\n",
       "                    $(\"#pm_progress5134bdf5\").attr(\"value\", 60.22);\n",
       "                "
      ],
      "text/plain": [
       "<IPython.core.display.Javascript object>"
      ]
     },
     "metadata": {},
     "output_type": "display_data"
    },
    {
     "data": {
      "application/javascript": [
       "\n",
       "                    $(\"#pm_label5134bdf5\").text(\"Downloaded 1769472 of 2924631 bytes\");\n",
       "                    $(\"#pm_progress5134bdf5\").attr(\"value\", 60.5);\n",
       "                "
      ],
      "text/plain": [
       "<IPython.core.display.Javascript object>"
      ]
     },
     "metadata": {},
     "output_type": "display_data"
    },
    {
     "data": {
      "application/javascript": [
       "\n",
       "                    $(\"#pm_label5134bdf5\").text(\"Downloaded 1777664 of 2924631 bytes\");\n",
       "                    $(\"#pm_progress5134bdf5\").attr(\"value\", 60.78);\n",
       "                "
      ],
      "text/plain": [
       "<IPython.core.display.Javascript object>"
      ]
     },
     "metadata": {},
     "output_type": "display_data"
    },
    {
     "data": {
      "application/javascript": [
       "\n",
       "                    $(\"#pm_label5134bdf5\").text(\"Downloaded 1785856 of 2924631 bytes\");\n",
       "                    $(\"#pm_progress5134bdf5\").attr(\"value\", 61.06);\n",
       "                "
      ],
      "text/plain": [
       "<IPython.core.display.Javascript object>"
      ]
     },
     "metadata": {},
     "output_type": "display_data"
    },
    {
     "data": {
      "application/javascript": [
       "\n",
       "                    $(\"#pm_label5134bdf5\").text(\"Downloaded 1794048 of 2924631 bytes\");\n",
       "                    $(\"#pm_progress5134bdf5\").attr(\"value\", 61.34);\n",
       "                "
      ],
      "text/plain": [
       "<IPython.core.display.Javascript object>"
      ]
     },
     "metadata": {},
     "output_type": "display_data"
    },
    {
     "data": {
      "application/javascript": [
       "\n",
       "                    $(\"#pm_label5134bdf5\").text(\"Downloaded 1802240 of 2924631 bytes\");\n",
       "                    $(\"#pm_progress5134bdf5\").attr(\"value\", 61.62);\n",
       "                "
      ],
      "text/plain": [
       "<IPython.core.display.Javascript object>"
      ]
     },
     "metadata": {},
     "output_type": "display_data"
    },
    {
     "data": {
      "application/javascript": [
       "\n",
       "                    $(\"#pm_label5134bdf5\").text(\"Downloaded 1810432 of 2924631 bytes\");\n",
       "                    $(\"#pm_progress5134bdf5\").attr(\"value\", 61.9);\n",
       "                "
      ],
      "text/plain": [
       "<IPython.core.display.Javascript object>"
      ]
     },
     "metadata": {},
     "output_type": "display_data"
    },
    {
     "data": {
      "application/javascript": [
       "\n",
       "                    $(\"#pm_label5134bdf5\").text(\"Downloaded 1818624 of 2924631 bytes\");\n",
       "                    $(\"#pm_progress5134bdf5\").attr(\"value\", 62.18);\n",
       "                "
      ],
      "text/plain": [
       "<IPython.core.display.Javascript object>"
      ]
     },
     "metadata": {},
     "output_type": "display_data"
    },
    {
     "data": {
      "application/javascript": [
       "\n",
       "                    $(\"#pm_label5134bdf5\").text(\"Downloaded 1826816 of 2924631 bytes\");\n",
       "                    $(\"#pm_progress5134bdf5\").attr(\"value\", 62.46);\n",
       "                "
      ],
      "text/plain": [
       "<IPython.core.display.Javascript object>"
      ]
     },
     "metadata": {},
     "output_type": "display_data"
    },
    {
     "data": {
      "application/javascript": [
       "\n",
       "                    $(\"#pm_label5134bdf5\").text(\"Downloaded 1835008 of 2924631 bytes\");\n",
       "                    $(\"#pm_progress5134bdf5\").attr(\"value\", 62.74);\n",
       "                "
      ],
      "text/plain": [
       "<IPython.core.display.Javascript object>"
      ]
     },
     "metadata": {},
     "output_type": "display_data"
    },
    {
     "data": {
      "application/javascript": [
       "\n",
       "                    $(\"#pm_label5134bdf5\").text(\"Downloaded 1843200 of 2924631 bytes\");\n",
       "                    $(\"#pm_progress5134bdf5\").attr(\"value\", 63.02);\n",
       "                "
      ],
      "text/plain": [
       "<IPython.core.display.Javascript object>"
      ]
     },
     "metadata": {},
     "output_type": "display_data"
    },
    {
     "data": {
      "application/javascript": [
       "\n",
       "                    $(\"#pm_label5134bdf5\").text(\"Downloaded 1851392 of 2924631 bytes\");\n",
       "                    $(\"#pm_progress5134bdf5\").attr(\"value\", 63.3);\n",
       "                "
      ],
      "text/plain": [
       "<IPython.core.display.Javascript object>"
      ]
     },
     "metadata": {},
     "output_type": "display_data"
    },
    {
     "data": {
      "application/javascript": [
       "\n",
       "                    $(\"#pm_label5134bdf5\").text(\"Downloaded 1859584 of 2924631 bytes\");\n",
       "                    $(\"#pm_progress5134bdf5\").attr(\"value\", 63.58);\n",
       "                "
      ],
      "text/plain": [
       "<IPython.core.display.Javascript object>"
      ]
     },
     "metadata": {},
     "output_type": "display_data"
    },
    {
     "data": {
      "application/javascript": [
       "\n",
       "                    $(\"#pm_label5134bdf5\").text(\"Downloaded 1867776 of 2924631 bytes\");\n",
       "                    $(\"#pm_progress5134bdf5\").attr(\"value\", 63.86);\n",
       "                "
      ],
      "text/plain": [
       "<IPython.core.display.Javascript object>"
      ]
     },
     "metadata": {},
     "output_type": "display_data"
    },
    {
     "data": {
      "application/javascript": [
       "\n",
       "                    $(\"#pm_label5134bdf5\").text(\"Downloaded 1875968 of 2924631 bytes\");\n",
       "                    $(\"#pm_progress5134bdf5\").attr(\"value\", 64.14);\n",
       "                "
      ],
      "text/plain": [
       "<IPython.core.display.Javascript object>"
      ]
     },
     "metadata": {},
     "output_type": "display_data"
    },
    {
     "data": {
      "application/javascript": [
       "\n",
       "                    $(\"#pm_label5134bdf5\").text(\"Downloaded 1884160 of 2924631 bytes\");\n",
       "                    $(\"#pm_progress5134bdf5\").attr(\"value\", 64.42);\n",
       "                "
      ],
      "text/plain": [
       "<IPython.core.display.Javascript object>"
      ]
     },
     "metadata": {},
     "output_type": "display_data"
    },
    {
     "data": {
      "application/javascript": [
       "\n",
       "                    $(\"#pm_label5134bdf5\").text(\"Downloaded 1892352 of 2924631 bytes\");\n",
       "                    $(\"#pm_progress5134bdf5\").attr(\"value\", 64.7);\n",
       "                "
      ],
      "text/plain": [
       "<IPython.core.display.Javascript object>"
      ]
     },
     "metadata": {},
     "output_type": "display_data"
    },
    {
     "data": {
      "application/javascript": [
       "\n",
       "                    $(\"#pm_label5134bdf5\").text(\"Downloaded 1900544 of 2924631 bytes\");\n",
       "                    $(\"#pm_progress5134bdf5\").attr(\"value\", 64.98);\n",
       "                "
      ],
      "text/plain": [
       "<IPython.core.display.Javascript object>"
      ]
     },
     "metadata": {},
     "output_type": "display_data"
    },
    {
     "data": {
      "application/javascript": [
       "\n",
       "                    $(\"#pm_label5134bdf5\").text(\"Downloaded 1908736 of 2924631 bytes\");\n",
       "                    $(\"#pm_progress5134bdf5\").attr(\"value\", 65.26);\n",
       "                "
      ],
      "text/plain": [
       "<IPython.core.display.Javascript object>"
      ]
     },
     "metadata": {},
     "output_type": "display_data"
    },
    {
     "data": {
      "application/javascript": [
       "\n",
       "                    $(\"#pm_label5134bdf5\").text(\"Downloaded 1916928 of 2924631 bytes\");\n",
       "                    $(\"#pm_progress5134bdf5\").attr(\"value\", 65.54);\n",
       "                "
      ],
      "text/plain": [
       "<IPython.core.display.Javascript object>"
      ]
     },
     "metadata": {},
     "output_type": "display_data"
    },
    {
     "data": {
      "application/javascript": [
       "\n",
       "                    $(\"#pm_label5134bdf5\").text(\"Downloaded 1925120 of 2924631 bytes\");\n",
       "                    $(\"#pm_progress5134bdf5\").attr(\"value\", 65.82);\n",
       "                "
      ],
      "text/plain": [
       "<IPython.core.display.Javascript object>"
      ]
     },
     "metadata": {},
     "output_type": "display_data"
    },
    {
     "data": {
      "application/javascript": [
       "\n",
       "                    $(\"#pm_label5134bdf5\").text(\"Downloaded 1933312 of 2924631 bytes\");\n",
       "                    $(\"#pm_progress5134bdf5\").attr(\"value\", 66.1);\n",
       "                "
      ],
      "text/plain": [
       "<IPython.core.display.Javascript object>"
      ]
     },
     "metadata": {},
     "output_type": "display_data"
    },
    {
     "data": {
      "application/javascript": [
       "\n",
       "                    $(\"#pm_label5134bdf5\").text(\"Downloaded 1941504 of 2924631 bytes\");\n",
       "                    $(\"#pm_progress5134bdf5\").attr(\"value\", 66.38);\n",
       "                "
      ],
      "text/plain": [
       "<IPython.core.display.Javascript object>"
      ]
     },
     "metadata": {},
     "output_type": "display_data"
    },
    {
     "data": {
      "application/javascript": [
       "\n",
       "                    $(\"#pm_label5134bdf5\").text(\"Downloaded 1949696 of 2924631 bytes\");\n",
       "                    $(\"#pm_progress5134bdf5\").attr(\"value\", 66.66);\n",
       "                "
      ],
      "text/plain": [
       "<IPython.core.display.Javascript object>"
      ]
     },
     "metadata": {},
     "output_type": "display_data"
    },
    {
     "data": {
      "application/javascript": [
       "\n",
       "                    $(\"#pm_label5134bdf5\").text(\"Downloaded 1957888 of 2924631 bytes\");\n",
       "                    $(\"#pm_progress5134bdf5\").attr(\"value\", 66.94);\n",
       "                "
      ],
      "text/plain": [
       "<IPython.core.display.Javascript object>"
      ]
     },
     "metadata": {},
     "output_type": "display_data"
    },
    {
     "data": {
      "application/javascript": [
       "\n",
       "                    $(\"#pm_label5134bdf5\").text(\"Downloaded 1966080 of 2924631 bytes\");\n",
       "                    $(\"#pm_progress5134bdf5\").attr(\"value\", 67.22);\n",
       "                "
      ],
      "text/plain": [
       "<IPython.core.display.Javascript object>"
      ]
     },
     "metadata": {},
     "output_type": "display_data"
    },
    {
     "data": {
      "application/javascript": [
       "\n",
       "                    $(\"#pm_label5134bdf5\").text(\"Downloaded 1974272 of 2924631 bytes\");\n",
       "                    $(\"#pm_progress5134bdf5\").attr(\"value\", 67.5);\n",
       "                "
      ],
      "text/plain": [
       "<IPython.core.display.Javascript object>"
      ]
     },
     "metadata": {},
     "output_type": "display_data"
    },
    {
     "data": {
      "application/javascript": [
       "\n",
       "                    $(\"#pm_label5134bdf5\").text(\"Downloaded 1982464 of 2924631 bytes\");\n",
       "                    $(\"#pm_progress5134bdf5\").attr(\"value\", 67.79);\n",
       "                "
      ],
      "text/plain": [
       "<IPython.core.display.Javascript object>"
      ]
     },
     "metadata": {},
     "output_type": "display_data"
    },
    {
     "data": {
      "application/javascript": [
       "\n",
       "                    $(\"#pm_label5134bdf5\").text(\"Downloaded 1990656 of 2924631 bytes\");\n",
       "                    $(\"#pm_progress5134bdf5\").attr(\"value\", 68.07);\n",
       "                "
      ],
      "text/plain": [
       "<IPython.core.display.Javascript object>"
      ]
     },
     "metadata": {},
     "output_type": "display_data"
    },
    {
     "data": {
      "application/javascript": [
       "\n",
       "                    $(\"#pm_label5134bdf5\").text(\"Downloaded 1998848 of 2924631 bytes\");\n",
       "                    $(\"#pm_progress5134bdf5\").attr(\"value\", 68.35);\n",
       "                "
      ],
      "text/plain": [
       "<IPython.core.display.Javascript object>"
      ]
     },
     "metadata": {},
     "output_type": "display_data"
    },
    {
     "data": {
      "application/javascript": [
       "\n",
       "                    $(\"#pm_label5134bdf5\").text(\"Downloaded 2007040 of 2924631 bytes\");\n",
       "                    $(\"#pm_progress5134bdf5\").attr(\"value\", 68.63);\n",
       "                "
      ],
      "text/plain": [
       "<IPython.core.display.Javascript object>"
      ]
     },
     "metadata": {},
     "output_type": "display_data"
    },
    {
     "data": {
      "application/javascript": [
       "\n",
       "                    $(\"#pm_label5134bdf5\").text(\"Downloaded 2015232 of 2924631 bytes\");\n",
       "                    $(\"#pm_progress5134bdf5\").attr(\"value\", 68.91);\n",
       "                "
      ],
      "text/plain": [
       "<IPython.core.display.Javascript object>"
      ]
     },
     "metadata": {},
     "output_type": "display_data"
    },
    {
     "data": {
      "application/javascript": [
       "\n",
       "                    $(\"#pm_label5134bdf5\").text(\"Downloaded 2023424 of 2924631 bytes\");\n",
       "                    $(\"#pm_progress5134bdf5\").attr(\"value\", 69.19);\n",
       "                "
      ],
      "text/plain": [
       "<IPython.core.display.Javascript object>"
      ]
     },
     "metadata": {},
     "output_type": "display_data"
    },
    {
     "data": {
      "application/javascript": [
       "\n",
       "                    $(\"#pm_label5134bdf5\").text(\"Downloaded 2031616 of 2924631 bytes\");\n",
       "                    $(\"#pm_progress5134bdf5\").attr(\"value\", 69.47);\n",
       "                "
      ],
      "text/plain": [
       "<IPython.core.display.Javascript object>"
      ]
     },
     "metadata": {},
     "output_type": "display_data"
    },
    {
     "data": {
      "application/javascript": [
       "\n",
       "                    $(\"#pm_label5134bdf5\").text(\"Downloaded 2039808 of 2924631 bytes\");\n",
       "                    $(\"#pm_progress5134bdf5\").attr(\"value\", 69.75);\n",
       "                "
      ],
      "text/plain": [
       "<IPython.core.display.Javascript object>"
      ]
     },
     "metadata": {},
     "output_type": "display_data"
    },
    {
     "data": {
      "application/javascript": [
       "\n",
       "                    $(\"#pm_label5134bdf5\").text(\"Downloaded 2048000 of 2924631 bytes\");\n",
       "                    $(\"#pm_progress5134bdf5\").attr(\"value\", 70.03);\n",
       "                "
      ],
      "text/plain": [
       "<IPython.core.display.Javascript object>"
      ]
     },
     "metadata": {},
     "output_type": "display_data"
    },
    {
     "data": {
      "application/javascript": [
       "\n",
       "                    $(\"#pm_label5134bdf5\").text(\"Downloaded 2056192 of 2924631 bytes\");\n",
       "                    $(\"#pm_progress5134bdf5\").attr(\"value\", 70.31);\n",
       "                "
      ],
      "text/plain": [
       "<IPython.core.display.Javascript object>"
      ]
     },
     "metadata": {},
     "output_type": "display_data"
    },
    {
     "data": {
      "application/javascript": [
       "\n",
       "                    $(\"#pm_label5134bdf5\").text(\"Downloaded 2064384 of 2924631 bytes\");\n",
       "                    $(\"#pm_progress5134bdf5\").attr(\"value\", 70.59);\n",
       "                "
      ],
      "text/plain": [
       "<IPython.core.display.Javascript object>"
      ]
     },
     "metadata": {},
     "output_type": "display_data"
    },
    {
     "data": {
      "application/javascript": [
       "\n",
       "                    $(\"#pm_label5134bdf5\").text(\"Downloaded 2072576 of 2924631 bytes\");\n",
       "                    $(\"#pm_progress5134bdf5\").attr(\"value\", 70.87);\n",
       "                "
      ],
      "text/plain": [
       "<IPython.core.display.Javascript object>"
      ]
     },
     "metadata": {},
     "output_type": "display_data"
    },
    {
     "data": {
      "application/javascript": [
       "\n",
       "                    $(\"#pm_label5134bdf5\").text(\"Downloaded 2080768 of 2924631 bytes\");\n",
       "                    $(\"#pm_progress5134bdf5\").attr(\"value\", 71.15);\n",
       "                "
      ],
      "text/plain": [
       "<IPython.core.display.Javascript object>"
      ]
     },
     "metadata": {},
     "output_type": "display_data"
    },
    {
     "data": {
      "application/javascript": [
       "\n",
       "                    $(\"#pm_label5134bdf5\").text(\"Downloaded 2088960 of 2924631 bytes\");\n",
       "                    $(\"#pm_progress5134bdf5\").attr(\"value\", 71.43);\n",
       "                "
      ],
      "text/plain": [
       "<IPython.core.display.Javascript object>"
      ]
     },
     "metadata": {},
     "output_type": "display_data"
    },
    {
     "data": {
      "application/javascript": [
       "\n",
       "                    $(\"#pm_label5134bdf5\").text(\"Downloaded 2097152 of 2924631 bytes\");\n",
       "                    $(\"#pm_progress5134bdf5\").attr(\"value\", 71.71);\n",
       "                "
      ],
      "text/plain": [
       "<IPython.core.display.Javascript object>"
      ]
     },
     "metadata": {},
     "output_type": "display_data"
    },
    {
     "data": {
      "application/javascript": [
       "\n",
       "                    $(\"#pm_label5134bdf5\").text(\"Downloaded 2105344 of 2924631 bytes\");\n",
       "                    $(\"#pm_progress5134bdf5\").attr(\"value\", 71.99);\n",
       "                "
      ],
      "text/plain": [
       "<IPython.core.display.Javascript object>"
      ]
     },
     "metadata": {},
     "output_type": "display_data"
    },
    {
     "data": {
      "application/javascript": [
       "\n",
       "                    $(\"#pm_label5134bdf5\").text(\"Downloaded 2113536 of 2924631 bytes\");\n",
       "                    $(\"#pm_progress5134bdf5\").attr(\"value\", 72.27);\n",
       "                "
      ],
      "text/plain": [
       "<IPython.core.display.Javascript object>"
      ]
     },
     "metadata": {},
     "output_type": "display_data"
    },
    {
     "data": {
      "application/javascript": [
       "\n",
       "                    $(\"#pm_label5134bdf5\").text(\"Downloaded 2121728 of 2924631 bytes\");\n",
       "                    $(\"#pm_progress5134bdf5\").attr(\"value\", 72.55);\n",
       "                "
      ],
      "text/plain": [
       "<IPython.core.display.Javascript object>"
      ]
     },
     "metadata": {},
     "output_type": "display_data"
    },
    {
     "data": {
      "application/javascript": [
       "\n",
       "                    $(\"#pm_label5134bdf5\").text(\"Downloaded 2129920 of 2924631 bytes\");\n",
       "                    $(\"#pm_progress5134bdf5\").attr(\"value\", 72.83);\n",
       "                "
      ],
      "text/plain": [
       "<IPython.core.display.Javascript object>"
      ]
     },
     "metadata": {},
     "output_type": "display_data"
    },
    {
     "data": {
      "application/javascript": [
       "\n",
       "                    $(\"#pm_label5134bdf5\").text(\"Downloaded 2138112 of 2924631 bytes\");\n",
       "                    $(\"#pm_progress5134bdf5\").attr(\"value\", 73.11);\n",
       "                "
      ],
      "text/plain": [
       "<IPython.core.display.Javascript object>"
      ]
     },
     "metadata": {},
     "output_type": "display_data"
    },
    {
     "data": {
      "application/javascript": [
       "\n",
       "                    $(\"#pm_label5134bdf5\").text(\"Downloaded 2146304 of 2924631 bytes\");\n",
       "                    $(\"#pm_progress5134bdf5\").attr(\"value\", 73.39);\n",
       "                "
      ],
      "text/plain": [
       "<IPython.core.display.Javascript object>"
      ]
     },
     "metadata": {},
     "output_type": "display_data"
    },
    {
     "data": {
      "application/javascript": [
       "\n",
       "                    $(\"#pm_label5134bdf5\").text(\"Downloaded 2154496 of 2924631 bytes\");\n",
       "                    $(\"#pm_progress5134bdf5\").attr(\"value\", 73.67);\n",
       "                "
      ],
      "text/plain": [
       "<IPython.core.display.Javascript object>"
      ]
     },
     "metadata": {},
     "output_type": "display_data"
    },
    {
     "data": {
      "application/javascript": [
       "\n",
       "                    $(\"#pm_label5134bdf5\").text(\"Downloaded 2162688 of 2924631 bytes\");\n",
       "                    $(\"#pm_progress5134bdf5\").attr(\"value\", 73.95);\n",
       "                "
      ],
      "text/plain": [
       "<IPython.core.display.Javascript object>"
      ]
     },
     "metadata": {},
     "output_type": "display_data"
    },
    {
     "data": {
      "application/javascript": [
       "\n",
       "                    $(\"#pm_label5134bdf5\").text(\"Downloaded 2170880 of 2924631 bytes\");\n",
       "                    $(\"#pm_progress5134bdf5\").attr(\"value\", 74.23);\n",
       "                "
      ],
      "text/plain": [
       "<IPython.core.display.Javascript object>"
      ]
     },
     "metadata": {},
     "output_type": "display_data"
    },
    {
     "data": {
      "application/javascript": [
       "\n",
       "                    $(\"#pm_label5134bdf5\").text(\"Downloaded 2179072 of 2924631 bytes\");\n",
       "                    $(\"#pm_progress5134bdf5\").attr(\"value\", 74.51);\n",
       "                "
      ],
      "text/plain": [
       "<IPython.core.display.Javascript object>"
      ]
     },
     "metadata": {},
     "output_type": "display_data"
    },
    {
     "data": {
      "application/javascript": [
       "\n",
       "                    $(\"#pm_label5134bdf5\").text(\"Downloaded 2187264 of 2924631 bytes\");\n",
       "                    $(\"#pm_progress5134bdf5\").attr(\"value\", 74.79);\n",
       "                "
      ],
      "text/plain": [
       "<IPython.core.display.Javascript object>"
      ]
     },
     "metadata": {},
     "output_type": "display_data"
    },
    {
     "data": {
      "application/javascript": [
       "\n",
       "                    $(\"#pm_label5134bdf5\").text(\"Downloaded 2195456 of 2924631 bytes\");\n",
       "                    $(\"#pm_progress5134bdf5\").attr(\"value\", 75.07);\n",
       "                "
      ],
      "text/plain": [
       "<IPython.core.display.Javascript object>"
      ]
     },
     "metadata": {},
     "output_type": "display_data"
    },
    {
     "data": {
      "application/javascript": [
       "\n",
       "                    $(\"#pm_label5134bdf5\").text(\"Downloaded 2203648 of 2924631 bytes\");\n",
       "                    $(\"#pm_progress5134bdf5\").attr(\"value\", 75.35);\n",
       "                "
      ],
      "text/plain": [
       "<IPython.core.display.Javascript object>"
      ]
     },
     "metadata": {},
     "output_type": "display_data"
    },
    {
     "data": {
      "application/javascript": [
       "\n",
       "                    $(\"#pm_label5134bdf5\").text(\"Downloaded 2211840 of 2924631 bytes\");\n",
       "                    $(\"#pm_progress5134bdf5\").attr(\"value\", 75.63);\n",
       "                "
      ],
      "text/plain": [
       "<IPython.core.display.Javascript object>"
      ]
     },
     "metadata": {},
     "output_type": "display_data"
    },
    {
     "data": {
      "application/javascript": [
       "\n",
       "                    $(\"#pm_label5134bdf5\").text(\"Downloaded 2220032 of 2924631 bytes\");\n",
       "                    $(\"#pm_progress5134bdf5\").attr(\"value\", 75.91);\n",
       "                "
      ],
      "text/plain": [
       "<IPython.core.display.Javascript object>"
      ]
     },
     "metadata": {},
     "output_type": "display_data"
    },
    {
     "data": {
      "application/javascript": [
       "\n",
       "                    $(\"#pm_label5134bdf5\").text(\"Downloaded 2228224 of 2924631 bytes\");\n",
       "                    $(\"#pm_progress5134bdf5\").attr(\"value\", 76.19);\n",
       "                "
      ],
      "text/plain": [
       "<IPython.core.display.Javascript object>"
      ]
     },
     "metadata": {},
     "output_type": "display_data"
    },
    {
     "data": {
      "application/javascript": [
       "\n",
       "                    $(\"#pm_label5134bdf5\").text(\"Downloaded 2236416 of 2924631 bytes\");\n",
       "                    $(\"#pm_progress5134bdf5\").attr(\"value\", 76.47);\n",
       "                "
      ],
      "text/plain": [
       "<IPython.core.display.Javascript object>"
      ]
     },
     "metadata": {},
     "output_type": "display_data"
    },
    {
     "data": {
      "application/javascript": [
       "\n",
       "                    $(\"#pm_label5134bdf5\").text(\"Downloaded 2244608 of 2924631 bytes\");\n",
       "                    $(\"#pm_progress5134bdf5\").attr(\"value\", 76.75);\n",
       "                "
      ],
      "text/plain": [
       "<IPython.core.display.Javascript object>"
      ]
     },
     "metadata": {},
     "output_type": "display_data"
    },
    {
     "data": {
      "application/javascript": [
       "\n",
       "                    $(\"#pm_label5134bdf5\").text(\"Downloaded 2252800 of 2924631 bytes\");\n",
       "                    $(\"#pm_progress5134bdf5\").attr(\"value\", 77.03);\n",
       "                "
      ],
      "text/plain": [
       "<IPython.core.display.Javascript object>"
      ]
     },
     "metadata": {},
     "output_type": "display_data"
    },
    {
     "data": {
      "application/javascript": [
       "\n",
       "                    $(\"#pm_label5134bdf5\").text(\"Downloaded 2260992 of 2924631 bytes\");\n",
       "                    $(\"#pm_progress5134bdf5\").attr(\"value\", 77.31);\n",
       "                "
      ],
      "text/plain": [
       "<IPython.core.display.Javascript object>"
      ]
     },
     "metadata": {},
     "output_type": "display_data"
    },
    {
     "data": {
      "application/javascript": [
       "\n",
       "                    $(\"#pm_label5134bdf5\").text(\"Downloaded 2269184 of 2924631 bytes\");\n",
       "                    $(\"#pm_progress5134bdf5\").attr(\"value\", 77.59);\n",
       "                "
      ],
      "text/plain": [
       "<IPython.core.display.Javascript object>"
      ]
     },
     "metadata": {},
     "output_type": "display_data"
    },
    {
     "data": {
      "application/javascript": [
       "\n",
       "                    $(\"#pm_label5134bdf5\").text(\"Downloaded 2277376 of 2924631 bytes\");\n",
       "                    $(\"#pm_progress5134bdf5\").attr(\"value\", 77.87);\n",
       "                "
      ],
      "text/plain": [
       "<IPython.core.display.Javascript object>"
      ]
     },
     "metadata": {},
     "output_type": "display_data"
    },
    {
     "data": {
      "application/javascript": [
       "\n",
       "                    $(\"#pm_label5134bdf5\").text(\"Downloaded 2285568 of 2924631 bytes\");\n",
       "                    $(\"#pm_progress5134bdf5\").attr(\"value\", 78.15);\n",
       "                "
      ],
      "text/plain": [
       "<IPython.core.display.Javascript object>"
      ]
     },
     "metadata": {},
     "output_type": "display_data"
    },
    {
     "data": {
      "application/javascript": [
       "\n",
       "                    $(\"#pm_label5134bdf5\").text(\"Downloaded 2293760 of 2924631 bytes\");\n",
       "                    $(\"#pm_progress5134bdf5\").attr(\"value\", 78.43);\n",
       "                "
      ],
      "text/plain": [
       "<IPython.core.display.Javascript object>"
      ]
     },
     "metadata": {},
     "output_type": "display_data"
    },
    {
     "data": {
      "application/javascript": [
       "\n",
       "                    $(\"#pm_label5134bdf5\").text(\"Downloaded 2301952 of 2924631 bytes\");\n",
       "                    $(\"#pm_progress5134bdf5\").attr(\"value\", 78.71);\n",
       "                "
      ],
      "text/plain": [
       "<IPython.core.display.Javascript object>"
      ]
     },
     "metadata": {},
     "output_type": "display_data"
    },
    {
     "data": {
      "application/javascript": [
       "\n",
       "                    $(\"#pm_label5134bdf5\").text(\"Downloaded 2310144 of 2924631 bytes\");\n",
       "                    $(\"#pm_progress5134bdf5\").attr(\"value\", 78.99);\n",
       "                "
      ],
      "text/plain": [
       "<IPython.core.display.Javascript object>"
      ]
     },
     "metadata": {},
     "output_type": "display_data"
    },
    {
     "data": {
      "application/javascript": [
       "\n",
       "                    $(\"#pm_label5134bdf5\").text(\"Downloaded 2318336 of 2924631 bytes\");\n",
       "                    $(\"#pm_progress5134bdf5\").attr(\"value\", 79.27);\n",
       "                "
      ],
      "text/plain": [
       "<IPython.core.display.Javascript object>"
      ]
     },
     "metadata": {},
     "output_type": "display_data"
    },
    {
     "data": {
      "application/javascript": [
       "\n",
       "                    $(\"#pm_label5134bdf5\").text(\"Downloaded 2326528 of 2924631 bytes\");\n",
       "                    $(\"#pm_progress5134bdf5\").attr(\"value\", 79.55);\n",
       "                "
      ],
      "text/plain": [
       "<IPython.core.display.Javascript object>"
      ]
     },
     "metadata": {},
     "output_type": "display_data"
    },
    {
     "data": {
      "application/javascript": [
       "\n",
       "                    $(\"#pm_label5134bdf5\").text(\"Downloaded 2334720 of 2924631 bytes\");\n",
       "                    $(\"#pm_progress5134bdf5\").attr(\"value\", 79.83);\n",
       "                "
      ],
      "text/plain": [
       "<IPython.core.display.Javascript object>"
      ]
     },
     "metadata": {},
     "output_type": "display_data"
    },
    {
     "data": {
      "application/javascript": [
       "\n",
       "                    $(\"#pm_label5134bdf5\").text(\"Downloaded 2342912 of 2924631 bytes\");\n",
       "                    $(\"#pm_progress5134bdf5\").attr(\"value\", 80.11);\n",
       "                "
      ],
      "text/plain": [
       "<IPython.core.display.Javascript object>"
      ]
     },
     "metadata": {},
     "output_type": "display_data"
    },
    {
     "data": {
      "application/javascript": [
       "\n",
       "                    $(\"#pm_label5134bdf5\").text(\"Downloaded 2351104 of 2924631 bytes\");\n",
       "                    $(\"#pm_progress5134bdf5\").attr(\"value\", 80.39);\n",
       "                "
      ],
      "text/plain": [
       "<IPython.core.display.Javascript object>"
      ]
     },
     "metadata": {},
     "output_type": "display_data"
    },
    {
     "data": {
      "application/javascript": [
       "\n",
       "                    $(\"#pm_label5134bdf5\").text(\"Downloaded 2359296 of 2924631 bytes\");\n",
       "                    $(\"#pm_progress5134bdf5\").attr(\"value\", 80.67);\n",
       "                "
      ],
      "text/plain": [
       "<IPython.core.display.Javascript object>"
      ]
     },
     "metadata": {},
     "output_type": "display_data"
    },
    {
     "data": {
      "application/javascript": [
       "\n",
       "                    $(\"#pm_label5134bdf5\").text(\"Downloaded 2367488 of 2924631 bytes\");\n",
       "                    $(\"#pm_progress5134bdf5\").attr(\"value\", 80.95);\n",
       "                "
      ],
      "text/plain": [
       "<IPython.core.display.Javascript object>"
      ]
     },
     "metadata": {},
     "output_type": "display_data"
    },
    {
     "data": {
      "application/javascript": [
       "\n",
       "                    $(\"#pm_label5134bdf5\").text(\"Downloaded 2375680 of 2924631 bytes\");\n",
       "                    $(\"#pm_progress5134bdf5\").attr(\"value\", 81.23);\n",
       "                "
      ],
      "text/plain": [
       "<IPython.core.display.Javascript object>"
      ]
     },
     "metadata": {},
     "output_type": "display_data"
    },
    {
     "data": {
      "application/javascript": [
       "\n",
       "                    $(\"#pm_label5134bdf5\").text(\"Downloaded 2383872 of 2924631 bytes\");\n",
       "                    $(\"#pm_progress5134bdf5\").attr(\"value\", 81.51);\n",
       "                "
      ],
      "text/plain": [
       "<IPython.core.display.Javascript object>"
      ]
     },
     "metadata": {},
     "output_type": "display_data"
    },
    {
     "data": {
      "application/javascript": [
       "\n",
       "                    $(\"#pm_label5134bdf5\").text(\"Downloaded 2392064 of 2924631 bytes\");\n",
       "                    $(\"#pm_progress5134bdf5\").attr(\"value\", 81.79);\n",
       "                "
      ],
      "text/plain": [
       "<IPython.core.display.Javascript object>"
      ]
     },
     "metadata": {},
     "output_type": "display_data"
    },
    {
     "data": {
      "application/javascript": [
       "\n",
       "                    $(\"#pm_label5134bdf5\").text(\"Downloaded 2400256 of 2924631 bytes\");\n",
       "                    $(\"#pm_progress5134bdf5\").attr(\"value\", 82.07);\n",
       "                "
      ],
      "text/plain": [
       "<IPython.core.display.Javascript object>"
      ]
     },
     "metadata": {},
     "output_type": "display_data"
    },
    {
     "data": {
      "application/javascript": [
       "\n",
       "                    $(\"#pm_label5134bdf5\").text(\"Downloaded 2408448 of 2924631 bytes\");\n",
       "                    $(\"#pm_progress5134bdf5\").attr(\"value\", 82.35);\n",
       "                "
      ],
      "text/plain": [
       "<IPython.core.display.Javascript object>"
      ]
     },
     "metadata": {},
     "output_type": "display_data"
    },
    {
     "data": {
      "application/javascript": [
       "\n",
       "                    $(\"#pm_label5134bdf5\").text(\"Downloaded 2416640 of 2924631 bytes\");\n",
       "                    $(\"#pm_progress5134bdf5\").attr(\"value\", 82.63);\n",
       "                "
      ],
      "text/plain": [
       "<IPython.core.display.Javascript object>"
      ]
     },
     "metadata": {},
     "output_type": "display_data"
    },
    {
     "data": {
      "application/javascript": [
       "\n",
       "                    $(\"#pm_label5134bdf5\").text(\"Downloaded 2424832 of 2924631 bytes\");\n",
       "                    $(\"#pm_progress5134bdf5\").attr(\"value\", 82.91);\n",
       "                "
      ],
      "text/plain": [
       "<IPython.core.display.Javascript object>"
      ]
     },
     "metadata": {},
     "output_type": "display_data"
    },
    {
     "data": {
      "application/javascript": [
       "\n",
       "                    $(\"#pm_label5134bdf5\").text(\"Downloaded 2433024 of 2924631 bytes\");\n",
       "                    $(\"#pm_progress5134bdf5\").attr(\"value\", 83.19);\n",
       "                "
      ],
      "text/plain": [
       "<IPython.core.display.Javascript object>"
      ]
     },
     "metadata": {},
     "output_type": "display_data"
    },
    {
     "data": {
      "application/javascript": [
       "\n",
       "                    $(\"#pm_label5134bdf5\").text(\"Downloaded 2441216 of 2924631 bytes\");\n",
       "                    $(\"#pm_progress5134bdf5\").attr(\"value\", 83.47);\n",
       "                "
      ],
      "text/plain": [
       "<IPython.core.display.Javascript object>"
      ]
     },
     "metadata": {},
     "output_type": "display_data"
    },
    {
     "data": {
      "application/javascript": [
       "\n",
       "                    $(\"#pm_label5134bdf5\").text(\"Downloaded 2449408 of 2924631 bytes\");\n",
       "                    $(\"#pm_progress5134bdf5\").attr(\"value\", 83.75);\n",
       "                "
      ],
      "text/plain": [
       "<IPython.core.display.Javascript object>"
      ]
     },
     "metadata": {},
     "output_type": "display_data"
    },
    {
     "data": {
      "application/javascript": [
       "\n",
       "                    $(\"#pm_label5134bdf5\").text(\"Downloaded 2457600 of 2924631 bytes\");\n",
       "                    $(\"#pm_progress5134bdf5\").attr(\"value\", 84.03);\n",
       "                "
      ],
      "text/plain": [
       "<IPython.core.display.Javascript object>"
      ]
     },
     "metadata": {},
     "output_type": "display_data"
    },
    {
     "data": {
      "application/javascript": [
       "\n",
       "                    $(\"#pm_label5134bdf5\").text(\"Downloaded 2465792 of 2924631 bytes\");\n",
       "                    $(\"#pm_progress5134bdf5\").attr(\"value\", 84.31);\n",
       "                "
      ],
      "text/plain": [
       "<IPython.core.display.Javascript object>"
      ]
     },
     "metadata": {},
     "output_type": "display_data"
    },
    {
     "data": {
      "application/javascript": [
       "\n",
       "                    $(\"#pm_label5134bdf5\").text(\"Downloaded 2473984 of 2924631 bytes\");\n",
       "                    $(\"#pm_progress5134bdf5\").attr(\"value\", 84.59);\n",
       "                "
      ],
      "text/plain": [
       "<IPython.core.display.Javascript object>"
      ]
     },
     "metadata": {},
     "output_type": "display_data"
    },
    {
     "data": {
      "application/javascript": [
       "\n",
       "                    $(\"#pm_label5134bdf5\").text(\"Downloaded 2482176 of 2924631 bytes\");\n",
       "                    $(\"#pm_progress5134bdf5\").attr(\"value\", 84.87);\n",
       "                "
      ],
      "text/plain": [
       "<IPython.core.display.Javascript object>"
      ]
     },
     "metadata": {},
     "output_type": "display_data"
    },
    {
     "data": {
      "application/javascript": [
       "\n",
       "                    $(\"#pm_label5134bdf5\").text(\"Downloaded 2490368 of 2924631 bytes\");\n",
       "                    $(\"#pm_progress5134bdf5\").attr(\"value\", 85.15);\n",
       "                "
      ],
      "text/plain": [
       "<IPython.core.display.Javascript object>"
      ]
     },
     "metadata": {},
     "output_type": "display_data"
    },
    {
     "data": {
      "application/javascript": [
       "\n",
       "                    $(\"#pm_label5134bdf5\").text(\"Downloaded 2498560 of 2924631 bytes\");\n",
       "                    $(\"#pm_progress5134bdf5\").attr(\"value\", 85.43);\n",
       "                "
      ],
      "text/plain": [
       "<IPython.core.display.Javascript object>"
      ]
     },
     "metadata": {},
     "output_type": "display_data"
    },
    {
     "data": {
      "application/javascript": [
       "\n",
       "                    $(\"#pm_label5134bdf5\").text(\"Downloaded 2506752 of 2924631 bytes\");\n",
       "                    $(\"#pm_progress5134bdf5\").attr(\"value\", 85.71);\n",
       "                "
      ],
      "text/plain": [
       "<IPython.core.display.Javascript object>"
      ]
     },
     "metadata": {},
     "output_type": "display_data"
    },
    {
     "data": {
      "application/javascript": [
       "\n",
       "                    $(\"#pm_label5134bdf5\").text(\"Downloaded 2514944 of 2924631 bytes\");\n",
       "                    $(\"#pm_progress5134bdf5\").attr(\"value\", 85.99);\n",
       "                "
      ],
      "text/plain": [
       "<IPython.core.display.Javascript object>"
      ]
     },
     "metadata": {},
     "output_type": "display_data"
    },
    {
     "data": {
      "application/javascript": [
       "\n",
       "                    $(\"#pm_label5134bdf5\").text(\"Downloaded 2523136 of 2924631 bytes\");\n",
       "                    $(\"#pm_progress5134bdf5\").attr(\"value\", 86.27);\n",
       "                "
      ],
      "text/plain": [
       "<IPython.core.display.Javascript object>"
      ]
     },
     "metadata": {},
     "output_type": "display_data"
    },
    {
     "data": {
      "application/javascript": [
       "\n",
       "                    $(\"#pm_label5134bdf5\").text(\"Downloaded 2531328 of 2924631 bytes\");\n",
       "                    $(\"#pm_progress5134bdf5\").attr(\"value\", 86.55);\n",
       "                "
      ],
      "text/plain": [
       "<IPython.core.display.Javascript object>"
      ]
     },
     "metadata": {},
     "output_type": "display_data"
    },
    {
     "data": {
      "application/javascript": [
       "\n",
       "                    $(\"#pm_label5134bdf5\").text(\"Downloaded 2539520 of 2924631 bytes\");\n",
       "                    $(\"#pm_progress5134bdf5\").attr(\"value\", 86.83);\n",
       "                "
      ],
      "text/plain": [
       "<IPython.core.display.Javascript object>"
      ]
     },
     "metadata": {},
     "output_type": "display_data"
    },
    {
     "data": {
      "application/javascript": [
       "\n",
       "                    $(\"#pm_label5134bdf5\").text(\"Downloaded 2547712 of 2924631 bytes\");\n",
       "                    $(\"#pm_progress5134bdf5\").attr(\"value\", 87.11);\n",
       "                "
      ],
      "text/plain": [
       "<IPython.core.display.Javascript object>"
      ]
     },
     "metadata": {},
     "output_type": "display_data"
    },
    {
     "data": {
      "application/javascript": [
       "\n",
       "                    $(\"#pm_label5134bdf5\").text(\"Downloaded 2555904 of 2924631 bytes\");\n",
       "                    $(\"#pm_progress5134bdf5\").attr(\"value\", 87.39);\n",
       "                "
      ],
      "text/plain": [
       "<IPython.core.display.Javascript object>"
      ]
     },
     "metadata": {},
     "output_type": "display_data"
    },
    {
     "data": {
      "application/javascript": [
       "\n",
       "                    $(\"#pm_label5134bdf5\").text(\"Downloaded 2564096 of 2924631 bytes\");\n",
       "                    $(\"#pm_progress5134bdf5\").attr(\"value\", 87.67);\n",
       "                "
      ],
      "text/plain": [
       "<IPython.core.display.Javascript object>"
      ]
     },
     "metadata": {},
     "output_type": "display_data"
    },
    {
     "data": {
      "application/javascript": [
       "\n",
       "                    $(\"#pm_label5134bdf5\").text(\"Downloaded 2572288 of 2924631 bytes\");\n",
       "                    $(\"#pm_progress5134bdf5\").attr(\"value\", 87.95);\n",
       "                "
      ],
      "text/plain": [
       "<IPython.core.display.Javascript object>"
      ]
     },
     "metadata": {},
     "output_type": "display_data"
    },
    {
     "data": {
      "application/javascript": [
       "\n",
       "                    $(\"#pm_label5134bdf5\").text(\"Downloaded 2580480 of 2924631 bytes\");\n",
       "                    $(\"#pm_progress5134bdf5\").attr(\"value\", 88.23);\n",
       "                "
      ],
      "text/plain": [
       "<IPython.core.display.Javascript object>"
      ]
     },
     "metadata": {},
     "output_type": "display_data"
    },
    {
     "data": {
      "application/javascript": [
       "\n",
       "                    $(\"#pm_label5134bdf5\").text(\"Downloaded 2588672 of 2924631 bytes\");\n",
       "                    $(\"#pm_progress5134bdf5\").attr(\"value\", 88.51);\n",
       "                "
      ],
      "text/plain": [
       "<IPython.core.display.Javascript object>"
      ]
     },
     "metadata": {},
     "output_type": "display_data"
    },
    {
     "data": {
      "application/javascript": [
       "\n",
       "                    $(\"#pm_label5134bdf5\").text(\"Downloaded 2596864 of 2924631 bytes\");\n",
       "                    $(\"#pm_progress5134bdf5\").attr(\"value\", 88.79);\n",
       "                "
      ],
      "text/plain": [
       "<IPython.core.display.Javascript object>"
      ]
     },
     "metadata": {},
     "output_type": "display_data"
    },
    {
     "data": {
      "application/javascript": [
       "\n",
       "                    $(\"#pm_label5134bdf5\").text(\"Downloaded 2605056 of 2924631 bytes\");\n",
       "                    $(\"#pm_progress5134bdf5\").attr(\"value\", 89.07);\n",
       "                "
      ],
      "text/plain": [
       "<IPython.core.display.Javascript object>"
      ]
     },
     "metadata": {},
     "output_type": "display_data"
    },
    {
     "data": {
      "application/javascript": [
       "\n",
       "                    $(\"#pm_label5134bdf5\").text(\"Downloaded 2613248 of 2924631 bytes\");\n",
       "                    $(\"#pm_progress5134bdf5\").attr(\"value\", 89.35);\n",
       "                "
      ],
      "text/plain": [
       "<IPython.core.display.Javascript object>"
      ]
     },
     "metadata": {},
     "output_type": "display_data"
    },
    {
     "data": {
      "application/javascript": [
       "\n",
       "                    $(\"#pm_label5134bdf5\").text(\"Downloaded 2621440 of 2924631 bytes\");\n",
       "                    $(\"#pm_progress5134bdf5\").attr(\"value\", 89.63);\n",
       "                "
      ],
      "text/plain": [
       "<IPython.core.display.Javascript object>"
      ]
     },
     "metadata": {},
     "output_type": "display_data"
    },
    {
     "data": {
      "application/javascript": [
       "\n",
       "                    $(\"#pm_label5134bdf5\").text(\"Downloaded 2629632 of 2924631 bytes\");\n",
       "                    $(\"#pm_progress5134bdf5\").attr(\"value\", 89.91);\n",
       "                "
      ],
      "text/plain": [
       "<IPython.core.display.Javascript object>"
      ]
     },
     "metadata": {},
     "output_type": "display_data"
    },
    {
     "data": {
      "application/javascript": [
       "\n",
       "                    $(\"#pm_label5134bdf5\").text(\"Downloaded 2637824 of 2924631 bytes\");\n",
       "                    $(\"#pm_progress5134bdf5\").attr(\"value\", 90.19);\n",
       "                "
      ],
      "text/plain": [
       "<IPython.core.display.Javascript object>"
      ]
     },
     "metadata": {},
     "output_type": "display_data"
    },
    {
     "data": {
      "application/javascript": [
       "\n",
       "                    $(\"#pm_label5134bdf5\").text(\"Downloaded 2646016 of 2924631 bytes\");\n",
       "                    $(\"#pm_progress5134bdf5\").attr(\"value\", 90.47);\n",
       "                "
      ],
      "text/plain": [
       "<IPython.core.display.Javascript object>"
      ]
     },
     "metadata": {},
     "output_type": "display_data"
    },
    {
     "data": {
      "application/javascript": [
       "\n",
       "                    $(\"#pm_label5134bdf5\").text(\"Downloaded 2654208 of 2924631 bytes\");\n",
       "                    $(\"#pm_progress5134bdf5\").attr(\"value\", 90.75);\n",
       "                "
      ],
      "text/plain": [
       "<IPython.core.display.Javascript object>"
      ]
     },
     "metadata": {},
     "output_type": "display_data"
    },
    {
     "data": {
      "application/javascript": [
       "\n",
       "                    $(\"#pm_label5134bdf5\").text(\"Downloaded 2662400 of 2924631 bytes\");\n",
       "                    $(\"#pm_progress5134bdf5\").attr(\"value\", 91.03);\n",
       "                "
      ],
      "text/plain": [
       "<IPython.core.display.Javascript object>"
      ]
     },
     "metadata": {},
     "output_type": "display_data"
    },
    {
     "data": {
      "application/javascript": [
       "\n",
       "                    $(\"#pm_label5134bdf5\").text(\"Downloaded 2670592 of 2924631 bytes\");\n",
       "                    $(\"#pm_progress5134bdf5\").attr(\"value\", 91.31);\n",
       "                "
      ],
      "text/plain": [
       "<IPython.core.display.Javascript object>"
      ]
     },
     "metadata": {},
     "output_type": "display_data"
    },
    {
     "data": {
      "application/javascript": [
       "\n",
       "                    $(\"#pm_label5134bdf5\").text(\"Downloaded 2678784 of 2924631 bytes\");\n",
       "                    $(\"#pm_progress5134bdf5\").attr(\"value\", 91.59);\n",
       "                "
      ],
      "text/plain": [
       "<IPython.core.display.Javascript object>"
      ]
     },
     "metadata": {},
     "output_type": "display_data"
    },
    {
     "data": {
      "application/javascript": [
       "\n",
       "                    $(\"#pm_label5134bdf5\").text(\"Downloaded 2686976 of 2924631 bytes\");\n",
       "                    $(\"#pm_progress5134bdf5\").attr(\"value\", 91.87);\n",
       "                "
      ],
      "text/plain": [
       "<IPython.core.display.Javascript object>"
      ]
     },
     "metadata": {},
     "output_type": "display_data"
    },
    {
     "data": {
      "application/javascript": [
       "\n",
       "                    $(\"#pm_label5134bdf5\").text(\"Downloaded 2695168 of 2924631 bytes\");\n",
       "                    $(\"#pm_progress5134bdf5\").attr(\"value\", 92.15);\n",
       "                "
      ],
      "text/plain": [
       "<IPython.core.display.Javascript object>"
      ]
     },
     "metadata": {},
     "output_type": "display_data"
    },
    {
     "data": {
      "application/javascript": [
       "\n",
       "                    $(\"#pm_label5134bdf5\").text(\"Downloaded 2703360 of 2924631 bytes\");\n",
       "                    $(\"#pm_progress5134bdf5\").attr(\"value\", 92.43);\n",
       "                "
      ],
      "text/plain": [
       "<IPython.core.display.Javascript object>"
      ]
     },
     "metadata": {},
     "output_type": "display_data"
    },
    {
     "data": {
      "application/javascript": [
       "\n",
       "                    $(\"#pm_label5134bdf5\").text(\"Downloaded 2711552 of 2924631 bytes\");\n",
       "                    $(\"#pm_progress5134bdf5\").attr(\"value\", 92.71);\n",
       "                "
      ],
      "text/plain": [
       "<IPython.core.display.Javascript object>"
      ]
     },
     "metadata": {},
     "output_type": "display_data"
    },
    {
     "data": {
      "application/javascript": [
       "\n",
       "                    $(\"#pm_label5134bdf5\").text(\"Downloaded 2719744 of 2924631 bytes\");\n",
       "                    $(\"#pm_progress5134bdf5\").attr(\"value\", 92.99);\n",
       "                "
      ],
      "text/plain": [
       "<IPython.core.display.Javascript object>"
      ]
     },
     "metadata": {},
     "output_type": "display_data"
    },
    {
     "data": {
      "application/javascript": [
       "\n",
       "                    $(\"#pm_label5134bdf5\").text(\"Downloaded 2727936 of 2924631 bytes\");\n",
       "                    $(\"#pm_progress5134bdf5\").attr(\"value\", 93.27);\n",
       "                "
      ],
      "text/plain": [
       "<IPython.core.display.Javascript object>"
      ]
     },
     "metadata": {},
     "output_type": "display_data"
    },
    {
     "data": {
      "application/javascript": [
       "\n",
       "                    $(\"#pm_label5134bdf5\").text(\"Downloaded 2736128 of 2924631 bytes\");\n",
       "                    $(\"#pm_progress5134bdf5\").attr(\"value\", 93.55);\n",
       "                "
      ],
      "text/plain": [
       "<IPython.core.display.Javascript object>"
      ]
     },
     "metadata": {},
     "output_type": "display_data"
    },
    {
     "data": {
      "application/javascript": [
       "\n",
       "                    $(\"#pm_label5134bdf5\").text(\"Downloaded 2744320 of 2924631 bytes\");\n",
       "                    $(\"#pm_progress5134bdf5\").attr(\"value\", 93.83);\n",
       "                "
      ],
      "text/plain": [
       "<IPython.core.display.Javascript object>"
      ]
     },
     "metadata": {},
     "output_type": "display_data"
    },
    {
     "data": {
      "application/javascript": [
       "\n",
       "                    $(\"#pm_label5134bdf5\").text(\"Downloaded 2752512 of 2924631 bytes\");\n",
       "                    $(\"#pm_progress5134bdf5\").attr(\"value\", 94.11);\n",
       "                "
      ],
      "text/plain": [
       "<IPython.core.display.Javascript object>"
      ]
     },
     "metadata": {},
     "output_type": "display_data"
    },
    {
     "data": {
      "application/javascript": [
       "\n",
       "                    $(\"#pm_label5134bdf5\").text(\"Downloaded 2760704 of 2924631 bytes\");\n",
       "                    $(\"#pm_progress5134bdf5\").attr(\"value\", 94.39);\n",
       "                "
      ],
      "text/plain": [
       "<IPython.core.display.Javascript object>"
      ]
     },
     "metadata": {},
     "output_type": "display_data"
    },
    {
     "data": {
      "application/javascript": [
       "\n",
       "                    $(\"#pm_label5134bdf5\").text(\"Downloaded 2768896 of 2924631 bytes\");\n",
       "                    $(\"#pm_progress5134bdf5\").attr(\"value\", 94.68);\n",
       "                "
      ],
      "text/plain": [
       "<IPython.core.display.Javascript object>"
      ]
     },
     "metadata": {},
     "output_type": "display_data"
    },
    {
     "data": {
      "application/javascript": [
       "\n",
       "                    $(\"#pm_label5134bdf5\").text(\"Downloaded 2777088 of 2924631 bytes\");\n",
       "                    $(\"#pm_progress5134bdf5\").attr(\"value\", 94.96);\n",
       "                "
      ],
      "text/plain": [
       "<IPython.core.display.Javascript object>"
      ]
     },
     "metadata": {},
     "output_type": "display_data"
    },
    {
     "data": {
      "application/javascript": [
       "\n",
       "                    $(\"#pm_label5134bdf5\").text(\"Downloaded 2785280 of 2924631 bytes\");\n",
       "                    $(\"#pm_progress5134bdf5\").attr(\"value\", 95.24);\n",
       "                "
      ],
      "text/plain": [
       "<IPython.core.display.Javascript object>"
      ]
     },
     "metadata": {},
     "output_type": "display_data"
    },
    {
     "data": {
      "application/javascript": [
       "\n",
       "                    $(\"#pm_label5134bdf5\").text(\"Downloaded 2793472 of 2924631 bytes\");\n",
       "                    $(\"#pm_progress5134bdf5\").attr(\"value\", 95.52);\n",
       "                "
      ],
      "text/plain": [
       "<IPython.core.display.Javascript object>"
      ]
     },
     "metadata": {},
     "output_type": "display_data"
    },
    {
     "data": {
      "application/javascript": [
       "\n",
       "                    $(\"#pm_label5134bdf5\").text(\"Downloaded 2801664 of 2924631 bytes\");\n",
       "                    $(\"#pm_progress5134bdf5\").attr(\"value\", 95.8);\n",
       "                "
      ],
      "text/plain": [
       "<IPython.core.display.Javascript object>"
      ]
     },
     "metadata": {},
     "output_type": "display_data"
    },
    {
     "data": {
      "application/javascript": [
       "\n",
       "                    $(\"#pm_label5134bdf5\").text(\"Downloaded 2809856 of 2924631 bytes\");\n",
       "                    $(\"#pm_progress5134bdf5\").attr(\"value\", 96.08);\n",
       "                "
      ],
      "text/plain": [
       "<IPython.core.display.Javascript object>"
      ]
     },
     "metadata": {},
     "output_type": "display_data"
    },
    {
     "data": {
      "application/javascript": [
       "\n",
       "                    $(\"#pm_label5134bdf5\").text(\"Downloaded 2818048 of 2924631 bytes\");\n",
       "                    $(\"#pm_progress5134bdf5\").attr(\"value\", 96.36);\n",
       "                "
      ],
      "text/plain": [
       "<IPython.core.display.Javascript object>"
      ]
     },
     "metadata": {},
     "output_type": "display_data"
    },
    {
     "data": {
      "application/javascript": [
       "\n",
       "                    $(\"#pm_label5134bdf5\").text(\"Downloaded 2826240 of 2924631 bytes\");\n",
       "                    $(\"#pm_progress5134bdf5\").attr(\"value\", 96.64);\n",
       "                "
      ],
      "text/plain": [
       "<IPython.core.display.Javascript object>"
      ]
     },
     "metadata": {},
     "output_type": "display_data"
    },
    {
     "data": {
      "application/javascript": [
       "\n",
       "                    $(\"#pm_label5134bdf5\").text(\"Downloaded 2834432 of 2924631 bytes\");\n",
       "                    $(\"#pm_progress5134bdf5\").attr(\"value\", 96.92);\n",
       "                "
      ],
      "text/plain": [
       "<IPython.core.display.Javascript object>"
      ]
     },
     "metadata": {},
     "output_type": "display_data"
    },
    {
     "data": {
      "application/javascript": [
       "\n",
       "                    $(\"#pm_label5134bdf5\").text(\"Downloaded 2842624 of 2924631 bytes\");\n",
       "                    $(\"#pm_progress5134bdf5\").attr(\"value\", 97.2);\n",
       "                "
      ],
      "text/plain": [
       "<IPython.core.display.Javascript object>"
      ]
     },
     "metadata": {},
     "output_type": "display_data"
    },
    {
     "data": {
      "application/javascript": [
       "\n",
       "                    $(\"#pm_label5134bdf5\").text(\"Downloaded 2850816 of 2924631 bytes\");\n",
       "                    $(\"#pm_progress5134bdf5\").attr(\"value\", 97.48);\n",
       "                "
      ],
      "text/plain": [
       "<IPython.core.display.Javascript object>"
      ]
     },
     "metadata": {},
     "output_type": "display_data"
    },
    {
     "data": {
      "application/javascript": [
       "\n",
       "                    $(\"#pm_label5134bdf5\").text(\"Downloaded 2859008 of 2924631 bytes\");\n",
       "                    $(\"#pm_progress5134bdf5\").attr(\"value\", 97.76);\n",
       "                "
      ],
      "text/plain": [
       "<IPython.core.display.Javascript object>"
      ]
     },
     "metadata": {},
     "output_type": "display_data"
    },
    {
     "data": {
      "application/javascript": [
       "\n",
       "                    $(\"#pm_label5134bdf5\").text(\"Downloaded 2867200 of 2924631 bytes\");\n",
       "                    $(\"#pm_progress5134bdf5\").attr(\"value\", 98.04);\n",
       "                "
      ],
      "text/plain": [
       "<IPython.core.display.Javascript object>"
      ]
     },
     "metadata": {},
     "output_type": "display_data"
    },
    {
     "data": {
      "application/javascript": [
       "\n",
       "                    $(\"#pm_label5134bdf5\").text(\"Downloaded 2875392 of 2924631 bytes\");\n",
       "                    $(\"#pm_progress5134bdf5\").attr(\"value\", 98.32);\n",
       "                "
      ],
      "text/plain": [
       "<IPython.core.display.Javascript object>"
      ]
     },
     "metadata": {},
     "output_type": "display_data"
    },
    {
     "data": {
      "application/javascript": [
       "\n",
       "                    $(\"#pm_label5134bdf5\").text(\"Downloaded 2883584 of 2924631 bytes\");\n",
       "                    $(\"#pm_progress5134bdf5\").attr(\"value\", 98.6);\n",
       "                "
      ],
      "text/plain": [
       "<IPython.core.display.Javascript object>"
      ]
     },
     "metadata": {},
     "output_type": "display_data"
    },
    {
     "data": {
      "application/javascript": [
       "\n",
       "                    $(\"#pm_label5134bdf5\").text(\"Downloaded 2891776 of 2924631 bytes\");\n",
       "                    $(\"#pm_progress5134bdf5\").attr(\"value\", 98.88);\n",
       "                "
      ],
      "text/plain": [
       "<IPython.core.display.Javascript object>"
      ]
     },
     "metadata": {},
     "output_type": "display_data"
    },
    {
     "data": {
      "application/javascript": [
       "\n",
       "                    $(\"#pm_label5134bdf5\").text(\"Downloaded 2899968 of 2924631 bytes\");\n",
       "                    $(\"#pm_progress5134bdf5\").attr(\"value\", 99.16);\n",
       "                "
      ],
      "text/plain": [
       "<IPython.core.display.Javascript object>"
      ]
     },
     "metadata": {},
     "output_type": "display_data"
    },
    {
     "data": {
      "application/javascript": [
       "\n",
       "                    $(\"#pm_label5134bdf5\").text(\"Downloaded 2908160 of 2924631 bytes\");\n",
       "                    $(\"#pm_progress5134bdf5\").attr(\"value\", 99.44);\n",
       "                "
      ],
      "text/plain": [
       "<IPython.core.display.Javascript object>"
      ]
     },
     "metadata": {},
     "output_type": "display_data"
    },
    {
     "data": {
      "application/javascript": [
       "\n",
       "                    $(\"#pm_label5134bdf5\").text(\"Downloaded 2916352 of 2924631 bytes\");\n",
       "                    $(\"#pm_progress5134bdf5\").attr(\"value\", 99.72);\n",
       "                "
      ],
      "text/plain": [
       "<IPython.core.display.Javascript object>"
      ]
     },
     "metadata": {},
     "output_type": "display_data"
    },
    {
     "data": {
      "application/javascript": [
       "\n",
       "                    $(\"#pm_label5134bdf5\").text(\"Downloaded 2924544 of 2924631 bytes\");\n",
       "                    $(\"#pm_progress5134bdf5\").attr(\"value\", 100.0);\n",
       "                "
      ],
      "text/plain": [
       "<IPython.core.display.Javascript object>"
      ]
     },
     "metadata": {},
     "output_type": "display_data"
    },
    {
     "data": {
      "application/javascript": [
       "\n",
       "                    $(\"#pm_label5134bdf5\").text(\"Downloaded 2924631 of 2924631 bytes\");\n",
       "                    $(\"#pm_progress5134bdf5\").attr(\"value\", 100.0);\n",
       "                "
      ],
      "text/plain": [
       "<IPython.core.display.Javascript object>"
      ]
     },
     "metadata": {},
     "output_type": "display_data"
    },
    {
     "name": "stdout",
     "output_type": "stream",
     "text": [
      "Creating pySpark DataFrame for 'http://files.zillowstatic.com/research/public/Zip/Zip_Zhvi_Summary_AllHomes.csv'. Please wait...\n",
      "Successfully created pySpark DataFrame for 'http://files.zillowstatic.com/research/public/Zip/Zip_Zhvi_Summary_AllHomes.csv'\n"
     ]
    }
   ],
   "source": [
    "zillow_data = pixiedust.sampleData('http://files.zillowstatic.com/research/public/Zip/Zip_Zhvi_Summary_AllHomes.csv')"
   ]
  },
  {
   "cell_type": "code",
   "execution_count": 4,
   "metadata": {
    "collapsed": false,
    "pixiedust": {
     "displayParams": {
      "handlerId": "barChart",
      "keyFields": "State",
      "legend": "false",
      "rendererId": "bokeh",
      "rowCount": "50",
      "title": "Home value by state",
      "valueFields": "Zhvi"
     }
    }
   },
   "outputs": [
    {
     "data": {
      "text/html": [
       "<style type=\"text/css\">.pd_warning{display:none;}</style><div class=\"pd_warning\"><em>Hey, there's something awesome here! To see it, open this notebook outside GitHub, in a viewer like Jupyter</em></div>"
      ],
      "text/plain": [
       "<IPython.core.display.HTML object>"
      ]
     },
     "metadata": {},
     "output_type": "display_data"
    }
   ],
   "source": [
    "display(zillow_data)"
   ]
  },
  {
   "cell_type": "code",
   "execution_count": null,
   "metadata": {
    "collapsed": true
   },
   "outputs": [],
   "source": []
  }
 ],
 "metadata": {
  "anaconda-cloud": {},
  "kernelspec": {
   "display_name": "Python with Pixiedust (Spark 2.1)",
   "language": "python",
   "name": "pythonwithpixiedustspark21"
  },
  "language_info": {
   "codemirror_mode": {
    "name": "ipython",
    "version": 3
   },
   "file_extension": ".py",
   "mimetype": "text/x-python",
   "name": "python",
   "nbconvert_exporter": "python",
   "pygments_lexer": "ipython3",
   "version": "3.5.2"
  }
 },
 "nbformat": 4,
 "nbformat_minor": 1
}
